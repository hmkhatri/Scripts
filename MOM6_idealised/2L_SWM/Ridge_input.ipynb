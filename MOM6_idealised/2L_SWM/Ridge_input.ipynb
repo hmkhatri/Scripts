{
 "cells": [
  {
   "cell_type": "markdown",
   "metadata": {},
   "source": [
    "# MOM6 input file idealised case"
   ]
  },
  {
   "cell_type": "code",
   "execution_count": 25,
   "metadata": {},
   "outputs": [],
   "source": [
    "import numpy as np\n",
    "import netCDF4 as nc\n",
    "import matplotlib.pyplot as plt\n",
    "import xarray as xr"
   ]
  },
  {
   "cell_type": "code",
   "execution_count": 26,
   "metadata": {},
   "outputs": [],
   "source": [
    "# First define grid\n",
    "NI, NJ, NK = 400, 200, 2 # number of points in zonal, meridional and vertical levels\n",
    "LENLON, LENLAT = 1600., 800. # in km \n",
    "MAXIMUM_DEPTH = 4000.   # in m \n",
    "WESTLON, SOUTHLAT = 0.0, 0.0\n",
    "\n",
    "X = np.linspace(WESTLON + LENLON/(NI*2), WESTLON + LENLON - LENLON/(2*NI), NI)\n",
    "Y = np.linspace(SOUTHLAT + LENLAT/(NJ*2), SOUTHLAT + LENLAT - LENLAT/(NJ*2), NJ)\n",
    "#Z = [k for k in range(NK)]\n",
    "\n",
    "Xm, Ym = np.meshgrid(X,Y)"
   ]
  },
  {
   "cell_type": "code",
   "execution_count": 27,
   "metadata": {},
   "outputs": [],
   "source": [
    "def flat_bottom():\n",
    "    D = MAXIMUM_DEPTH*np.ones((NJ,NI))\n",
    "    return D\n",
    "\n",
    "def Navid_ridge_bottom(H0, sigma):\n",
    "    D = MAXIMUM_DEPTH*np.ones((NJ,NI))\n",
    "    ridge = np.exp(-((Xm - LENLON/6)/sigma)**2) + np.exp(-((Xm - 2*LENLON/6)/sigma)**2) \\\n",
    "    + np.exp(-((Xm - 3*LENLON/6)/sigma)**2) + np.exp(-((Xm - 4*LENLON/6)/sigma)**2) \\\n",
    "    + np.exp(-((Xm - 5*LENLON/6)/sigma)**2)\n",
    "    ridge = ridge*H0/np.max(ridge)\n",
    "    D = D - ridge\n",
    "    return D\n",
    "\n",
    "def guassian_ridge_bottom(H0, sigma):\n",
    "    D = MAXIMUM_DEPTH*np.ones((NJ,NI))\n",
    "    ridge = np.exp(-((Xm - LENLON/2)/sigma)**2)\n",
    "    ridge = ridge - np.min(ridge)\n",
    "    ridge = ridge*H0/np.max(ridge)\n",
    "    D = D - ridge\n",
    "    return D\n",
    "\n",
    "def sin_ridge_bottom(H0, n):\n",
    "    D = MAXIMUM_DEPTH*np.ones((NJ,NI))\n",
    "    ridge = np.sin(2*np.pi*n*Xm/LENLON - np.pi/2.)\n",
    "    ridge = (H0)*ridge\n",
    "    ridge[ridge < 0.] = 0. \n",
    "    D = D - ridge\n",
    "    return D\n",
    "\n",
    "def zero_velocity():\n",
    "    u = np.zeros((NK,NJ,NI))\n",
    "    v = np.zeros((NK,NJ,NI))\n",
    "    return u,v\n",
    "\n",
    "def wind_stress(tau_0):\n",
    "    taux = tau_0*np.sin(np.pi*Ym/LENLAT)**2\n",
    "    #taux = taux - np.min(taux)\n",
    "    tauy = np.zeros((NJ,NI))\n",
    "    return taux, tauy\n",
    "\n",
    "def wind_stress_Navid(tau_0):\n",
    "    taux = tau_0*np.sin(np.pi*(Ym - 0*LENLAT/4.)/(3*LENLAT/4))**2\n",
    "    taux[int(np.round(3*NJ/4)):,:] = 0.\n",
    "    tauy = np.zeros((NJ,NI))\n",
    "    return taux, tauy\n",
    "\n",
    "# Returns an array h[k,j,i] representing the layer thickness of the k-th layer at (lat,lon) \n",
    "# and an array eta[k,j,i] with the heights of each interface.\n",
    "# Note that h has NK values in the vertical while eta has NK+1 values.\n",
    "# k = 0 is the surface layer, with increasing k descending down the layers.\n",
    "# h[i,j,k] >= ANGSTROM, which is the minimum layer thickness.\n",
    "# input : D[i,j], a two-dimensional array of the depth of the ocean.\n",
    "def layer_thickness(eta0, depth):\n",
    "    eta = np.zeros((NK+1,NJ,NI))\n",
    "    h = np.zeros((NK,NJ,NI))\n",
    "    \n",
    "    eta[NK-1,:,:] = eta0[1]\n",
    "    eta[NK,:,:] = - depth\n",
    "    \n",
    "    for k in range(0,NK):\n",
    "        h[k,:,:] = eta[k,:,:] - eta[k+1,:,:]\n",
    "        \n",
    "    return h, eta"
   ]
  },
  {
   "cell_type": "code",
   "execution_count": 28,
   "metadata": {},
   "outputs": [
    {
     "name": "stdout",
     "output_type": "stream",
     "text": [
      "0.005333333333333333 [1027.35, 1027.9091020408162]\n"
     ]
    }
   ],
   "source": [
    "tau_0 = 0.15\n",
    "\n",
    "ridge_h0 = 500.\n",
    "n_ridge = 0;\n",
    "\n",
    "H1, H2 = (1000., 3000.)\n",
    "\n",
    "Rd = 20000\n",
    "f = -10**-4\n",
    "gp = Rd**2*MAXIMUM_DEPTH*f**2/(H1*H2)\n",
    "\n",
    "rho_0 = 1027.35\n",
    "rho_1 = gp*rho_0/9.8 + rho_0\n",
    "\n",
    "density = [rho_0, rho_1]\n",
    "\n",
    "print(gp, density)\n",
    "\n",
    "depth = sin_ridge_bottom(ridge_h0, n_ridge)\n",
    "taux, tauy = wind_stress(tau_0)\n",
    "\n",
    "eta0 = [0., -H1, -MAXIMUM_DEPTH]\n",
    "h, eta = layer_thickness(eta0, depth)"
   ]
  },
  {
   "cell_type": "code",
   "execution_count": 10,
   "metadata": {},
   "outputs": [
    {
     "name": "stdout",
     "output_type": "stream",
     "text": [
      "(2, 200, 400) (3, 200, 400)\n"
     ]
    },
    {
     "data": {
      "text/plain": [
       "9.252563875455101e-06"
      ]
     },
     "execution_count": 10,
     "metadata": {},
     "output_type": "execute_result"
    }
   ],
   "source": [
    "print(h.shape, eta.shape)\n",
    "#print(density)\n",
    "#print(eta[2,:,:])\n",
    "np.min(taux)"
   ]
  },
  {
   "cell_type": "code",
   "execution_count": 11,
   "metadata": {},
   "outputs": [
    {
     "data": {
      "text/plain": [
       "<matplotlib.colorbar.Colorbar at 0x2b0cf7ebc650>"
      ]
     },
     "execution_count": 11,
     "metadata": {},
     "output_type": "execute_result"
    },
    {
     "data": {
      "image/png": "[encoded data removed]",
      "text/plain": [
       "<Figure size 432x288 with 2 Axes>"
      ]
     },
     "metadata": {
      "needs_background": "light"
     },
     "output_type": "display_data"
    }
   ],
   "source": [
    "plt.contourf(X,Y,taux)\n",
    "plt.colorbar()"
   ]
  },
  {
   "cell_type": "code",
   "execution_count": 29,
   "metadata": {},
   "outputs": [
    {
     "data": {
      "text/plain": [
       "<matplotlib.colorbar.Colorbar at 0x2b0d00076990>"
      ]
     },
     "execution_count": 29,
     "metadata": {},
     "output_type": "execute_result"
    },
    {
     "data": {
      "image/png": "[encoded data removed]",
      "text/plain": [
       "<Figure size 432x288 with 2 Axes>"
      ]
     },
     "metadata": {
      "needs_background": "light"
     },
     "output_type": "display_data"
    }
   ],
   "source": [
    "plt.contourf(X,Y,depth)\n",
    "plt.colorbar()\n",
    "\n",
    "#plt.plot(Y, tau_0*np.sin(np.pi*Y/LENLAT)**2)\n",
    "#plt.plot(Y, tau_0*np.sin(2*np.pi*Y/LENLAT))"
   ]
  },
  {
   "cell_type": "code",
   "execution_count": 19,
   "metadata": {},
   "outputs": [
    {
     "data": {
      "image/png": "[encoded data removed]",
      "text/plain": [
       "<Figure size 432x288 with 1 Axes>"
      ]
     },
     "metadata": {
      "needs_background": "light"
     },
     "output_type": "display_data"
    }
   ],
   "source": [
    "plt.plot(Y, taux[:,0])\n",
    "plt.grid()"
   ]
  },
  {
   "cell_type": "code",
   "execution_count": 20,
   "metadata": {},
   "outputs": [
    {
     "data": {
      "text/plain": [
       "<matplotlib.colorbar.Colorbar at 0x2b0d00071f50>"
      ]
     },
     "execution_count": 20,
     "metadata": {},
     "output_type": "execute_result"
    },
    {
     "data": {
      "image/png": "[encoded data removed]",
      "text/plain": [
       "<Figure size 432x288 with 2 Axes>"
      ]
     },
     "metadata": {
      "needs_background": "light"
     },
     "output_type": "display_data"
    }
   ],
   "source": [
    "plt.contourf(X,Y,h[1,:,:])\n",
    "plt.colorbar()"
   ]
  },
  {
   "cell_type": "code",
   "execution_count": 24,
   "metadata": {},
   "outputs": [],
   "source": [
    "# Save data to nc file\n",
    "ds = xr.Dataset(\n",
    "        data_vars={'taux':    (('lat', 'lon'), taux),\n",
    "                   'tauy': (('lat', 'lon'), tauy),\n",
    "                   'depth':    (('lat', 'lon'), depth),\n",
    "                  'h': (('level', 'lat', 'lon'), h),\n",
    "                  'eta': (('interface','lat', 'lon'), eta)},\n",
    "        coords={'lat': Y, 'lon': X, 'depth_list': eta0, 'level': density})\n",
    "\n",
    "ds.lat.attrs['units'] = 'km'\n",
    "ds.lon.attrs['units'] = 'km'\n",
    "ds.depth_list.attrs['units'] = 'm'\n",
    "ds.level.attrs['units'] = 'kg m-3'\n",
    "ds.depth.attrs['units'] = 'm'\n",
    "ds.taux.attrs['units'] = 'N m-2'\n",
    "ds.tauy.attrs['units'] = 'N m-2'\n",
    "ds.h.attrs['units'] = 'm'\n",
    "ds.eta.attrs['units'] = 'm'\n",
    "\n",
    "ds.lon.attrs['standard_name'] = 'Longitude'\n",
    "ds.lat.attrs['standard_name'] = 'Latitude'\n",
    "ds.depth_list.attrs['standard_name'] = 'Mean Interface Height'\n",
    "ds.level.attrs['standard_name'] = 'Mean Layer Density'\n",
    "ds.depth.attrs['standard_name'] = 'Total Depth'\n",
    "ds.taux.attrs['standard_name'] = 'Zonal Wind Stress'\n",
    "ds.tauy.attrs['standard_name'] = 'Meridional Wind Stress'\n",
    "ds.h.attrs['standard_name'] = 'Layer Depth'\n",
    "ds.eta.attrs['standard_name'] = 'Interface Height'\n",
    "\n",
    "file = '/home/Hemant.Khatri/Work/MOM6_input/H_500/input_H_' + str(round(ridge_h0)) + '_n_' + str(round(n_ridge)) + '.nc'\n",
    "ds.to_netcdf(path=file)"
   ]
  },
  {
   "cell_type": "code",
   "execution_count": 8,
   "metadata": {},
   "outputs": [
    {
     "data": {
      "text/plain": [
       "<xarray.Dataset>\n",
       "Dimensions:     (depth_list: 3, interface: 3, lat: 200, level: 2, lon: 400)\n",
       "Coordinates:\n",
       "  * lat         (lat) float64 2.0 6.0 10.0 14.0 18.0 ... 786.0 790.0 794.0 798.0\n",
       "  * lon         (lon) float64 2.0 6.0 10.0 14.0 ... 1.59e+03 1.594e+03 1.598e+03\n",
       "  * depth_list  (depth_list) float64 0.0 -1e+03 -4e+03\n",
       "  * level       (level) float64 1.027e+03 1.028e+03\n",
       "Dimensions without coordinates: interface\n",
       "Data variables:\n",
       "    taux        (lat, lon) float64 9.253e-06 9.253e-06 ... 9.253e-06 9.253e-06\n",
       "    tauy        (lat, lon) float64 0.0 0.0 0.0 0.0 0.0 ... 0.0 0.0 0.0 0.0 0.0\n",
       "    depth       (lat, lon) float64 4e+03 4e+03 4e+03 4e+03 ... 4e+03 4e+03 4e+03\n",
       "    h           (level, lat, lon) float64 1e+03 1e+03 1e+03 ... 3e+03 3e+03\n",
       "    eta         (interface, lat, lon) float64 0.0 0.0 0.0 ... -4e+03 -4e+03"
      ]
     },
     "execution_count": 8,
     "metadata": {},
     "output_type": "execute_result"
    }
   ],
   "source": [
    "ds"
   ]
  },
  {
   "cell_type": "code",
   "execution_count": 10,
   "metadata": {},
   "outputs": [
    {
     "name": "stdout",
     "output_type": "stream",
     "text": [
      "0.00524650800603668 19836.53448697002\n"
     ]
    }
   ],
   "source": [
    "# Baroclinic Rossby deformation radius\n",
    "rho1, rho2 = (1027.35, 1027.9)\n",
    "H1, H2 = (1000., 3000.)\n",
    "fo = 10**-4\n",
    "gp = 9.8*(rho2-rho1)/rho1\n",
    "\n",
    "Rd = np.sqrt(gp*H1*H2/(H1+H2))/fo\n",
    "\n",
    "print(gp, Rd)\n",
    "\n"
   ]
  },
  {
   "cell_type": "code",
   "execution_count": 43,
   "metadata": {},
   "outputs": [
    {
     "data": {
      "text/plain": [
       "3.0"
      ]
     },
     "execution_count": 43,
     "metadata": {},
     "output_type": "execute_result"
    }
   ],
   "source": [
    "np.round(3*LENLAT/(4*NJ))"
   ]
  },
  {
   "cell_type": "code",
   "execution_count": 36,
   "metadata": {},
   "outputs": [
    {
     "data": {
      "text/plain": [
       "'/nbhome/Hemant.Khatri/Work/input_H_400_sigma_600.nc'"
      ]
     },
     "execution_count": 36,
     "metadata": {},
     "output_type": "execute_result"
    }
   ],
   "source": [
    "file = '/nbhome/Hemant.Khatri/Work/input_H_' + str(round(ridge_h0)) + '_sigma_' + str(round(sigma)) + '.nc'\n",
    "file"
   ]
  },
  {
   "cell_type": "code",
   "execution_count": null,
   "metadata": {},
   "outputs": [],
   "source": []
  }
 ],
 "metadata": {
  "kernelspec": {
   "display_name": "Python 3",
   "language": "python",
   "name": "python3"
  },
  "language_info": {
   "codemirror_mode": {
    "name": "ipython",
    "version": 3
   },
   "file_extension": ".py",
   "mimetype": "text/x-python",
   "name": "python",
   "nbconvert_exporter": "python",
   "pygments_lexer": "ipython3",
   "version": "3.7.4"
  }
 },
 "nbformat": 4,
 "nbformat_minor": 2
}
