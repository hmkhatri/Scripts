{
 "cells": [
  {
   "cell_type": "code",
   "execution_count": 1,
   "metadata": {},
   "outputs": [],
   "source": [
    "import numpy as np\n",
    "import matplotlib.pyplot as plt\n",
    "import netCDF4 as nc\n",
    "plt.style.use('tableau-colorblind10')\n",
    "plt.rcParams.update({'font.size': 15})"
   ]
  },
  {
   "cell_type": "code",
   "execution_count": 2,
   "metadata": {},
   "outputs": [],
   "source": [
    "NI, NJ, NK = 400, 400, 4\n",
    "LENLON, LENLAT, MAXIMUM_DEPTH = 1000., 1000., 2000.\n",
    "WESTLON, SOUTHLAT = 0.0, 0.0"
   ]
  },
  {
   "cell_type": "code",
   "execution_count": 3,
   "metadata": {},
   "outputs": [],
   "source": [
    "ANGSTROM = 10e-10\n",
    "H_TO_M = 1.0  # A constant that translates the model's internal\n",
    "              # units of thickness into m.\n",
    "M_TO_H = 1./H_TO_M\n",
    "\n",
    "### Coordinate grid\n",
    "X = np.linspace(WESTLON+LENLON/NI, LENLON, NI)\n",
    "Y = np.linspace(SOUTHLAT+LENLAT/NJ, LENLAT, NJ)\n",
    "Z = [k for k in range(NK)]\n",
    "Xm, Ym = np.meshgrid(X,Y)\n",
    "\n",
    "def flat_bottom():\n",
    "    D = MAXIMUM_DEPTH*np.ones((NI,NJ))\n",
    "    return D\n",
    "\n",
    "def const_velocity(u0,v0):\n",
    "    u = u0*np.ones((NI,NJ,NK))\n",
    "    v = v0*np.ones((NI,NJ,NK))\n",
    "    return u,v\n",
    "\n",
    "# This is a function that is needed in the initialize_thickness routine. It returns a one-dimensional (z)\n",
    "# array with interface positions.\n",
    "def get_eta0(HalfStrat):\n",
    "    # Returns a 1-d array lisiting the nominal positions of the interfaces\n",
    "    eta0 = np.zeros(NK+1)\n",
    "    \n",
    "    half_depth = MAXIMUM_DEPTH*HalfStrat\n",
    "    eta0[0] = 0.0 # Surface\n",
    "    eta0[NK] = -MAXIMUM_DEPTH # Bottom\n",
    "    for k in range(1, NK//2):\n",
    "        eta0[k] = -half_depth*(2.0*k/NK)\n",
    "    for k in range(NK//2, NK):\n",
    "        eta0[k] = -MAXIMUM_DEPTH - 2.0*(MAXIMUM_DEPTH-half_depth)*((k-NK)/float(NK))\n",
    "    \n",
    "    return eta0\n",
    "\n",
    "\n",
    "# Returns an array h[i,j,k] representing the layer thickness of the\n",
    "# k-th layer at point (X[i],Y[j]) and an array eta[i,j,k] with the heights of each interface.\n",
    "# Note that h has NK values in the vertical while eta has NK+1 values.\n",
    "# k=0 is the surface layer, with increasing k descending down the layers.\n",
    "# h[i,j,k] >= ANGSTROM, which is the minimum layer thickness.\n",
    "# input : D[i,j], a two-dimensional array of the depth of the ocean.\n",
    "def initialize_thickness(D,HalfStrat):\n",
    "    \n",
    "    eta0 = np.zeros(NK+1) # The 1-d nominal positions of the interfaces.\n",
    "    eta_im = np.zeros((NJ,NK+1)) # A temporary array for zonal-mean eta, m.\n",
    "    eta1D = np.zeros(NK+1) # Interface height relative to the sea surface\n",
    "                           # positive upward, in m.\n",
    "    eta = np.zeros((NI,NJ,NK+1))\n",
    "    h = np.zeros((NI,NJ,NK)) # h[:,:,k] is the thickness of layer k\n",
    "                             # k=0 is the uppermost layer.\n",
    "    \n",
    "    # This sets up eta0, which seems to be the depth of the interface.\n",
    "    # eta0[0] is the surface of the ocean, eta0[NK] is the bottom.\n",
    "    half_depth = MAXIMUM_DEPTH*HalfStrat\n",
    "    \n",
    "    eta0 = get_eta0(HalfStrat)\n",
    "    \n",
    "    # Now we set up et_im\n",
    "    # First set top and bottom layers in eta_im\n",
    "    eta_im[:,0] = 0.0\n",
    "    eta_im[:,NK] = -MAXIMUM_DEPTH\n",
    "    # Set the rest of eta_im, ensuring that the interface heights\n",
    "    # do not go above the ocean surface or below the bottom boundary.\n",
    "    # This is done by letting the interfaces take the value of the \n",
    "    # boundaries.\n",
    "    for j in range(NJ):\n",
    "        for k in range(1,NK):\n",
    "            y_2 = Y[j] - SOUTHLAT - 0.5*LENLAT\n",
    "            eta_im[j,k] = eta0[k] \n",
    "            if (eta_im[j,k] > 0.0): eta_im[j,k] = 0.0\n",
    "            if (eta_im[j,k] < -MAXIMUM_DEPTH): eta_im[j,k] = -MAXIMUM_DEPTH\n",
    "    \n",
    "    ##\n",
    "    for i in range(NI):\n",
    "        for j in range(NJ):\n",
    "            eta[i,j,NK] = -D[i,j]\n",
    "            eta1D[NK] = -D[i,j]\n",
    "            for k in range(NK-1,-1,-1):\n",
    "                eta[i,j,k] = eta_im[j,k]\n",
    "                # Ensure that layers are atleast one ANGSTROM apart.\n",
    "                if (eta[i,j,k] < (eta[i,j,k+1] + ANGSTROM)):\n",
    "                    \n",
    "                    eta[i,j,k] = eta[i,j,k+1] + ANGSTROM\n",
    "                    h[i,j,k] = ANGSTROM\n",
    "                else:\n",
    "                    h[i,j,k] = M_TO_H * (eta[i,j,k] - eta[i,j,k+1])\n",
    "                    # h is the layer thickness in the internal\n",
    "                    # units of thickness.\n",
    " \n",
    "    return h, eta\n",
    "\n",
    "def initialize_thickness_user(D,eta0):\n",
    "    \n",
    "    eta_im = np.zeros((NJ,NK+1)) # A temporary array for zonal-mean eta, m.\n",
    "    eta = np.zeros((NI,NJ,NK+1))\n",
    "    h = np.zeros((NI,NJ,NK)) # h[:,:,k] is the thickness of layer k\n",
    "                             # k=0 is the uppermost layer.\n",
    "    \n",
    "    \n",
    "    # Now we set up et_im\n",
    "    # First set top and bottom layers in eta_im\n",
    "    # Set the rest of eta_im, ensuring that the interface heights\n",
    "    # do not go above the ocean surface or below the bottom boundary.\n",
    "    # This is done by letting the interfaces take the value of the \n",
    "    # boundaries.\n",
    "    for j in range(NJ):\n",
    "        for k in range(0,NK+1):\n",
    "            eta_im[j,k] = eta0[k] \n",
    "            if (eta_im[j,k] > 0.0): eta_im[j,k] = 0.0\n",
    "            if (eta_im[j,k] < -MAXIMUM_DEPTH): eta_im[j,k] = -MAXIMUM_DEPTH\n",
    "    ##\n",
    "    for i in range(NI):\n",
    "        for j in range(NJ):\n",
    "            eta[i,j,NK] = -D[i,j]\n",
    "            for k in range(NK-1,-1,-1):\n",
    "                eta[i,j,k] = eta_im[j,k]\n",
    "                # Ensure that layers are atleast one ANGSTROM apart.\n",
    "                if (eta[i,j,k] < (eta[i,j,k+1] + ANGSTROM)):\n",
    "                    \n",
    "                    eta[i,j,k] = eta[i,j,k+1] + ANGSTROM\n",
    "                    h[i,j,k] = ANGSTROM\n",
    "                else:\n",
    "                    h[i,j,k] = M_TO_H * (eta[i,j,k] - eta[i,j,k+1])\n",
    "                    # h is the layer thickness in the internal\n",
    "                    # units of thickness.\n",
    " \n",
    "    return h, eta\n",
    "\n",
    "\n",
    "def step(X,Y, shelf_width, shelf_depth):\n",
    "    D = np.zeros((NI,NJ))\n",
    "    for i in range(NI):\n",
    "        for j in range(NJ):\n",
    "            if Y[j] < shelf_width:\n",
    "                D[i,j] = shelf_depth\n",
    "            else:\n",
    "                D[i,j] = MAXIMUM_DEPTH\n",
    "    return D\n",
    "\n",
    "def slope(X,Y,shelf_width, min_shelf_depth,max_shelf_depth, steepness):\n",
    "    D = np.zeros((NI,NJ))\n",
    "    steepness = steepness*1e3\n",
    "    slope_width = (MAXIMUM_DEPTH-max_shelf_depth)/steepness\n",
    "    print(\"Slope width = {}\".format(slope_width))\n",
    "    shelf_steepness = (max_shelf_depth-min_shelf_depth)/shelf_width\n",
    "    for i in range(NI):\n",
    "        for j in range(NJ):\n",
    "            if Y[j] < shelf_width:\n",
    "                D[i,j] = min_shelf_depth + shelf_steepness*Y[j]\n",
    "            elif Y[j] < shelf_width + slope_width:\n",
    "                D[i,j] = max_shelf_depth + steepness*(Y[j]-shelf_width)\n",
    "            else:\n",
    "                D[i,j] = MAXIMUM_DEPTH\n",
    "    return D\n",
    "\n",
    "def slope_tanh(X,Y,L_shelf,Hs, L_slope, At=0, Lt=0):\n",
    "    #Hs = 400.\n",
    "    Hd = MAXIMUM_DEPTH\n",
    "    #L_slope = 200\n",
    "    #L_shelf = 100\n",
    "    Ws = 0.5*(L_slope)\n",
    "    #Ys = (L_shelf + 0.5*L_slope)\n",
    "    \n",
    "    D = np.zeros((NI,NJ))\n",
    "    for i in range(NI):\n",
    "        x = X[i]\n",
    "        Ys = (L_shelf + At*np.sin(2*np.pi*x/Lt))  + 0.5*L_slope\n",
    "        for j in range(NJ):\n",
    "            y = Y[j]\n",
    "            D[i,j] = (Hs + 0.5*(Hd-Hs)*( 1 + np.tanh((y-Ys)/Ws) ))\n",
    "    return D\n",
    "\n",
    "def slope_tanh_gauss(X,Y,shelf_width,Hs, slope_width,At,sd):\n",
    "    Hd = MAXIMUM_DEPTH\n",
    "    L_slope = slope_width\n",
    "    L_shelf = shelf_width\n",
    "    Ws = 0.5*(L_slope)\n",
    "    #Ys = (L_shelf + 0.5*L_slope)\n",
    "    \n",
    "    D = np.zeros((NI,NJ))\n",
    "    for i in range(NI):\n",
    "        x = X[i]\n",
    "        Ys = (L_shelf + At*np.exp(-(x-LENLON/2.)**2/(2*sd**2)))  + 0.5*L_slope\n",
    "        for j in range(NJ):\n",
    "            y = Y[j]\n",
    "            D[i,j] = (Hs + 0.5*(Hd-Hs)*( 1 + np.tanh((y-Ys)/Ws) ))\n",
    "    return D\n",
    "\n",
    "def slope_tanh_trough(X,Y,L_shelf,Hs, L_slope,x0,trough_width,trough_depth,r=0.1):\n",
    "    Hd = MAXIMUM_DEPTH\n",
    "    Ws = 0.5*(L_slope)\n",
    "    \n",
    "    Ys = L_shelf  + 0.5*L_slope\n",
    "    x1 = x0+trough_width\n",
    "\n",
    "    D = np.zeros((NI,NJ))   \n",
    "    H = np.zeros(NI)\n",
    "    for i in range(NI):\n",
    "        x = X[i]\n",
    "        H[i] = Hs + trough_depth*double_exp(x,x0,x1,r)\n",
    "\n",
    "        for j in range(NJ):\n",
    "            y = Y[j]\n",
    "            D[i,j] = H[i] + 0.5*(Hd-H[i])*( 1 + np.tanh((y-Ys)/Ws) )\n",
    "    return D\n",
    "\n",
    "def slope_tanh_trough_gauss(X,Y,L_shelf,Hs, L_slope,x0,trough_width,trough_depth,Wt,At=0, sd=0, trough_depth2=0):\n",
    "    Hd = MAXIMUM_DEPTH\n",
    "    Ws = 0.5*(L_slope)\n",
    "    \n",
    "    Ys = L_shelf  + 0.5*L_slope\n",
    "    x1 = x0+trough_width\n",
    "    xc = (x0+x1)/2.\n",
    "\n",
    "    D = np.zeros((NI,NJ))   \n",
    "    H = np.zeros(NI)\n",
    "    for i in range(NI):\n",
    "        x = X[i]\n",
    "        H[i] = Hs + trough_depth*box_tanh(x,x0,x1,Wt) + trough_depth2*box_tanh(x,x0,x1,Wt)\n",
    "        Ys = (L_shelf + At*np.exp(-(x-xc)**2/(2*sd**2)))  + 0.5*L_slope\n",
    "        for j in range(NJ):\n",
    "            y = Y[j]\n",
    "            D[i,j] = H[i] + 0.5*(Hd-H[i])*( 1 + np.tanh((y-Ys)/Ws) )\n",
    "    return D\n",
    "\n",
    "def slope_tanh_land(X,Y,H_shelf, L_slope, L_shelf, x0=0, t_width=0, t_depth=0, At=0, sd=1, Al= 0, L_land=0, L_land_wv=1):\n",
    "    H_deep = MAXIMUM_DEPTH\n",
    "    W_slope = 0.5*L_slope\n",
    "    yc_shelf = L_shelf + W_slope\n",
    "    \n",
    "    x1 = x0 + t_width\n",
    "    xc = 0.5*(x0+x1)\n",
    "    \n",
    "    D = np.zeros((NI,NJ))\n",
    "    H = np.zeros(NI)\n",
    "    for i in range(NI):\n",
    "        x = X[i]\n",
    "        \n",
    "        H[i] = H_shelf + t_depth*box_tanh(x,x0,x1,W_slope) \n",
    "        Ys = (yc_shelf + At*np.exp(-(x-xc)**2/(2*sd**2)))  \n",
    "        for j in range(NJ):\n",
    "            y = Y[j] - L_land - Al*np.sin(2*np.pi*x/L_land_wv)\n",
    "            if (y < 0):\n",
    "                D[i,j] = -1\n",
    "            else:\n",
    "                D[i,j] = H[i] + 0.5*(H_deep - H[i])*(( 1 + np.tanh((y-Ys)/W_slope)))\n",
    "    return D\n",
    "\n",
    "\n",
    "def wind_stress_exp(X,Y,tau0, Ld_atmos):    \n",
    "    wind = np.zeros((NI,NJ))\n",
    "    \n",
    "    for i in range(NI):\n",
    "        x = X[i]\n",
    "        for j in range(NJ):\n",
    "            y = Y[j]\n",
    "            wind[i,j] = tau0*np.exp(-y/Ld_atmos)\n",
    "    \n",
    "    return wind\n",
    "\n",
    "\n",
    "def wind_stress_sin(X,Y,tau0,y1,y2,p):\n",
    "    \n",
    "    Xwind = np.zeros((NI,NJ))\n",
    "    Ywind = np.zeros((NI,NJ))\n",
    "    \n",
    "    for i in range(NI):\n",
    "        x = X[i]\n",
    "        for j in range(NJ):\n",
    "            y = Y[j]\n",
    "            if (y1 < y) and (y < y2):\n",
    "                y0 = y - y1\n",
    "                arg = np.pi*(y0)/(y2-y1)\n",
    "                Xwind[i,j] = tau0*np.abs(np.sin(arg))**p\n",
    "    return Xwind\n",
    "\n",
    "def wind_stress_double_sin2(X,Y):\n",
    "    tau_acc = 0.0\n",
    "    tau_asf = -0.025\n",
    "    \n",
    "    Y_shelf = 150\n",
    "    Y_slope = 150\n",
    "    \n",
    "    Xwind = np.zeros((NI,NJ))\n",
    "    Ywind = np.zeros((NI,NJ))\n",
    "    \n",
    "    for i in range(NI):\n",
    "        x = X[i]\n",
    "        for j in range(NJ):\n",
    "            y = Y[j]\n",
    "            if (Y_shelf < y) and (y < Y_shelf+Y_slope):\n",
    "                arg = np.pi*(Y_shelf+Y_slope-y)/Y_slope\n",
    "                Xwind[i,j] = tau_asf*np.sin(arg)**2\n",
    "            if Y_shelf+Y_slope < y:\n",
    "                arg = np.pi*(y-Y_shelf-Y_slope)/(LENLAT-Y_shelf-Y_slope)\n",
    "                Xwind[i,j] = tau_acc*np.sin(arg)**2\n",
    "    \n",
    "    return Xwind, Ywind\n",
    "\n",
    "def wind_stress_double_exp(X,Y,tau0,y1,y2,Ld,r):\n",
    "    Xwind = np.zeros((NI,NJ))\n",
    "    \n",
    "    A1 = np.exp(r*y1)\n",
    "    A2 = np.exp(r*y2)\n",
    "    for i in range(NI):\n",
    "        for j in range(NJ):\n",
    "            y = Y[j]\n",
    "            R = np.exp(r*y)\n",
    "            Xwind[i,j] = ( (A1+R)**(-1.) - (A2+R)**(-1.) )*tau0*R*np.exp(-(y-y1)/Ld)\n",
    "    return Xwind\n",
    "\n",
    "def double_exp(y,y1,y2,r):    \n",
    "    A1 = np.exp(r*y1)\n",
    "    A2 = np.exp(r*y2)\n",
    "    R = np.exp(r*y)\n",
    "    return  ( (A1+R)**(-1.) - (A2+R)**(-1.) )*R\n",
    "\n",
    "def box_tanh(y,y1,y2,W):    \n",
    "    tanh1 = np.tanh((y-y1)/W)\n",
    "    tanh2 = np.tanh((y-y2)/W)\n",
    "    return  0.5*(tanh1 - tanh2)\n",
    "                \n",
    "def add_wind_pert(Xwind):\n",
    "    ## Takes in a 2D velocity array and adds a small perturbation\n",
    "    ## with amplitude VelocityPerturbAmp\n",
    "    \n",
    "    amp = 0.00001\n",
    "    for i in range(NI):\n",
    "        for j in range (NJ):\n",
    "            y_2 = (Y[j] - SOUTHLAT - 0.5*LENLAT) / LENLAT\n",
    "            x_2 = (X[i] - WESTLON - 0.5*LENLON) / LENLON\n",
    "\n",
    "            Xwind[i,j] += amp*\\\n",
    "                    (0.1*np.abs(np.cos(10.*np.pi*x_2)) -\\\n",
    "                     np.abs(np.sin(5.*np.pi*y_2)) )\n",
    "            for m in range(1,11):\n",
    "                Xwind[i,j] += 0.1*amp*\\\n",
    "                    np.cos(2.0*m*np.pi*x_2+2*m)*np.cos(6.0*np.pi*y_2)\n",
    "    return Xwind\n",
    "\n",
    "def tracer_shelf(X,Y):\n",
    "    Y_shelf = 50\n",
    "    \n",
    "    tr = np.zeros((NI,NJ))\n",
    "    for i in range(NI):\n",
    "        x = X[i]\n",
    "        for j in range(NJ):\n",
    "            y= Y[j]\n",
    "            if (y<Y_shelf):\n",
    "                tr[i,j] = 1.\n",
    "    \n",
    "    return tr\n",
    "\n",
    "\n",
    "def sponge_Idamp(X,Y,sponge_width,Idamp_val):    \n",
    "    Idamp = np.zeros((NI,NJ))\n",
    "    for i in range(NI):\n",
    "        for j in range(NJ):\n",
    "            y = Y[j]\n",
    "            Idamp[i,j] = Idamp_val*np.exp(-(y-LENLAT)**2/(2*sponge_width**2))\n",
    "    return Idamp\n",
    "\n",
    "## Larger values of surf will provide make layers more concenrtated near the surface\n",
    "def exp_strat(NK,surf):\n",
    "    first = -1*surf\n",
    "    last = 0\n",
    "    \n",
    "    if first>last:\n",
    "        first,last = last,first\n",
    "        \n",
    "    exp_first = np.exp(first)\n",
    "    exp_last = np.exp(last)\n",
    "    step = (exp_last-exp_first)/(NK-1)\n",
    "    \n",
    "    out = np.zeros(NK)\n",
    "    A = np.linspace(exp_first, exp_last, NK)\n",
    "    for i in range(len(A)):\n",
    "        a = A[i]\n",
    "        out[i] = np.log(a)\n",
    "    return MAXIMUM_DEPTH*(1/surf)*np.asarray([a for a in reversed(out)])\n"
   ]
  },
  {
   "cell_type": "code",
   "execution_count": 4,
   "metadata": {},
   "outputs": [],
   "source": [
    "# shelf_width = 150\n",
    "#min_shelf_depth = 400\n",
    "#max_shelf_depth = 500\n",
    "#steepness = 0.03\n",
    "#Depth = slope(X,Y,shelf_width, min_shelf_depth, max_shelf_depth, steepness)\n",
    "\n",
    "Hs = 400\n",
    "shelf_width = 200\n",
    "land_width = 0\n",
    "slope_width = 100\n",
    "shelf_slope_width = 200\n",
    "x0 = 2000\n",
    "\n",
    "\n",
    "trough_width = 500\n",
    "trough_depth = 1000\n",
    "Wt = 120\n",
    "At = 0\n",
    "Al = 0\n",
    "L_land = 0\n",
    "L_land_wv = 1\n",
    "#Depth,H = slope_tanh_trough(X,Y,shelf_width,Hs, slope_width,x0,trough_width,trough_depth)\n",
    "#Depth = slope_tanh(X,Y,shelf_width,Hs, slope_width, At=100, Lt=1000)\n",
    "#Depth = slope_tanh_trough_gauss(X,Y,shelf_width,Hs, slope_width,x0,trough_width,trough_depth,Wt,At=750,sd=trough_width/8.)\n",
    "\n",
    "Depth = slope_tanh_land(X,Y,Hs, slope_width, shelf_width, x0=x0, \\\n",
    "                        t_width=trough_width, t_depth=trough_depth, At=At, sd=trough_width/8.,\\\n",
    "                        Al=Al, L_land=L_land, L_land_wv=L_land_wv)\n",
    "\n",
    "\n",
    "#Depth = slope_tanh_land(X,Y,Hs, slope_width, shelf_width)\n",
    "\n",
    "#eta0 = [0,-200,-500,-1000,-MAXIMUM_DEPTH]\n",
    "surf = 4\n",
    "eta0 = exp_strat(NK+1,surf)\n",
    "\n",
    "\n",
    "#eta0 = [0,-MAXIMUM_DEPTH]\n",
    "h, eta = initialize_thickness_user(Depth,eta0)\n",
    "\n",
    "#Ld_atmos = 750\n",
    "tau0 = +0.05\n",
    "y1 = -100\n",
    "y2 = Y[-1]-25\n",
    "#stress_x = wind_stress_exp(X,Y,tau0,Ld_atmos)\n",
    "#stress_x = wind_stress_sin(X,Y,tau0,y1,y2,2)\n",
    "Ld = 750\n",
    "r = 0.1\n",
    "stress_x = wind_stress_double_exp(X,Y,tau0,y1,y2,Ld,r)\n",
    "stress_y = np.zeros(stress_x.shape) \n",
    "stress_x  = add_wind_pert(stress_x)\n",
    "\n",
    "\n",
    "sponge_width = 50\n",
    "Idamp_val = 1/(8*7*24*3600)\n",
    "Idamp = sponge_Idamp(X,Y,sponge_width,Idamp_val)\n",
    "\n",
    "u, v = const_velocity(0.,0.)\n"
   ]
  },
  {
   "cell_type": "code",
   "execution_count": 5,
   "metadata": {},
   "outputs": [
    {
     "data": {
      "image/png": "[encoded data removed]",
      "text/plain": [
       "<Figure size 1080x360 with 1 Axes>"
      ]
     },
     "metadata": {
      "needs_background": "light"
     },
     "output_type": "display_data"
    }
   ],
   "source": [
    "#slope_width= (MAXIMUM_DEPTH-max_shelf_depth)/(1e3*steepness)\n",
    "\n",
    "\n",
    "fig = plt.figure(figsize=(15,5))\n",
    "ax = plt.subplot(111)\n",
    "\n",
    "for k in range(NK+1):\n",
    "    ax.plot(Y,eta[0,:,k], color='k', linestyle='--', linewidth=1.0)\n",
    "#ax.plot(Y,-Depth[0,:], color='k', linewidth=1.5)\n",
    "    \n",
    "ax.set_title(r'$\\eta$')\n",
    "ax.set_xlim([Y[0],Y[-1]])\n",
    "ax.set_ylabel('m')\n",
    "ax.set_xlabel('km')\n",
    "\n",
    "#ax.axvline(x=shelf_width, linestyle='--',color='k')\n",
    "#ax.axvline(x=shelf_width+slope_width, linestyle='--',color='k')\n",
    "\n",
    "plt.locator_params(axis='y', nbins=3)\n",
    "plt.locator_params(axis='x', nbins=3)"
   ]
  },
  {
   "cell_type": "code",
   "execution_count": 7,
   "metadata": {},
   "outputs": [
    {
     "data": {
      "text/plain": [
       "<matplotlib.lines.Line2D at 0x11ba6af10>"
      ]
     },
     "execution_count": 7,
     "metadata": {},
     "output_type": "execute_result"
    },
    {
     "data": {
      "image/png": "[encoded data removed]",
      "text/plain": [
       "<Figure size 1080x360 with 2 Axes>"
      ]
     },
     "metadata": {
      "needs_background": "light"
     },
     "output_type": "display_data"
    }
   ],
   "source": [
    "fig = plt.figure(figsize=(15,5))\n",
    "\n",
    "ax = plt.subplot(111)\n",
    "ax.set_title(r'Depth')\n",
    "im = ax.contourf(Xm,Ym,Depth.T, cmap='Blues')\n",
    "m = plt.cm.ScalarMappable(cmap='Blues')\n",
    "m.set_array(Depth.T)\n",
    "plt.colorbar(m)\n",
    "\n",
    "ax.axhline(y=shelf_width, linestyle='-',color='w', linewidth=3.5)\n",
    "ax.axhline(y=shelf_width+slope_width, linestyle='-',color='w', linewidth=3.5)"
   ]
  },
  {
   "cell_type": "code",
   "execution_count": 8,
   "metadata": {},
   "outputs": [
    {
     "data": {
      "text/plain": [
       "<matplotlib.colorbar.Colorbar at 0x11f869b50>"
      ]
     },
     "execution_count": 8,
     "metadata": {},
     "output_type": "execute_result"
    },
    {
     "data": {
      "image/png": "[encoded data removed]",
      "text/plain": [
       "<Figure size 1080x360 with 2 Axes>"
      ]
     },
     "metadata": {
      "needs_background": "light"
     },
     "output_type": "display_data"
    }
   ],
   "source": [
    "fig = plt.figure(figsize=(15,5))\n",
    "\n",
    "ax = plt.subplot(111)\n",
    "ax.set_title(r'Wind Stress')\n",
    "im = ax.contourf(Xm,Ym,stress_x.T, cmap='Blues')\n",
    "m = plt.cm.ScalarMappable(cmap='Blues')\n",
    "m.set_array(stress_x.T)\n",
    "plt.colorbar(m)"
   ]
  },
  {
   "cell_type": "code",
   "execution_count": 9,
   "metadata": {},
   "outputs": [
    {
     "data": {
      "text/plain": [
       "<matplotlib.lines.Line2D at 0x11f8f6710>"
      ]
     },
     "execution_count": 9,
     "metadata": {},
     "output_type": "execute_result"
    },
    {
     "data": {
      "image/png": "[encoded data removed]",
      "text/plain": [
       "<Figure size 720x360 with 1 Axes>"
      ]
     },
     "metadata": {
      "needs_background": "light"
     },
     "output_type": "display_data"
    }
   ],
   "source": [
    "fig = plt.figure(figsize=(10,5))\n",
    "ax = plt.subplot(111)\n",
    "ax.plot(Y,stress_x[0,:])\n",
    "ax.set_xlim([Y[0],Y[-1]])\n",
    "ax.set_xlabel('y $(km)$')\n",
    "ax.set_ylabel(r'$\\tau_x$ $(N\\ m^{-2})$')\n",
    "ax.set_title(r'Wind stress as a function of latitude')\n",
    "\n",
    "ax.axvline(x=shelf_width,color='k',linestyle='--')\n",
    "ax.axvline(x=shelf_width+slope_width,color='k',linestyle='--')\n",
    "\n",
    "ax.axvline(x=Y[-1]-sponge_width,color='0.5',linestyle='--')"
   ]
  },
  {
   "cell_type": "code",
   "execution_count": 10,
   "metadata": {},
   "outputs": [
    {
     "data": {
      "text/plain": [
       "<matplotlib.lines.Line2D at 0x11f8b8bd0>"
      ]
     },
     "execution_count": 10,
     "metadata": {},
     "output_type": "execute_result"
    },
    {
     "data": {
      "image/png": "[encoded data removed]",
      "text/plain": [
       "<Figure size 720x360 with 1 Axes>"
      ]
     },
     "metadata": {
      "needs_background": "light"
     },
     "output_type": "display_data"
    }
   ],
   "source": [
    "fig = plt.figure(figsize=(10,5))\n",
    "ax = plt.subplot(111)\n",
    "ax.plot(Y,Idamp[0,:])\n",
    "ax.set_xlim([Y[0],Y[-1]])\n",
    "ax.set_xlabel('y $(km)$')\n",
    "ax.set_ylabel(r' $s^{-1}$')\n",
    "ax.set_title(r'Inverse damping rate as a function of latitude')\n",
    "\n",
    "ax.axvline(x=shelf_width,color='k',linestyle='--')\n",
    "ax.axvline(x=shelf_width+slope_width,color='k',linestyle='--')"
   ]
  },
  {
   "cell_type": "code",
   "execution_count": 11,
   "metadata": {},
   "outputs": [
    {
     "name": "stdout",
     "output_type": "stream",
     "text": [
      "External deformation radius 1.108447E+03km\n",
      "Internal deformation radius 4.159227km\n",
      "Gridsize 2.5km\n",
      "Timestep 1546.3204449589339s\n"
     ]
    }
   ],
   "source": [
    "f = 1.26302877E-4 \n",
    "g = 9.8\n",
    "#gint = 5e-3\n",
    "gint = 0.0196\n",
    "gint = 0.00196\n",
    "H = MAXIMUM_DEPTH\n",
    "h_arr = h[-1,-1,:]\n",
    "hmin = min(h_arr)\n",
    "hmax = max(h_arr)\n",
    "               \n",
    "external = np.sqrt(g*H)/f\n",
    "internal = np.sqrt(gint*hmin)/f\n",
    "\n",
    "print(\"External deformation radius {0:2E}km\".format(external/1e3))\n",
    "print(\"Internal deformation radius {0:2F}km\".format(internal/1e3))\n",
    "print(\"Gridsize {}km\".format(LENLAT/NJ))\n",
    "print(\"Timestep {}s\".format((LENLAT/NJ)*1e3/(np.sqrt(gint*hmax))))"
   ]
  },
  {
   "cell_type": "code",
   "execution_count": 12,
   "metadata": {},
   "outputs": [],
   "source": [
    "InputFile = nc.Dataset(\"input.nc\",\"w\",format=\"NETCDF3_64BIT_OFFSET\")\n",
    "\n",
    "f_nx = InputFile.createDimension(\"nx\",NI)\n",
    "f_ny = InputFile.createDimension(\"ny\",NJ)\n",
    "f_nz = InputFile.createDimension(\"nz\",NK)\n",
    "f_nz1 = InputFile.createDimension(\"nz+1\",NK+1)\n",
    "\n",
    "\n",
    "f_nx = InputFile.createVariable(\"nx\",\"f8\",(\"nx\"))\n",
    "f_nx[:]=X\n",
    "f_nx.standard_name = \"x location at cell centers\"\n",
    "f_nx.units = \"km\"\n",
    "\n",
    "f_ny = InputFile.createVariable(\"ny\",\"f8\",(\"ny\"))\n",
    "f_ny[:]=Y\n",
    "f_ny.standard_name = \"y location at cell center\"\n",
    "f_ny.units = \"km\"\n",
    "\n",
    "f_nz = InputFile.createVariable(\"nz\",\"f8\",(\"nz\"))\n",
    "f_nz[:] = Z\n",
    "\n",
    "f_nz1 = InputFile.createVariable(\"nz+1\",\"f8\",(\"nz+1\"))\n",
    "f_nz1[:] = [i for i in range(NK+1)]\n",
    "\n",
    "f_u = InputFile.createVariable(\"u\",\"f8\", (\"nz\",\"ny\",\"nx\"))\n",
    "f_u[:,:,:] = u.T\n",
    "f_u.standard_name = \"zonal velocity\"\n",
    "f_u.units = \"m s^-1\"\n",
    "\n",
    "f_v = InputFile.createVariable(\"v\", \"f8\", (\"nz\",\"ny\",\"nx\"))\n",
    "f_v[:,:,:] = v.T\n",
    "f_v.standard_name = \"meridional velocity\"\n",
    "f_v.units = \"m s^-1\"\n",
    "\n",
    "f_h = InputFile.createVariable(\"h\", \"f8\", (\"nz\",\"ny\",\"nx\"))\n",
    "f_h[:,:,:] = h.T\n",
    "f_h.standard_name = \"layer thickness\"\n",
    "f_h.units = \"m\"\n",
    "\n",
    "f_eta = InputFile.createVariable(\"eta\", \"f8\", (\"nz+1\",\"ny\",\"nx\"))\n",
    "f_eta[:,:,:] = eta.T\n",
    "f_eta.standard_name = \"interface height\"\n",
    "f_eta.units = \"m\"\n",
    "\n",
    "f_depth = InputFile.createVariable(\"depth\",\"f8\",(\"ny\",\"nx\"))\n",
    "f_depth[:,:]= Depth.T\n",
    "f_depth.standard_name = \"topographic depth at cell centers\"\n",
    "f_depth.units = \"m\"\n",
    "\n",
    "f_stress_x = InputFile.createVariable(\"STRESS_X\", \"f8\", (\"ny\",\"nx\"))\n",
    "f_stress_x[:,:] = stress_x.T\n",
    "f_stress_x.standard_name = \"zonal wind stress\"\n",
    "f_stress_x.units = \"N m^-2\"\n",
    "\n",
    "f_stress_y = InputFile.createVariable(\"STRESS_Y\", \"f8\", (\"ny\",\"nx\"))\n",
    "f_stress_y[:,:] = stress_y.T\n",
    "f_stress_y.standard_name = \"meridional wind stress\"\n",
    "f_stress_y.units = \"N m^-2\"\n",
    "\n",
    "f_Idamp = InputFile.createVariable(\"IDAMP\", \"f8\", (\"ny\",\"nx\"))\n",
    "f_Idamp[:,:] = Idamp.T\n",
    "f_Idamp.standard_name = \"Inverse damping \"\n",
    "f_Idamp.units = \"s-1\"\n",
    "\n",
    "f_ETA = InputFile.createVariable(\"ETA\", \"f8\", (\"nz+1\",\"ny\",\"nx\"))\n",
    "f_ETA[:,:,:] = eta.T\n",
    "f_ETA.standard_name = \"interface height to sponge towards\"\n",
    "f_ETA.units = \"m\"\n",
    "\n",
    "InputFile.close()"
   ]
  },
  {
   "cell_type": "code",
   "execution_count": 13,
   "metadata": {},
   "outputs": [
    {
     "name": "stdout",
     "output_type": "stream",
     "text": [
      "0.006283185307179587\n",
      "0.00015866629563584815\n"
     ]
    }
   ],
   "source": [
    "print(2*np.pi/LENLON)\n",
    "print(2*np.pi/(3600*11))"
   ]
  },
  {
   "cell_type": "code",
   "execution_count": 13,
   "metadata": {},
   "outputs": [
    {
     "data": {
      "text/plain": [
       "<matplotlib.lines.Line2D at 0x2b1b417e7f28>"
      ]
     },
     "execution_count": 13,
     "metadata": {},
     "output_type": "execute_result"
    },
    {
     "data": {
      "image/png": "[encoded data removed]",
      "text/plain": [
       "<Figure size 432x288 with 1 Axes>"
      ]
     },
     "metadata": {},
     "output_type": "display_data"
    }
   ],
   "source": [
    "plt.plot(Depth[:,30])\n",
    "plt.axhline(y=0)"
   ]
  },
  {
   "cell_type": "code",
   "execution_count": 14,
   "metadata": {},
   "outputs": [
    {
     "name": "stdout",
     "output_type": "stream",
     "text": [
      "-400.07636056978953\n"
     ]
    }
   ],
   "source": [
    "print(np.max(-Depth[:,:]))"
   ]
  },
  {
   "cell_type": "code",
   "execution_count": 15,
   "metadata": {},
   "outputs": [
    {
     "ename": "NameError",
     "evalue": "name 'exp_list' is not defined",
     "output_type": "error",
     "traceback": [
      "\u001b[0;31m---------------------------------------------------------------------------\u001b[0m",
      "\u001b[0;31mNameError\u001b[0m                                 Traceback (most recent call last)",
      "\u001b[0;32m<ipython-input-15-d065e0f33af5>\u001b[0m in \u001b[0;36m<module>\u001b[0;34m()\u001b[0m\n\u001b[1;32m     17\u001b[0m     \u001b[0;32mreturn\u001b[0m \u001b[0mMAXIMUM_DEPTH\u001b[0m\u001b[0;34m*\u001b[0m\u001b[0mnp\u001b[0m\u001b[0;34m.\u001b[0m\u001b[0masarray\u001b[0m\u001b[0;34m(\u001b[0m\u001b[0;34m[\u001b[0m\u001b[0ma\u001b[0m \u001b[0;32mfor\u001b[0m \u001b[0ma\u001b[0m \u001b[0;32min\u001b[0m \u001b[0mreversed\u001b[0m\u001b[0;34m(\u001b[0m\u001b[0mexp_list\u001b[0m\u001b[0;34m(\u001b[0m\u001b[0mNK\u001b[0m\u001b[0;34m)\u001b[0m\u001b[0;34m)\u001b[0m\u001b[0;34m]\u001b[0m\u001b[0;34m)\u001b[0m\u001b[0;34m\u001b[0m\u001b[0m\n\u001b[1;32m     18\u001b[0m \u001b[0;34m\u001b[0m\u001b[0m\n\u001b[0;32m---> 19\u001b[0;31m \u001b[0meta0\u001b[0m \u001b[0;34m=\u001b[0m \u001b[0mMAXIMUM_DEPTH\u001b[0m\u001b[0;34m*\u001b[0m\u001b[0mnp\u001b[0m\u001b[0;34m.\u001b[0m\u001b[0masarray\u001b[0m\u001b[0;34m(\u001b[0m\u001b[0;34m[\u001b[0m\u001b[0ma\u001b[0m \u001b[0;32mfor\u001b[0m \u001b[0ma\u001b[0m \u001b[0;32min\u001b[0m \u001b[0mreversed\u001b[0m\u001b[0;34m(\u001b[0m\u001b[0mexp_list\u001b[0m\u001b[0;34m(\u001b[0m\u001b[0mNK\u001b[0m\u001b[0;34m)\u001b[0m\u001b[0;34m)\u001b[0m\u001b[0;34m]\u001b[0m\u001b[0;34m)\u001b[0m\u001b[0;34m\u001b[0m\u001b[0m\n\u001b[0m\u001b[1;32m     20\u001b[0m \u001b[0;34m\u001b[0m\u001b[0m\n\u001b[1;32m     21\u001b[0m \u001b[0mfig\u001b[0m \u001b[0;34m=\u001b[0m \u001b[0mplt\u001b[0m\u001b[0;34m.\u001b[0m\u001b[0mfigure\u001b[0m\u001b[0;34m(\u001b[0m\u001b[0mfigsize\u001b[0m\u001b[0;34m=\u001b[0m\u001b[0;34m(\u001b[0m\u001b[0;36m10\u001b[0m\u001b[0;34m,\u001b[0m\u001b[0;36m5\u001b[0m\u001b[0;34m)\u001b[0m\u001b[0;34m)\u001b[0m\u001b[0;34m\u001b[0m\u001b[0m\n",
      "\u001b[0;31mNameError\u001b[0m: name 'exp_list' is not defined"
     ]
    }
   ],
   "source": [
    "def exp_strat(NK):\n",
    "    first = -1\n",
    "    last = 0\n",
    "    \n",
    "    if first>last:\n",
    "        first,last = last,first\n",
    "        \n",
    "    exp_first = np.exp(first)\n",
    "    exp_last = np.exp(last)\n",
    "    step = (exp_last-exp_first)/(NK-1)\n",
    "    \n",
    "    out = np.zeros(NK)\n",
    "    A = np.linspace(exp_first, exp_last, NK)\n",
    "    for i in range(len(A)):\n",
    "        a = A[i]\n",
    "        out[i] = np.log(a)\n",
    "    return MAXIMUM_DEPTH*np.asarray([a for a in reversed(exp_list(NK))])\n",
    "\n",
    "eta0 = MAXIMUM_DEPTH*np.asarray([a for a in reversed(exp_list(NK))])\n",
    "\n",
    "fig = plt.figure(figsize=(10,5))\n",
    "ax = plt.subplot(111)\n",
    "for eta in eta0:\n",
    "    ax.axhline(eta)\n",
    "ax.set_ylim([-MAXIMUM_DEPTH,50])\n"
   ]
  },
  {
   "cell_type": "code",
   "execution_count": null,
   "metadata": {},
   "outputs": [],
   "source": [
    "eta0"
   ]
  },
  {
   "cell_type": "code",
   "execution_count": null,
   "metadata": {},
   "outputs": [],
   "source": [
    "gint = 0.00196 \n",
    "h = 32\n",
    "N2 = gint/h\n",
    "N2"
   ]
  },
  {
   "cell_type": "code",
   "execution_count": null,
   "metadata": {},
   "outputs": [],
   "source": [
    "h0 = [-eta0[i]+ eta0[i-1] for i in range(1,len(eta0))]\n",
    "h0"
   ]
  },
  {
   "cell_type": "code",
   "execution_count": null,
   "metadata": {},
   "outputs": [],
   "source": []
  },
  {
   "cell_type": "code",
   "execution_count": null,
   "metadata": {},
   "outputs": [],
   "source": []
  },
  {
   "cell_type": "code",
   "execution_count": null,
   "metadata": {},
   "outputs": [],
   "source": []
  }
 ],
 "metadata": {
  "kernelspec": {
   "display_name": "Python 3",
   "language": "python",
   "name": "python3"
  },
  "language_info": {
   "codemirror_mode": {
    "name": "ipython",
    "version": 3
   },
   "file_extension": ".py",
   "mimetype": "text/x-python",
   "name": "python",
   "nbconvert_exporter": "python",
   "pygments_lexer": "ipython3",
   "version": "3.7.4"
  }
 },
 "nbformat": 4,
 "nbformat_minor": 2
}
