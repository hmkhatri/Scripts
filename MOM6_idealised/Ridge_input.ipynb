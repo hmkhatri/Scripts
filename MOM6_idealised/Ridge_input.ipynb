{
 "cells": [
  {
   "cell_type": "markdown",
   "metadata": {},
   "source": [
    "# MOM6 input file idealised case"
   ]
  },
  {
   "cell_type": "code",
   "execution_count": 1,
   "metadata": {},
   "outputs": [],
   "source": [
    "import numpy as np\n",
    "import netCDF4 as nc\n",
    "import matplotlib.pyplot as plt\n",
    "import xarray as xr"
   ]
  },
  {
   "cell_type": "code",
   "execution_count": 2,
   "metadata": {},
   "outputs": [],
   "source": [
    "# First define grid\n",
    "NI, NJ, NK = 800, 400, 2 # number of points in zonal, meridional and vertical levels\n",
    "LENLON, LENLAT = 3200., 1600. # in km \n",
    "MAXIMUM_DEPTH = 4000.   # in m \n",
    "WESTLON, SOUTHLAT = 0.0, 0.0\n",
    "\n",
    "X = np.linspace(WESTLON, WESTLON + LENLON - 0*LENLON/NI, NI)\n",
    "Y = np.linspace(SOUTHLAT, SOUTHLAT + LENLAT - 0*LENLAT/NJ, NJ)\n",
    "#Z = [k for k in range(NK)]\n",
    "\n",
    "Xm, Ym = np.meshgrid(X,Y)"
   ]
  },
  {
   "cell_type": "code",
   "execution_count": 21,
   "metadata": {},
   "outputs": [],
   "source": [
    "def flat_bottom():\n",
    "    D = MAXIMUM_DEPTH*np.ones((NJ,NI))\n",
    "    return D\n",
    "\n",
    "def Navid_ridge_bottom(H0, sigma):\n",
    "    D = MAXIMUM_DEPTH*np.ones((NJ,NI))\n",
    "    ridge = np.exp(-((Xm - LENLON/6)/sigma)**2) + np.exp(-((Xm - 2*LENLON/6)/sigma)**2) \\\n",
    "    + np.exp(-((Xm - 3*LENLON/6)/sigma)**2) + np.exp(-((Xm - 4*LENLON/6)/sigma)**2) \\\n",
    "    + np.exp(-((Xm - 5*LENLON/6)/sigma)**2)\n",
    "    ridge = ridge*H0/np.max(ridge)\n",
    "    D = D - ridge\n",
    "    return D\n",
    "\n",
    "def guassian_ridge_bottom(H0, sigma):\n",
    "    D = MAXIMUM_DEPTH*np.ones((NJ,NI))\n",
    "    ridge = np.exp(-((Xm - LENLON/2)/sigma)**2)\n",
    "    ridge = ridge - np.min(ridge)\n",
    "    ridge = ridge*H0/np.max(ridge)\n",
    "    D = D - ridge\n",
    "    return D\n",
    "\n",
    "#def pyramid_zonal_bottom(H0):\n",
    "#    D = MAXIMUM_DEPTH*np.ones((NJ,NI))\n",
    "#    pyramid = Xm\n",
    "\n",
    "def zero_velocity():\n",
    "    u = np.zeros((NK,NJ,NI))\n",
    "    v = np.zeros((NK,NJ,NI))\n",
    "    return u,v\n",
    "\n",
    "def wind_stress(tau_0):\n",
    "    taux = tau_0*np.sin(np.pi*Ym/LENLAT)**2\n",
    "    tauy = np.zeros((NJ,NI))\n",
    "    return taux, tauy\n",
    "\n",
    "def wind_stress_Navid(tau_0):\n",
    "    taux = tau_0*np.sin(np.pi*(Ym - 0*LENLAT/4.)/(3*LENLAT/4))**2\n",
    "    taux[int(np.round(3*NJ/4)):,:] = 0.\n",
    "    tauy = np.zeros((NJ,NI))\n",
    "    return taux, tauy\n",
    "\n",
    "\n",
    "# Returns an array h[k,j,i] representing the layer thickness of the k-th layer at (lat,lon) \n",
    "# and an array eta[k,j,i] with the heights of each interface.\n",
    "# Note that h has NK values in the vertical while eta has NK+1 values.\n",
    "# k = 0 is the surface layer, with increasing k descending down the layers.\n",
    "# h[i,j,k] >= ANGSTROM, which is the minimum layer thickness.\n",
    "# input : D[i,j], a two-dimensional array of the depth of the ocean.\n",
    "def layer_thickness(eta0, depth):\n",
    "    eta = np.zeros((NK+1,NJ,NI))\n",
    "    h = np.zeros((NK,NJ,NI))\n",
    "    \n",
    "    eta[NK-1,:,:] = -MAXIMUM_DEPTH/4.\n",
    "    eta[NK,:,:] = - depth\n",
    "    \n",
    "    for k in range(0,NK):\n",
    "        h[k,:,:] = eta[k,:,:] - eta[k+1,:,:]\n",
    "        \n",
    "    return h, eta"
   ]
  },
  {
   "cell_type": "code",
   "execution_count": 40,
   "metadata": {},
   "outputs": [
    {
     "name": "stdout",
     "output_type": "stream",
     "text": [
      "0.005333333333333333 [1027.35, 1027.9091020408162]\n"
     ]
    }
   ],
   "source": [
    "tau_0 = 0.15\n",
    "\n",
    "ridge_h0 = 400.\n",
    "sigma = 400.\n",
    "H1, H2 = (1000., 3000.)\n",
    "\n",
    "Rd = 20000\n",
    "f = -10**-4\n",
    "gp = Rd**2*MAXIMUM_DEPTH*f**2/(H1*H2)\n",
    "\n",
    "rho_0 = 1027.35\n",
    "rho_1 = gp*rho_0/9.8 + rho_0\n",
    "\n",
    "density = [rho_0, rho_1]\n",
    "\n",
    "print(gp, density)\n",
    "\n",
    "depth = guassian_ridge_bottom(ridge_h0, sigma)\n",
    "taux, tauy = wind_stress(tau_0)\n",
    "\n",
    "#depth = Navid_ridge_bottom(ridge_h0, 100)\n",
    "#taux, tauy = wind_stress_Navid(tau_0)\n",
    "\n",
    "eta0 = [0., -MAXIMUM_DEPTH/2., -MAXIMUM_DEPTH]\n",
    "h, eta = layer_thickness(eta0, depth)"
   ]
  },
  {
   "cell_type": "code",
   "execution_count": 41,
   "metadata": {},
   "outputs": [
    {
     "name": "stdout",
     "output_type": "stream",
     "text": [
      "(2, 400, 800) (3, 400, 800)\n"
     ]
    }
   ],
   "source": [
    "print(h.shape, eta.shape)\n",
    "#print(density)\n",
    "#print(eta[2,:,:])"
   ]
  },
  {
   "cell_type": "code",
   "execution_count": 43,
   "metadata": {},
   "outputs": [
    {
     "data": {
      "text/plain": [
       "<matplotlib.colorbar.Colorbar at 0x2b15dbbabd10>"
      ]
     },
     "execution_count": 43,
     "metadata": {},
     "output_type": "execute_result"
    },
    {
     "data": {
      "image/png": "[encoded data removed]",
      "text/plain": [
       "<Figure size 432x288 with 2 Axes>"
      ]
     },
     "metadata": {
      "needs_background": "light"
     },
     "output_type": "display_data"
    }
   ],
   "source": [
    "#plt.contourf(X,Y,taux.transpose())\n",
    "#plt.colorbar()\n",
    "\n",
    "plt.contourf(X,Y,depth)\n",
    "plt.colorbar()\n",
    "\n",
    "#plt.plot(Y, tau_0*np.sin(np.pi*Y/LENLAT)**2)\n",
    "#plt.plot(Y, tau_0*np.sin(2*np.pi*Y/LENLAT))"
   ]
  },
  {
   "cell_type": "code",
   "execution_count": 34,
   "metadata": {},
   "outputs": [
    {
     "name": "stdout",
     "output_type": "stream",
     "text": [
      "(400, 800)\n",
      "(400, 800)\n",
      "0.0\n",
      "0.0\n",
      "0.0\n",
      "-3.6739403974420595e-17\n"
     ]
    },
    {
     "data": {
      "text/plain": [
       "0.0"
      ]
     },
     "execution_count": 34,
     "metadata": {},
     "output_type": "execute_result"
    },
    {
     "data": {
      "image/png": "[encoded data removed]",
      "text/plain": [
       "<Figure size 432x288 with 1 Axes>"
      ]
     },
     "metadata": {
      "needs_background": "light"
     },
     "output_type": "display_data"
    }
   ],
   "source": [
    "print(taux.shape)\n",
    "print(depth.shape)\n",
    "#Ym.shape\n",
    "#Xm\n",
    "\n",
    "a = tau_0*np.sin(2*np.pi*Y/LENLAT)\n",
    "#np.sum(a)\n",
    "\n",
    "ridge1 = np.exp(-((X - LENLON/2)/600.)**2) \n",
    "ridge1 = ridge1 - np.min(ridge1)\n",
    "ridge2 = np.exp(-((X - LENLON/2)/300.)**2)\n",
    "ridge2 = ridge2 - np.min(ridge2)\n",
    "plt.plot(X,ridge1)\n",
    "plt.plot(X, ridge2)\n",
    "print(ridge2[0])\n",
    "print(ridge2[-1])\n",
    "\n",
    "print(a[0])\n",
    "print(a[-1])\n",
    "np.sum(a)\n"
   ]
  },
  {
   "cell_type": "code",
   "execution_count": 44,
   "metadata": {},
   "outputs": [],
   "source": [
    "# Save data to nc file\n",
    "ds = xr.Dataset(\n",
    "        data_vars={'taux':    (('lat', 'lon'), taux),\n",
    "                   'tauy': (('lat', 'lon'), tauy),\n",
    "                   'depth':    (('lat', 'lon'), depth),\n",
    "                  'h': (('level', 'lat', 'lon'), h),\n",
    "                  'eta': (('interface','lat', 'lon'), eta)},\n",
    "        coords={'lat': Y, 'lon': X, 'depth_list': eta0, 'level': density})\n",
    "\n",
    "ds.lat.attrs['units'] = 'km'\n",
    "ds.lon.attrs['units'] = 'km'\n",
    "ds.depth_list.attrs['units'] = 'm'\n",
    "ds.level.attrs['units'] = 'kg m-3'\n",
    "ds.depth.attrs['units'] = 'm'\n",
    "ds.taux.attrs['units'] = 'N m-2'\n",
    "ds.tauy.attrs['units'] = 'N m-2'\n",
    "ds.h.attrs['units'] = 'm'\n",
    "ds.eta.attrs['units'] = 'm'\n",
    "\n",
    "ds.lon.attrs['standard_name'] = 'Longitude'\n",
    "ds.lat.attrs['standard_name'] = 'Latitude'\n",
    "ds.depth_list.attrs['standard_name'] = 'Mean Interface Height'\n",
    "ds.level.attrs['standard_name'] = 'Mean Layer Density'\n",
    "ds.depth.attrs['standard_name'] = 'Total Depth'\n",
    "ds.taux.attrs['standard_name'] = 'Zonal Wind Stress'\n",
    "ds.tauy.attrs['standard_name'] = 'Meridional Wind Stress'\n",
    "ds.h.attrs['standard_name'] = 'Layer Depth'\n",
    "ds.eta.attrs['standard_name'] = 'Interface Height'\n",
    "\n",
    "file = '/home/Hemant.Khatri/Work/MOM6_input/input_H_' + str(round(ridge_h0)) + '_sigma_' + str(round(sigma)) + '.nc'\n",
    "ds.to_netcdf(path=file)"
   ]
  },
  {
   "cell_type": "code",
   "execution_count": 39,
   "metadata": {},
   "outputs": [
    {
     "data": {
      "text/plain": [
       "<xarray.Dataset>\n",
       "Dimensions:     (depth_list: 3, interface: 3, lat: 400, level: 2, lon: 800)\n",
       "Coordinates:\n",
       "  * lat         (lat) float64 0.0 4.01 8.02 ... 1.592e+03 1.596e+03 1.6e+03\n",
       "  * lon         (lon) float64 0.0 4.005 8.01 ... 3.192e+03 3.196e+03 3.2e+03\n",
       "  * depth_list  (depth_list) float64 0.0 -2e+03 -4e+03\n",
       "  * level       (level) float64 1.027e+03 1.028e+03\n",
       "Dimensions without coordinates: interface\n",
       "Data variables:\n",
       "    taux        (lat, lon) float64 0.0 0.0 0.0 ... 2.25e-33 2.25e-33 2.25e-33\n",
       "    tauy        (lat, lon) float64 0.0 0.0 0.0 0.0 0.0 ... 0.0 0.0 0.0 0.0 0.0\n",
       "    depth       (lat, lon) float64 4e+03 4e+03 4e+03 4e+03 ... 4e+03 4e+03 4e+03\n",
       "    h           (level, lat, lon) float64 1e+03 1e+03 1e+03 ... 3e+03 3e+03\n",
       "    eta         (interface, lat, lon) float64 0.0 0.0 0.0 ... -4e+03 -4e+03"
      ]
     },
     "execution_count": 39,
     "metadata": {},
     "output_type": "execute_result"
    }
   ],
   "source": [
    "ds"
   ]
  },
  {
   "cell_type": "code",
   "execution_count": 10,
   "metadata": {},
   "outputs": [
    {
     "name": "stdout",
     "output_type": "stream",
     "text": [
      "0.00524650800603668 19836.53448697002\n"
     ]
    }
   ],
   "source": [
    "# Baroclinic Rossby deformation radius\n",
    "rho1, rho2 = (1027.35, 1027.9)\n",
    "H1, H2 = (1000., 3000.)\n",
    "fo = 10**-4\n",
    "gp = 9.8*(rho2-rho1)/rho1\n",
    "\n",
    "Rd = np.sqrt(gp*H1*H2/(H1+H2))/fo\n",
    "\n",
    "print(gp, Rd)\n",
    "\n"
   ]
  },
  {
   "cell_type": "code",
   "execution_count": 43,
   "metadata": {},
   "outputs": [
    {
     "data": {
      "text/plain": [
       "3.0"
      ]
     },
     "execution_count": 43,
     "metadata": {},
     "output_type": "execute_result"
    }
   ],
   "source": [
    "np.round(3*LENLAT/(4*NJ))"
   ]
  },
  {
   "cell_type": "code",
   "execution_count": 36,
   "metadata": {},
   "outputs": [
    {
     "data": {
      "text/plain": [
       "'/nbhome/Hemant.Khatri/Work/input_H_400_sigma_600.nc'"
      ]
     },
     "execution_count": 36,
     "metadata": {},
     "output_type": "execute_result"
    }
   ],
   "source": [
    "file = '/nbhome/Hemant.Khatri/Work/input_H_' + str(round(ridge_h0)) + '_sigma_' + str(round(sigma)) + '.nc'\n",
    "file"
   ]
  },
  {
   "cell_type": "code",
   "execution_count": null,
   "metadata": {},
   "outputs": [],
   "source": []
  }
 ],
 "metadata": {
  "kernelspec": {
   "display_name": "Python 3",
   "language": "python",
   "name": "python3"
  },
  "language_info": {
   "codemirror_mode": {
    "name": "ipython",
    "version": 3
   },
   "file_extension": ".py",
   "mimetype": "text/x-python",
   "name": "python",
   "nbconvert_exporter": "python",
   "pygments_lexer": "ipython3",
   "version": "3.7.4"
  }
 },
 "nbformat": 4,
 "nbformat_minor": 2
}
