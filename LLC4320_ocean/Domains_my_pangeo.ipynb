{
 "cells": [
  {
   "cell_type": "markdown",
   "metadata": {},
   "source": [
    "# Analysis of 1/48 Deg global ocean run\n",
    "Relevant links -\n",
    "\n",
    "https://medium.com/pangeo/petabytes-of-ocean-data-part-1-nasa-ecco-data-portal-81e3c5e077be \n",
    "\n",
    "https://xmitgcm.readthedocs.io/en/latest/llcreader.html\n",
    "\n",
    "https://pangeo-data.github.io/pangeo-datastore/master/ocean/llc4320.html#llc4320-grid\n",
    "\n",
    "https://ecco.jpl.nasa.gov/products/latest/user-guide/"
   ]
  },
  {
   "cell_type": "code",
   "execution_count": 8,
   "metadata": {},
   "outputs": [],
   "source": [
    "import xarray as xr\n",
    "import dask.array as da\n",
    "#from dask.distributed import Client, LocalCluster\n",
    "from xgcm import Grid\n",
    "import xrft\n",
    "import numpy as np\n",
    "import matplotlib.pyplot as plt\n",
    "import matplotlib.cm as cm\n",
    "from xmitgcm import llcreader\n",
    "import intake\n",
    "import os\n",
    "%matplotlib inline"
   ]
  },
  {
   "cell_type": "code",
   "execution_count": 9,
   "metadata": {},
   "outputs": [
    {
     "name": "stderr",
     "output_type": "stream",
     "text": [
      "distributed.scheduler - INFO - Clear task state\n",
      "/home/jovyan/my-conda-envs/my-pangeo/lib/python3.7/site-packages/distributed/dashboard/core.py:72: UserWarning: \n",
      "Port 8787 is already in use. \n",
      "Perhaps you already have a cluster running?\n",
      "Hosting the diagnostics dashboard on a random port instead.\n",
      "  warnings.warn(\"\\n\" + msg)\n",
      "distributed.scheduler - INFO -   Scheduler at:    tcp://10.32.5.72:46543\n",
      "distributed.scheduler - INFO -   dashboard at:                    :42161\n"
     ]
    },
    {
     "data": {
      "application/vnd.jupyter.widget-view+json": {
       "model_id": "88926bd82e004f09934be49fbee2cebb",
       "version_major": 2,
       "version_minor": 0
      },
      "text/plain": [
       "VBox(children=(HTML(value='<h2>KubeCluster</h2>'), HBox(children=(HTML(value='\\n<div>\\n  <style scoped>\\n    .…"
      ]
     },
     "metadata": {},
     "output_type": "display_data"
    },
    {
     "name": "stderr",
     "output_type": "stream",
     "text": [
      "distributed.scheduler - INFO - Register tcp://10.32.3.9:33279\n",
      "distributed.scheduler - INFO - Starting worker compute stream, tcp://10.32.3.9:33279\n",
      "distributed.core - INFO - Starting established connection\n",
      "distributed.scheduler - INFO - Register tcp://10.32.20.5:46003\n",
      "distributed.scheduler - INFO - Starting worker compute stream, tcp://10.32.20.5:46003\n",
      "distributed.core - INFO - Starting established connection\n",
      "distributed.scheduler - INFO - Register tcp://10.32.20.6:42753\n",
      "distributed.scheduler - INFO - Starting worker compute stream, tcp://10.32.20.6:42753\n",
      "distributed.core - INFO - Starting established connection\n"
     ]
    }
   ],
   "source": [
    "from dask.distributed import Client\n",
    "from dask_kubernetes import KubeCluster, make_pod_spec\n",
    "\n",
    "pod_spec = make_pod_spec(image='daskdev/dask:latest', memory_limit='7G', memory_request='4G', cpu_limit=1, cpu_request=1,\n",
    "                         env={'EXTRA_PIP_PACKAGES': 'fastparquet git+https://github.com/dask/distributed git+https://github.com/MITgcm/xmitgcm.git'})\n",
    "cluster = KubeCluster(pod_spec)\n",
    "\n",
    "cluster.scale(4)\n",
    "#cluster.adapt(minimum=1, maximum=10, interval='500ms')\n",
    "\n",
    "# ----- below are not working ------------\n",
    "#cluster = KubeCluster(env={'PATH': '/home/jovyan/my-conda-envs/my-pangeo/bin:$PATH'})\n",
    "#cluster = KubeCluster(env={'NB_PYTHON_PREFIX':sys.prefix})\n",
    "#cluster.scale(4)\n",
    "\n",
    "#cluster = KubeCluster(n_workers=8)\n",
    "#cluster.adapt(minimum=1, maximum=10)\n",
    "\n",
    "cluster"
   ]
  },
  {
   "cell_type": "code",
   "execution_count": 10,
   "metadata": {},
   "outputs": [
    {
     "name": "stderr",
     "output_type": "stream",
     "text": [
      "distributed.scheduler - INFO - Receive client connection: Client-417b58ec-2040-11ea-81a8-86992f78e425\n",
      "distributed.core - INFO - Starting established connection\n"
     ]
    },
    {
     "data": {
      "text/plain": [
       "{'tcp://10.32.20.5:46003': environ{'KUBERNETES_SERVICE_PORT_HTTPS': '443',\n",
       "         'KUBE_LEGO_NGINX_PORT': 'tcp://10.4.11.84:8080',\n",
       "         'KUBERNETES_SERVICE_PORT': '443',\n",
       "         'PROXY_API_SERVICE_HOST': '10.4.4.147',\n",
       "         'HOSTNAME': 'dask-0000-0001-6559-9059-7d8e089f-b6xtnl',\n",
       "         'DASK_SCHEDULER_ADDRESS': 'tcp://10.32.5.72:46543',\n",
       "         'PROXY_API_SERVICE_PORT': '8001',\n",
       "         'PROXY_HTTP_PORT_8000_TCP_ADDR': '10.4.5.195',\n",
       "         'PROXY_PUBLIC_PORT_80_TCP': 'tcp://10.4.6.187:80',\n",
       "         'PROXY_PUBLIC_PORT': 'tcp://10.4.6.187:80',\n",
       "         'PROXY_PUBLIC_SERVICE_PORT_HTTP': '80',\n",
       "         'PWD': '/',\n",
       "         'KUBE_LEGO_NGINX_SERVICE_PORT': '8080',\n",
       "         'PROXY_API_PORT_8001_TCP_ADDR': '10.4.4.147',\n",
       "         'HUB_SERVICE_HOST': '10.4.7.140',\n",
       "         'HOME': '/root',\n",
       "         'LANG': 'C.UTF-8',\n",
       "         'KUBERNETES_PORT_443_TCP': 'tcp://10.4.0.1:443',\n",
       "         'PROXY_HTTP_SERVICE_PORT': '8000',\n",
       "         'PROXY_HTTP_PORT_8000_TCP_PORT': '8000',\n",
       "         'PROXY_API_PORT_8001_TCP_PORT': '8001',\n",
       "         'HUB_SERVICE_PORT': '8081',\n",
       "         'PROXY_PUBLIC_PORT_443_TCP': 'tcp://10.4.6.187:443',\n",
       "         'PROXY_PUBLIC_PORT_443_TCP_PORT': '443',\n",
       "         'KUBE_LEGO_NGINX_PORT_8080_TCP': 'tcp://10.4.11.84:8080',\n",
       "         'PROXY_PUBLIC_SERVICE_HOST': '10.4.6.187',\n",
       "         'PROXY_PUBLIC_PORT_80_TCP_PROTO': 'tcp',\n",
       "         'HUB_PORT': 'tcp://10.4.7.140:8081',\n",
       "         'PROXY_PUBLIC_PORT_80_TCP_ADDR': '10.4.6.187',\n",
       "         'HUB_PORT_8081_TCP': 'tcp://10.4.7.140:8081',\n",
       "         'PROXY_API_PORT': 'tcp://10.4.4.147:8001',\n",
       "         'PROXY_HTTP_PORT': 'tcp://10.4.5.195:8000',\n",
       "         'PROXY_PUBLIC_PORT_443_TCP_PROTO': 'tcp',\n",
       "         'KUBE_LEGO_NGINX_PORT_8080_TCP_ADDR': '10.4.11.84',\n",
       "         'PROXY_PUBLIC_SERVICE_PORT_HTTPS': '443',\n",
       "         'PROXY_API_PORT_8001_TCP_PROTO': 'tcp',\n",
       "         'SHLVL': '0',\n",
       "         'KUBERNETES_PORT_443_TCP_PROTO': 'tcp',\n",
       "         'PROXY_PUBLIC_PORT_80_TCP_PORT': '80',\n",
       "         'KUBERNETES_PORT_443_TCP_ADDR': '10.4.0.1',\n",
       "         'KUBE_LEGO_NGINX_PORT_8080_TCP_PROTO': 'tcp',\n",
       "         'PROXY_PUBLIC_PORT_443_TCP_ADDR': '10.4.6.187',\n",
       "         'EXTRA_PIP_PACKAGES': 'fastparquet git+https://github.com/dask/distributed git+https://github.com/MITgcm/xmitgcm.git',\n",
       "         'PROXY_HTTP_PORT_8000_TCP_PROTO': 'tcp',\n",
       "         'KUBERNETES_SERVICE_HOST': '10.4.0.1',\n",
       "         'LC_ALL': 'C.UTF-8',\n",
       "         'KUBERNETES_PORT': 'tcp://10.4.0.1:443',\n",
       "         'KUBERNETES_PORT_443_TCP_PORT': '443',\n",
       "         'PROXY_API_PORT_8001_TCP': 'tcp://10.4.4.147:8001',\n",
       "         'PROXY_PUBLIC_SERVICE_PORT': '80',\n",
       "         'PROXY_HTTP_SERVICE_HOST': '10.4.5.195',\n",
       "         'HUB_PORT_8081_TCP_PORT': '8081',\n",
       "         'PATH': '/opt/conda/bin:/usr/local/sbin:/usr/local/bin:/usr/sbin:/usr/bin:/sbin:/bin',\n",
       "         'HUB_PORT_8081_TCP_ADDR': '10.4.7.140',\n",
       "         'KUBE_LEGO_NGINX_PORT_8080_TCP_PORT': '8080',\n",
       "         'HUB_PORT_8081_TCP_PROTO': 'tcp',\n",
       "         'PROXY_HTTP_PORT_8000_TCP': 'tcp://10.4.5.195:8000',\n",
       "         'KUBE_LEGO_NGINX_SERVICE_HOST': '10.4.11.84',\n",
       "         'DASK_PARENT': '6'},\n",
       " 'tcp://10.32.20.6:42753': environ{'KUBERNETES_SERVICE_PORT_HTTPS': '443',\n",
       "         'KUBE_LEGO_NGINX_PORT': 'tcp://10.4.11.84:8080',\n",
       "         'KUBERNETES_SERVICE_PORT': '443',\n",
       "         'PROXY_API_SERVICE_HOST': '10.4.4.147',\n",
       "         'HOSTNAME': 'dask-0000-0001-6559-9059-7d8e089f-b5kmcc',\n",
       "         'DASK_SCHEDULER_ADDRESS': 'tcp://10.32.5.72:46543',\n",
       "         'PROXY_API_SERVICE_PORT': '8001',\n",
       "         'PROXY_HTTP_PORT_8000_TCP_ADDR': '10.4.5.195',\n",
       "         'PROXY_PUBLIC_PORT_80_TCP': 'tcp://10.4.6.187:80',\n",
       "         'PROXY_PUBLIC_PORT': 'tcp://10.4.6.187:80',\n",
       "         'PROXY_PUBLIC_SERVICE_PORT_HTTP': '80',\n",
       "         'PWD': '/',\n",
       "         'KUBE_LEGO_NGINX_SERVICE_PORT': '8080',\n",
       "         'PROXY_API_PORT_8001_TCP_ADDR': '10.4.4.147',\n",
       "         'HUB_SERVICE_HOST': '10.4.7.140',\n",
       "         'HOME': '/root',\n",
       "         'LANG': 'C.UTF-8',\n",
       "         'KUBERNETES_PORT_443_TCP': 'tcp://10.4.0.1:443',\n",
       "         'PROXY_HTTP_SERVICE_PORT': '8000',\n",
       "         'PROXY_HTTP_PORT_8000_TCP_PORT': '8000',\n",
       "         'HUB_SERVICE_PORT': '8081',\n",
       "         'PROXY_API_PORT_8001_TCP_PORT': '8001',\n",
       "         'PROXY_PUBLIC_PORT_443_TCP': 'tcp://10.4.6.187:443',\n",
       "         'PROXY_PUBLIC_PORT_443_TCP_PORT': '443',\n",
       "         'KUBE_LEGO_NGINX_PORT_8080_TCP': 'tcp://10.4.11.84:8080',\n",
       "         'PROXY_PUBLIC_SERVICE_HOST': '10.4.6.187',\n",
       "         'PROXY_PUBLIC_PORT_80_TCP_PROTO': 'tcp',\n",
       "         'HUB_PORT': 'tcp://10.4.7.140:8081',\n",
       "         'PROXY_PUBLIC_PORT_80_TCP_ADDR': '10.4.6.187',\n",
       "         'HUB_PORT_8081_TCP': 'tcp://10.4.7.140:8081',\n",
       "         'PROXY_API_PORT': 'tcp://10.4.4.147:8001',\n",
       "         'PROXY_PUBLIC_PORT_443_TCP_PROTO': 'tcp',\n",
       "         'PROXY_HTTP_PORT': 'tcp://10.4.5.195:8000',\n",
       "         'KUBE_LEGO_NGINX_PORT_8080_TCP_ADDR': '10.4.11.84',\n",
       "         'PROXY_PUBLIC_SERVICE_PORT_HTTPS': '443',\n",
       "         'PROXY_API_PORT_8001_TCP_PROTO': 'tcp',\n",
       "         'SHLVL': '0',\n",
       "         'KUBERNETES_PORT_443_TCP_PROTO': 'tcp',\n",
       "         'PROXY_PUBLIC_PORT_80_TCP_PORT': '80',\n",
       "         'KUBERNETES_PORT_443_TCP_ADDR': '10.4.0.1',\n",
       "         'KUBE_LEGO_NGINX_PORT_8080_TCP_PROTO': 'tcp',\n",
       "         'PROXY_PUBLIC_PORT_443_TCP_ADDR': '10.4.6.187',\n",
       "         'EXTRA_PIP_PACKAGES': 'fastparquet git+https://github.com/dask/distributed git+https://github.com/MITgcm/xmitgcm.git',\n",
       "         'PROXY_HTTP_PORT_8000_TCP_PROTO': 'tcp',\n",
       "         'KUBERNETES_SERVICE_HOST': '10.4.0.1',\n",
       "         'LC_ALL': 'C.UTF-8',\n",
       "         'KUBERNETES_PORT': 'tcp://10.4.0.1:443',\n",
       "         'KUBERNETES_PORT_443_TCP_PORT': '443',\n",
       "         'PROXY_API_PORT_8001_TCP': 'tcp://10.4.4.147:8001',\n",
       "         'PROXY_PUBLIC_SERVICE_PORT': '80',\n",
       "         'PROXY_HTTP_SERVICE_HOST': '10.4.5.195',\n",
       "         'HUB_PORT_8081_TCP_PORT': '8081',\n",
       "         'PATH': '/opt/conda/bin:/usr/local/sbin:/usr/local/bin:/usr/sbin:/usr/bin:/sbin:/bin',\n",
       "         'HUB_PORT_8081_TCP_ADDR': '10.4.7.140',\n",
       "         'KUBE_LEGO_NGINX_PORT_8080_TCP_PORT': '8080',\n",
       "         'HUB_PORT_8081_TCP_PROTO': 'tcp',\n",
       "         'PROXY_HTTP_PORT_8000_TCP': 'tcp://10.4.5.195:8000',\n",
       "         'KUBE_LEGO_NGINX_SERVICE_HOST': '10.4.11.84',\n",
       "         'DASK_PARENT': '8'},\n",
       " 'tcp://10.32.3.9:33279': environ{'KUBERNETES_SERVICE_PORT_HTTPS': '443',\n",
       "         'KUBE_LEGO_NGINX_PORT': 'tcp://10.4.11.84:8080',\n",
       "         'KUBERNETES_SERVICE_PORT': '443',\n",
       "         'PROXY_API_SERVICE_HOST': '10.4.4.147',\n",
       "         'HOSTNAME': 'dask-0000-0001-6559-9059-7d8e089f-bdjgvt',\n",
       "         'DASK_SCHEDULER_ADDRESS': 'tcp://10.32.5.72:46543',\n",
       "         'PROXY_API_SERVICE_PORT': '8001',\n",
       "         'PROXY_HTTP_PORT_8000_TCP_ADDR': '10.4.5.195',\n",
       "         'PROXY_PUBLIC_PORT_80_TCP': 'tcp://10.4.6.187:80',\n",
       "         'PROXY_PUBLIC_PORT': 'tcp://10.4.6.187:80',\n",
       "         'PROXY_PUBLIC_SERVICE_PORT_HTTP': '80',\n",
       "         'PWD': '/',\n",
       "         'KUBE_LEGO_NGINX_SERVICE_PORT': '8080',\n",
       "         'PROXY_API_PORT_8001_TCP_ADDR': '10.4.4.147',\n",
       "         'HUB_SERVICE_HOST': '10.4.7.140',\n",
       "         'HOME': '/root',\n",
       "         'LANG': 'C.UTF-8',\n",
       "         'KUBERNETES_PORT_443_TCP': 'tcp://10.4.0.1:443',\n",
       "         'PROXY_HTTP_SERVICE_PORT': '8000',\n",
       "         'PROXY_HTTP_PORT_8000_TCP_PORT': '8000',\n",
       "         'HUB_SERVICE_PORT': '8081',\n",
       "         'PROXY_API_PORT_8001_TCP_PORT': '8001',\n",
       "         'PROXY_PUBLIC_PORT_443_TCP': 'tcp://10.4.6.187:443',\n",
       "         'PROXY_PUBLIC_PORT_443_TCP_PORT': '443',\n",
       "         'KUBE_LEGO_NGINX_PORT_8080_TCP': 'tcp://10.4.11.84:8080',\n",
       "         'PROXY_PUBLIC_SERVICE_HOST': '10.4.6.187',\n",
       "         'PROXY_PUBLIC_PORT_80_TCP_PROTO': 'tcp',\n",
       "         'HUB_PORT': 'tcp://10.4.7.140:8081',\n",
       "         'PROXY_PUBLIC_PORT_80_TCP_ADDR': '10.4.6.187',\n",
       "         'HUB_PORT_8081_TCP': 'tcp://10.4.7.140:8081',\n",
       "         'PROXY_API_PORT': 'tcp://10.4.4.147:8001',\n",
       "         'PROXY_PUBLIC_PORT_443_TCP_PROTO': 'tcp',\n",
       "         'PROXY_HTTP_PORT': 'tcp://10.4.5.195:8000',\n",
       "         'KUBE_LEGO_NGINX_PORT_8080_TCP_ADDR': '10.4.11.84',\n",
       "         'PROXY_PUBLIC_SERVICE_PORT_HTTPS': '443',\n",
       "         'PROXY_API_PORT_8001_TCP_PROTO': 'tcp',\n",
       "         'SHLVL': '0',\n",
       "         'KUBERNETES_PORT_443_TCP_PROTO': 'tcp',\n",
       "         'PROXY_PUBLIC_PORT_80_TCP_PORT': '80',\n",
       "         'KUBERNETES_PORT_443_TCP_ADDR': '10.4.0.1',\n",
       "         'KUBE_LEGO_NGINX_PORT_8080_TCP_PROTO': 'tcp',\n",
       "         'PROXY_PUBLIC_PORT_443_TCP_ADDR': '10.4.6.187',\n",
       "         'EXTRA_PIP_PACKAGES': 'fastparquet git+https://github.com/dask/distributed git+https://github.com/MITgcm/xmitgcm.git',\n",
       "         'PROXY_HTTP_PORT_8000_TCP_PROTO': 'tcp',\n",
       "         'KUBERNETES_SERVICE_HOST': '10.4.0.1',\n",
       "         'LC_ALL': 'C.UTF-8',\n",
       "         'KUBERNETES_PORT': 'tcp://10.4.0.1:443',\n",
       "         'KUBERNETES_PORT_443_TCP_PORT': '443',\n",
       "         'PROXY_API_PORT_8001_TCP': 'tcp://10.4.4.147:8001',\n",
       "         'PROXY_PUBLIC_SERVICE_PORT': '80',\n",
       "         'PROXY_HTTP_SERVICE_HOST': '10.4.5.195',\n",
       "         'HUB_PORT_8081_TCP_PORT': '8081',\n",
       "         'PATH': '/opt/conda/bin:/usr/local/sbin:/usr/local/bin:/usr/sbin:/usr/bin:/sbin:/bin',\n",
       "         'HUB_PORT_8081_TCP_ADDR': '10.4.7.140',\n",
       "         'KUBE_LEGO_NGINX_PORT_8080_TCP_PORT': '8080',\n",
       "         'HUB_PORT_8081_TCP_PROTO': 'tcp',\n",
       "         'PROXY_HTTP_PORT_8000_TCP': 'tcp://10.4.5.195:8000',\n",
       "         'KUBE_LEGO_NGINX_SERVICE_HOST': '10.4.11.84',\n",
       "         'DASK_PARENT': '7'}}"
      ]
     },
     "execution_count": 10,
     "metadata": {},
     "output_type": "execute_result"
    }
   ],
   "source": [
    "client = Client(cluster)\n",
    "client\n",
    "\n",
    "client.get_versions(check=True)\n",
    "client.run(lambda: os.environ)"
   ]
  },
  {
   "cell_type": "code",
   "execution_count": 11,
   "metadata": {},
   "outputs": [
    {
     "name": "stdout",
     "output_type": "stream",
     "text": [
      "<xarray.Dataset>\n",
      "Dimensions:  (face: 13, i: 17280, i_g: 17280, j: 12960, j_g: 12960, k: 1, k_l: 1, k_p1: 2, k_u: 1, time: 1)\n",
      "Coordinates:\n",
      "  * k_p1     (k_p1) int64 0 1\n",
      "  * j_g      (j_g) int64 0 1 2 3 4 5 6 ... 12954 12955 12956 12957 12958 12959\n",
      "  * time     (time) datetime64[ns] 2011-09-13\n",
      "  * i        (i) int64 0 1 2 3 4 5 6 ... 17274 17275 17276 17277 17278 17279\n",
      "  * k_u      (k_u) int64 1\n",
      "  * k_l      (k_l) int64 1\n",
      "  * k        (k) int64 1\n",
      "  * i_g      (i_g) int64 0 1 2 3 4 5 6 ... 17274 17275 17276 17277 17278 17279\n",
      "  * j        (j) int64 0 1 2 3 4 5 6 ... 12954 12955 12956 12957 12958 12959\n",
      "  * face     (face) int64 0 1 2 3 4 5 6 7 8 9 10 11 12\n",
      "    CS       (j, i) float32 dask.array<chunksize=(4320, 4320), meta=np.ndarray>\n",
      "    Depth    (j, i) float32 dask.array<chunksize=(4320, 4320), meta=np.ndarray>\n",
      "    PHrefC   float32 15.4017\n",
      "    PHrefF   (k_p1) float32 dask.array<chunksize=(2,), meta=np.ndarray>\n",
      "    SN       (j, i) float32 dask.array<chunksize=(4320, 4320), meta=np.ndarray>\n",
      "    XC       (j, i) float32 dask.array<chunksize=(4320, 4320), meta=np.ndarray>\n",
      "    XG       (j_g, i_g) float32 dask.array<chunksize=(4320, 4320), meta=np.ndarray>\n",
      "    YC       (j, i) float32 dask.array<chunksize=(4320, 4320), meta=np.ndarray>\n",
      "    YG       (j_g, i_g) float32 dask.array<chunksize=(4320, 4320), meta=np.ndarray>\n",
      "    Z        float32 -1.57\n",
      "    Zl       float32 -1.0\n",
      "    Zp1      (k_p1) float32 dask.array<chunksize=(2,), meta=np.ndarray>\n",
      "    Zu       float32 -2.14\n",
      "    drC      (k_p1) float32 dask.array<chunksize=(2,), meta=np.ndarray>\n",
      "    drF      float32 1.14\n",
      "    hFacC    (j, i) float32 dask.array<chunksize=(4320, 4320), meta=np.ndarray>\n",
      "    hFacS    (j_g, i) float32 dask.array<chunksize=(4320, 4320), meta=np.ndarray>\n",
      "    hFacW    (j, i_g) float32 dask.array<chunksize=(4320, 4320), meta=np.ndarray>\n",
      "    iter     (time) int64 dask.array<chunksize=(1,), meta=np.ndarray>\n",
      "    rA       (j, i) float32 dask.array<chunksize=(4320, 4320), meta=np.ndarray>\n",
      "    rAs      (j_g, i) float32 dask.array<chunksize=(4320, 4320), meta=np.ndarray>\n",
      "    rAw      (j, i_g) float32 dask.array<chunksize=(4320, 4320), meta=np.ndarray>\n",
      "    rAz      (j_g, i_g) float32 dask.array<chunksize=(4320, 4320), meta=np.ndarray>\n",
      "    dxC      (j, i_g) float32 dask.array<chunksize=(4320, 4320), meta=np.ndarray>\n",
      "    dyC      (j_g, i) float32 dask.array<chunksize=(1, 4320), meta=np.ndarray>\n",
      "    dyG      (j, i_g) float32 dask.array<chunksize=(4320, 4320), meta=np.ndarray>\n",
      "    dxG      (j_g, i) float32 dask.array<chunksize=(1, 4320), meta=np.ndarray>\n",
      "Data variables:\n",
      "    U        (time, k, j, i_g) float32 dask.array<chunksize=(1, 1, 12960, 4320), meta=np.ndarray>\n",
      "    V        (time, k, j_g, i) float32 dask.array<chunksize=(1, 1, 1, 4320), meta=np.ndarray>\n"
     ]
    }
   ],
   "source": [
    "# Load data from web\n",
    "cat = intake.Catalog(\"https://raw.githubusercontent.com/pangeo-data/pangeo-datastore/master/intake-catalogs/ocean/llc4320.yaml\")\n",
    "dsgrid = cat[\"LLC4320_grid\"].to_dask()\n",
    "dsgrid = llcreader.faces_dataset_to_latlon(dsgrid, metric_vector_pairs=[('dxC', 'dyC'), ('dyG', 'dxG')])\n",
    "\n",
    "model = llcreader.ECCOPortalLLC4320Model()\n",
    "#ds = model.get_dataset(varnames=['U','V'], k_levels=[1,3,5,10,30],type='latlon')\n",
    "ds = model.get_dataset(varnames=['U','V'], k_levels=[1],type='latlon') #,k_chunksize=5)\n",
    "\n",
    "ds = xr.merge([ds, dsgrid])\n",
    "ds = ds.isel(time = np.arange(0, 1)) #len(ds.time), 12))\n",
    "\n",
    "print(ds)"
   ]
  },
  {
   "cell_type": "code",
   "execution_count": 12,
   "metadata": {},
   "outputs": [],
   "source": [
    "# Create grid and compute vorticity, divergence\n",
    "grid = Grid(ds, coords={'X': {'center': 'i', 'right': 'i_g'}, 'Y': {'center': 'j', 'right': 'j_g'}}, periodic=['X'])\n",
    "\n",
    "#ds1 = model.get_dataset(varnames=['W'], type='latlon')\n",
    "#grid1 = Grid(ds1, coords={'X': {'center': 'i', 'right': 'i_g'}, 'Y': {'center': 'j', 'right': 'j_g'}, 'Z': {'center': 'k', 'outer': 'k_l'}})\n",
    "#ds1 = xr.merge([ds1, dsgrid])\n",
    "\n",
    "# Compute vorticity and divergence \n",
    "vorticity = ( - grid.diff(ds.U * ds.dxC, 'Y', boundary='fill') \n",
    "              + grid.diff(ds.V * ds.dyC, 'X', boundary='fill') ) / ds.rAz\n",
    "\n",
    "divergence =  ( grid.diff(ds.U * ds.dxC, 'X', boundary='fill') \n",
    "              + grid.diff(ds.V * ds.dyC, 'Y', boundary='fill') ) / ds.rA"
   ]
  },
  {
   "cell_type": "code",
   "execution_count": 13,
   "metadata": {},
   "outputs": [
    {
     "name": "stderr",
     "output_type": "stream",
     "text": [
      "distributed.scheduler - INFO - Register tcp://10.32.21.11:42651\n",
      "distributed.scheduler - INFO - Starting worker compute stream, tcp://10.32.21.11:42651\n",
      "distributed.core - INFO - Starting established connection\n"
     ]
    }
   ],
   "source": [
    "# Select data for a small region\n",
    "lat1, lat2 = (30., 40.); # 10x10 deg box near gulf stream\n",
    "lon1, lon2 = (-120.,-110.); # 1 deg should be avoided on each side for the final data\n",
    "\n",
    "u1 = grid.interp(ds.U, 'X', boundary='fill')\n",
    "v1 = grid.interp(ds.V, 'Y', boundary='fill')\n",
    "vort = grid.interp(grid.interp(vorticity, 'X', boundary='fill'), 'Y', boundary='fill')"
   ]
  },
  {
   "cell_type": "code",
   "execution_count": 14,
   "metadata": {},
   "outputs": [
    {
     "name": "stderr",
     "output_type": "stream",
     "text": [
      "distributed.scheduler - INFO - Remove worker tcp://10.32.20.5:46003\n",
      "distributed.core - INFO - Removing comms to tcp://10.32.20.5:46003\n",
      "distributed.scheduler - INFO - Remove worker tcp://10.32.20.6:42753\n",
      "distributed.core - INFO - Removing comms to tcp://10.32.20.6:42753\n",
      "distributed.scheduler - INFO - Register tcp://10.32.20.5:46003\n",
      "distributed.scheduler - INFO - Starting worker compute stream, tcp://10.32.20.5:46003\n",
      "distributed.core - INFO - Starting established connection\n",
      "distributed.scheduler - INFO - Register tcp://10.32.20.6:42753\n",
      "distributed.scheduler - INFO - Starting worker compute stream, tcp://10.32.20.6:42753\n",
      "distributed.core - INFO - Starting established connection\n",
      "distributed.scheduler - INFO - Remove worker tcp://10.32.21.11:42651\n",
      "distributed.core - INFO - Removing comms to tcp://10.32.21.11:42651\n",
      "distributed.scheduler - INFO - Remove worker tcp://10.32.20.5:46003\n",
      "distributed.core - INFO - Removing comms to tcp://10.32.20.5:46003\n",
      "distributed.scheduler - INFO - Register tcp://10.32.21.11:42651\n",
      "distributed.scheduler - INFO - Starting worker compute stream, tcp://10.32.21.11:42651\n",
      "distributed.core - INFO - Starting established connection\n",
      "distributed.scheduler - INFO - Register tcp://10.32.20.5:46003\n",
      "distributed.scheduler - INFO - Starting worker compute stream, tcp://10.32.20.5:46003\n",
      "distributed.core - INFO - Starting established connection\n"
     ]
    },
    {
     "ename": "KilledWorker",
     "evalue": "('zarr-5ab0dd64d017657b8dd16d99c305ea12', <Worker 'tcp://10.32.20.5:46003', memory: 0, processing: 1>)",
     "output_type": "error",
     "traceback": [
      "\u001b[0;31m---------------------------------------------------------------------------\u001b[0m",
      "\u001b[0;31mKilledWorker\u001b[0m                              Traceback (most recent call last)",
      "\u001b[0;32m<ipython-input-14-422dfcfe30a0>\u001b[0m in \u001b[0;36m<module>\u001b[0;34m\u001b[0m\n\u001b[1;32m      3\u001b[0m \u001b[0;31m#lats = client.compute(ds.YC[0]).result()\u001b[0m\u001b[0;34m\u001b[0m\u001b[0;34m\u001b[0m\u001b[0;34m\u001b[0m\u001b[0m\n\u001b[1;32m      4\u001b[0m \u001b[0;31m#lats = lats.result()\u001b[0m\u001b[0;34m\u001b[0m\u001b[0;34m\u001b[0m\u001b[0;34m\u001b[0m\u001b[0m\n\u001b[0;32m----> 5\u001b[0;31m \u001b[0midx_lat1\u001b[0m \u001b[0;34m=\u001b[0m \u001b[0;34m(\u001b[0m\u001b[0mnp\u001b[0m\u001b[0;34m.\u001b[0m\u001b[0mabs\u001b[0m\u001b[0;34m(\u001b[0m\u001b[0mds\u001b[0m\u001b[0;34m.\u001b[0m\u001b[0mYC\u001b[0m\u001b[0;34m.\u001b[0m\u001b[0misel\u001b[0m\u001b[0;34m(\u001b[0m\u001b[0mi\u001b[0m\u001b[0;34m=\u001b[0m\u001b[0;36m8000\u001b[0m\u001b[0;34m)\u001b[0m\u001b[0;34m.\u001b[0m\u001b[0mvalues\u001b[0m \u001b[0;34m-\u001b[0m \u001b[0mlat1\u001b[0m\u001b[0;34m)\u001b[0m\u001b[0;34m)\u001b[0m\u001b[0;34m.\u001b[0m\u001b[0margmin\u001b[0m\u001b[0;34m(\u001b[0m\u001b[0;34m)\u001b[0m\u001b[0;34m\u001b[0m\u001b[0;34m\u001b[0m\u001b[0m\n\u001b[0m\u001b[1;32m      6\u001b[0m \u001b[0midx_lat2\u001b[0m \u001b[0;34m=\u001b[0m \u001b[0;34m(\u001b[0m\u001b[0mnp\u001b[0m\u001b[0;34m.\u001b[0m\u001b[0mabs\u001b[0m\u001b[0;34m(\u001b[0m\u001b[0mds\u001b[0m\u001b[0;34m.\u001b[0m\u001b[0mYC\u001b[0m\u001b[0;34m.\u001b[0m\u001b[0misel\u001b[0m\u001b[0;34m(\u001b[0m\u001b[0mi\u001b[0m\u001b[0;34m=\u001b[0m\u001b[0;36m8000\u001b[0m\u001b[0;34m)\u001b[0m\u001b[0;34m.\u001b[0m\u001b[0mvalues\u001b[0m \u001b[0;34m-\u001b[0m \u001b[0mlat2\u001b[0m\u001b[0;34m)\u001b[0m\u001b[0;34m)\u001b[0m\u001b[0;34m.\u001b[0m\u001b[0margmin\u001b[0m\u001b[0;34m(\u001b[0m\u001b[0;34m)\u001b[0m\u001b[0;34m\u001b[0m\u001b[0;34m\u001b[0m\u001b[0m\n\u001b[1;32m      7\u001b[0m \u001b[0;34m\u001b[0m\u001b[0m\n",
      "\u001b[0;32m~/my-conda-envs/my-pangeo/lib/python3.7/site-packages/xarray/core/dataarray.py\u001b[0m in \u001b[0;36mvalues\u001b[0;34m(self)\u001b[0m\n\u001b[1;32m    565\u001b[0m     \u001b[0;32mdef\u001b[0m \u001b[0mvalues\u001b[0m\u001b[0;34m(\u001b[0m\u001b[0mself\u001b[0m\u001b[0;34m)\u001b[0m \u001b[0;34m->\u001b[0m \u001b[0mnp\u001b[0m\u001b[0;34m.\u001b[0m\u001b[0mndarray\u001b[0m\u001b[0;34m:\u001b[0m\u001b[0;34m\u001b[0m\u001b[0;34m\u001b[0m\u001b[0m\n\u001b[1;32m    566\u001b[0m         \u001b[0;34m\"\"\"The array's data as a numpy.ndarray\"\"\"\u001b[0m\u001b[0;34m\u001b[0m\u001b[0;34m\u001b[0m\u001b[0m\n\u001b[0;32m--> 567\u001b[0;31m         \u001b[0;32mreturn\u001b[0m \u001b[0mself\u001b[0m\u001b[0;34m.\u001b[0m\u001b[0mvariable\u001b[0m\u001b[0;34m.\u001b[0m\u001b[0mvalues\u001b[0m\u001b[0;34m\u001b[0m\u001b[0;34m\u001b[0m\u001b[0m\n\u001b[0m\u001b[1;32m    568\u001b[0m \u001b[0;34m\u001b[0m\u001b[0m\n\u001b[1;32m    569\u001b[0m     \u001b[0;34m@\u001b[0m\u001b[0mvalues\u001b[0m\u001b[0;34m.\u001b[0m\u001b[0msetter\u001b[0m\u001b[0;34m\u001b[0m\u001b[0;34m\u001b[0m\u001b[0m\n",
      "\u001b[0;32m~/my-conda-envs/my-pangeo/lib/python3.7/site-packages/xarray/core/variable.py\u001b[0m in \u001b[0;36mvalues\u001b[0;34m(self)\u001b[0m\n\u001b[1;32m    446\u001b[0m     \u001b[0;32mdef\u001b[0m \u001b[0mvalues\u001b[0m\u001b[0;34m(\u001b[0m\u001b[0mself\u001b[0m\u001b[0;34m)\u001b[0m\u001b[0;34m:\u001b[0m\u001b[0;34m\u001b[0m\u001b[0;34m\u001b[0m\u001b[0m\n\u001b[1;32m    447\u001b[0m         \u001b[0;34m\"\"\"The variable's data as a numpy.ndarray\"\"\"\u001b[0m\u001b[0;34m\u001b[0m\u001b[0;34m\u001b[0m\u001b[0m\n\u001b[0;32m--> 448\u001b[0;31m         \u001b[0;32mreturn\u001b[0m \u001b[0m_as_array_or_item\u001b[0m\u001b[0;34m(\u001b[0m\u001b[0mself\u001b[0m\u001b[0;34m.\u001b[0m\u001b[0m_data\u001b[0m\u001b[0;34m)\u001b[0m\u001b[0;34m\u001b[0m\u001b[0;34m\u001b[0m\u001b[0m\n\u001b[0m\u001b[1;32m    449\u001b[0m \u001b[0;34m\u001b[0m\u001b[0m\n\u001b[1;32m    450\u001b[0m     \u001b[0;34m@\u001b[0m\u001b[0mvalues\u001b[0m\u001b[0;34m.\u001b[0m\u001b[0msetter\u001b[0m\u001b[0;34m\u001b[0m\u001b[0;34m\u001b[0m\u001b[0m\n",
      "\u001b[0;32m~/my-conda-envs/my-pangeo/lib/python3.7/site-packages/xarray/core/variable.py\u001b[0m in \u001b[0;36m_as_array_or_item\u001b[0;34m(data)\u001b[0m\n\u001b[1;32m    252\u001b[0m     \u001b[0mTODO\u001b[0m\u001b[0;34m:\u001b[0m \u001b[0mremove\u001b[0m \u001b[0mthis\u001b[0m \u001b[0;34m(\u001b[0m\u001b[0mreplace\u001b[0m \u001b[0;32mwith\u001b[0m \u001b[0mnp\u001b[0m\u001b[0;34m.\u001b[0m\u001b[0masarray\u001b[0m\u001b[0;34m)\u001b[0m \u001b[0monce\u001b[0m \u001b[0mthese\u001b[0m \u001b[0missues\u001b[0m \u001b[0mare\u001b[0m \u001b[0mfixed\u001b[0m\u001b[0;34m\u001b[0m\u001b[0;34m\u001b[0m\u001b[0m\n\u001b[1;32m    253\u001b[0m     \"\"\"\n\u001b[0;32m--> 254\u001b[0;31m     \u001b[0mdata\u001b[0m \u001b[0;34m=\u001b[0m \u001b[0mnp\u001b[0m\u001b[0;34m.\u001b[0m\u001b[0masarray\u001b[0m\u001b[0;34m(\u001b[0m\u001b[0mdata\u001b[0m\u001b[0;34m)\u001b[0m\u001b[0;34m\u001b[0m\u001b[0;34m\u001b[0m\u001b[0m\n\u001b[0m\u001b[1;32m    255\u001b[0m     \u001b[0;32mif\u001b[0m \u001b[0mdata\u001b[0m\u001b[0;34m.\u001b[0m\u001b[0mndim\u001b[0m \u001b[0;34m==\u001b[0m \u001b[0;36m0\u001b[0m\u001b[0;34m:\u001b[0m\u001b[0;34m\u001b[0m\u001b[0;34m\u001b[0m\u001b[0m\n\u001b[1;32m    256\u001b[0m         \u001b[0;32mif\u001b[0m \u001b[0mdata\u001b[0m\u001b[0;34m.\u001b[0m\u001b[0mdtype\u001b[0m\u001b[0;34m.\u001b[0m\u001b[0mkind\u001b[0m \u001b[0;34m==\u001b[0m \u001b[0;34m\"M\"\u001b[0m\u001b[0;34m:\u001b[0m\u001b[0;34m\u001b[0m\u001b[0;34m\u001b[0m\u001b[0m\n",
      "\u001b[0;32m~/my-conda-envs/my-pangeo/lib/python3.7/site-packages/numpy/core/_asarray.py\u001b[0m in \u001b[0;36masarray\u001b[0;34m(a, dtype, order)\u001b[0m\n\u001b[1;32m     83\u001b[0m \u001b[0;34m\u001b[0m\u001b[0m\n\u001b[1;32m     84\u001b[0m     \"\"\"\n\u001b[0;32m---> 85\u001b[0;31m     \u001b[0;32mreturn\u001b[0m \u001b[0marray\u001b[0m\u001b[0;34m(\u001b[0m\u001b[0ma\u001b[0m\u001b[0;34m,\u001b[0m \u001b[0mdtype\u001b[0m\u001b[0;34m,\u001b[0m \u001b[0mcopy\u001b[0m\u001b[0;34m=\u001b[0m\u001b[0;32mFalse\u001b[0m\u001b[0;34m,\u001b[0m \u001b[0morder\u001b[0m\u001b[0;34m=\u001b[0m\u001b[0morder\u001b[0m\u001b[0;34m)\u001b[0m\u001b[0;34m\u001b[0m\u001b[0;34m\u001b[0m\u001b[0m\n\u001b[0m\u001b[1;32m     86\u001b[0m \u001b[0;34m\u001b[0m\u001b[0m\n\u001b[1;32m     87\u001b[0m \u001b[0;34m\u001b[0m\u001b[0m\n",
      "\u001b[0;32m~/my-conda-envs/my-pangeo/lib/python3.7/site-packages/dask/array/core.py\u001b[0m in \u001b[0;36m__array__\u001b[0;34m(self, dtype, **kwargs)\u001b[0m\n\u001b[1;32m   1312\u001b[0m \u001b[0;34m\u001b[0m\u001b[0m\n\u001b[1;32m   1313\u001b[0m     \u001b[0;32mdef\u001b[0m \u001b[0m__array__\u001b[0m\u001b[0;34m(\u001b[0m\u001b[0mself\u001b[0m\u001b[0;34m,\u001b[0m \u001b[0mdtype\u001b[0m\u001b[0;34m=\u001b[0m\u001b[0;32mNone\u001b[0m\u001b[0;34m,\u001b[0m \u001b[0;34m**\u001b[0m\u001b[0mkwargs\u001b[0m\u001b[0;34m)\u001b[0m\u001b[0;34m:\u001b[0m\u001b[0;34m\u001b[0m\u001b[0;34m\u001b[0m\u001b[0m\n\u001b[0;32m-> 1314\u001b[0;31m         \u001b[0mx\u001b[0m \u001b[0;34m=\u001b[0m \u001b[0mself\u001b[0m\u001b[0;34m.\u001b[0m\u001b[0mcompute\u001b[0m\u001b[0;34m(\u001b[0m\u001b[0;34m)\u001b[0m\u001b[0;34m\u001b[0m\u001b[0;34m\u001b[0m\u001b[0m\n\u001b[0m\u001b[1;32m   1315\u001b[0m         \u001b[0;32mif\u001b[0m \u001b[0mdtype\u001b[0m \u001b[0;32mand\u001b[0m \u001b[0mx\u001b[0m\u001b[0;34m.\u001b[0m\u001b[0mdtype\u001b[0m \u001b[0;34m!=\u001b[0m \u001b[0mdtype\u001b[0m\u001b[0;34m:\u001b[0m\u001b[0;34m\u001b[0m\u001b[0;34m\u001b[0m\u001b[0m\n\u001b[1;32m   1316\u001b[0m             \u001b[0mx\u001b[0m \u001b[0;34m=\u001b[0m \u001b[0mx\u001b[0m\u001b[0;34m.\u001b[0m\u001b[0mastype\u001b[0m\u001b[0;34m(\u001b[0m\u001b[0mdtype\u001b[0m\u001b[0;34m)\u001b[0m\u001b[0;34m\u001b[0m\u001b[0;34m\u001b[0m\u001b[0m\n",
      "\u001b[0;32m~/my-conda-envs/my-pangeo/lib/python3.7/site-packages/dask/base.py\u001b[0m in \u001b[0;36mcompute\u001b[0;34m(self, **kwargs)\u001b[0m\n\u001b[1;32m    163\u001b[0m         \u001b[0mdask\u001b[0m\u001b[0;34m.\u001b[0m\u001b[0mbase\u001b[0m\u001b[0;34m.\u001b[0m\u001b[0mcompute\u001b[0m\u001b[0;34m\u001b[0m\u001b[0;34m\u001b[0m\u001b[0m\n\u001b[1;32m    164\u001b[0m         \"\"\"\n\u001b[0;32m--> 165\u001b[0;31m         \u001b[0;34m(\u001b[0m\u001b[0mresult\u001b[0m\u001b[0;34m,\u001b[0m\u001b[0;34m)\u001b[0m \u001b[0;34m=\u001b[0m \u001b[0mcompute\u001b[0m\u001b[0;34m(\u001b[0m\u001b[0mself\u001b[0m\u001b[0;34m,\u001b[0m \u001b[0mtraverse\u001b[0m\u001b[0;34m=\u001b[0m\u001b[0;32mFalse\u001b[0m\u001b[0;34m,\u001b[0m \u001b[0;34m**\u001b[0m\u001b[0mkwargs\u001b[0m\u001b[0;34m)\u001b[0m\u001b[0;34m\u001b[0m\u001b[0;34m\u001b[0m\u001b[0m\n\u001b[0m\u001b[1;32m    166\u001b[0m         \u001b[0;32mreturn\u001b[0m \u001b[0mresult\u001b[0m\u001b[0;34m\u001b[0m\u001b[0;34m\u001b[0m\u001b[0m\n\u001b[1;32m    167\u001b[0m \u001b[0;34m\u001b[0m\u001b[0m\n",
      "\u001b[0;32m~/my-conda-envs/my-pangeo/lib/python3.7/site-packages/dask/base.py\u001b[0m in \u001b[0;36mcompute\u001b[0;34m(*args, **kwargs)\u001b[0m\n\u001b[1;32m    434\u001b[0m     \u001b[0mkeys\u001b[0m \u001b[0;34m=\u001b[0m \u001b[0;34m[\u001b[0m\u001b[0mx\u001b[0m\u001b[0;34m.\u001b[0m\u001b[0m__dask_keys__\u001b[0m\u001b[0;34m(\u001b[0m\u001b[0;34m)\u001b[0m \u001b[0;32mfor\u001b[0m \u001b[0mx\u001b[0m \u001b[0;32min\u001b[0m \u001b[0mcollections\u001b[0m\u001b[0;34m]\u001b[0m\u001b[0;34m\u001b[0m\u001b[0;34m\u001b[0m\u001b[0m\n\u001b[1;32m    435\u001b[0m     \u001b[0mpostcomputes\u001b[0m \u001b[0;34m=\u001b[0m \u001b[0;34m[\u001b[0m\u001b[0mx\u001b[0m\u001b[0;34m.\u001b[0m\u001b[0m__dask_postcompute__\u001b[0m\u001b[0;34m(\u001b[0m\u001b[0;34m)\u001b[0m \u001b[0;32mfor\u001b[0m \u001b[0mx\u001b[0m \u001b[0;32min\u001b[0m \u001b[0mcollections\u001b[0m\u001b[0;34m]\u001b[0m\u001b[0;34m\u001b[0m\u001b[0;34m\u001b[0m\u001b[0m\n\u001b[0;32m--> 436\u001b[0;31m     \u001b[0mresults\u001b[0m \u001b[0;34m=\u001b[0m \u001b[0mschedule\u001b[0m\u001b[0;34m(\u001b[0m\u001b[0mdsk\u001b[0m\u001b[0;34m,\u001b[0m \u001b[0mkeys\u001b[0m\u001b[0;34m,\u001b[0m \u001b[0;34m**\u001b[0m\u001b[0mkwargs\u001b[0m\u001b[0;34m)\u001b[0m\u001b[0;34m\u001b[0m\u001b[0;34m\u001b[0m\u001b[0m\n\u001b[0m\u001b[1;32m    437\u001b[0m     \u001b[0;32mreturn\u001b[0m \u001b[0mrepack\u001b[0m\u001b[0;34m(\u001b[0m\u001b[0;34m[\u001b[0m\u001b[0mf\u001b[0m\u001b[0;34m(\u001b[0m\u001b[0mr\u001b[0m\u001b[0;34m,\u001b[0m \u001b[0;34m*\u001b[0m\u001b[0ma\u001b[0m\u001b[0;34m)\u001b[0m \u001b[0;32mfor\u001b[0m \u001b[0mr\u001b[0m\u001b[0;34m,\u001b[0m \u001b[0;34m(\u001b[0m\u001b[0mf\u001b[0m\u001b[0;34m,\u001b[0m \u001b[0ma\u001b[0m\u001b[0;34m)\u001b[0m \u001b[0;32min\u001b[0m \u001b[0mzip\u001b[0m\u001b[0;34m(\u001b[0m\u001b[0mresults\u001b[0m\u001b[0;34m,\u001b[0m \u001b[0mpostcomputes\u001b[0m\u001b[0;34m)\u001b[0m\u001b[0;34m]\u001b[0m\u001b[0;34m)\u001b[0m\u001b[0;34m\u001b[0m\u001b[0;34m\u001b[0m\u001b[0m\n\u001b[1;32m    438\u001b[0m \u001b[0;34m\u001b[0m\u001b[0m\n",
      "\u001b[0;32m~/my-conda-envs/my-pangeo/lib/python3.7/site-packages/distributed/client.py\u001b[0m in \u001b[0;36mget\u001b[0;34m(self, dsk, keys, restrictions, loose_restrictions, resources, sync, asynchronous, direct, retries, priority, fifo_timeout, actors, **kwargs)\u001b[0m\n\u001b[1;32m   2571\u001b[0m                     \u001b[0mshould_rejoin\u001b[0m \u001b[0;34m=\u001b[0m \u001b[0;32mFalse\u001b[0m\u001b[0;34m\u001b[0m\u001b[0;34m\u001b[0m\u001b[0m\n\u001b[1;32m   2572\u001b[0m             \u001b[0;32mtry\u001b[0m\u001b[0;34m:\u001b[0m\u001b[0;34m\u001b[0m\u001b[0;34m\u001b[0m\u001b[0m\n\u001b[0;32m-> 2573\u001b[0;31m                 \u001b[0mresults\u001b[0m \u001b[0;34m=\u001b[0m \u001b[0mself\u001b[0m\u001b[0;34m.\u001b[0m\u001b[0mgather\u001b[0m\u001b[0;34m(\u001b[0m\u001b[0mpacked\u001b[0m\u001b[0;34m,\u001b[0m \u001b[0masynchronous\u001b[0m\u001b[0;34m=\u001b[0m\u001b[0masynchronous\u001b[0m\u001b[0;34m,\u001b[0m \u001b[0mdirect\u001b[0m\u001b[0;34m=\u001b[0m\u001b[0mdirect\u001b[0m\u001b[0;34m)\u001b[0m\u001b[0;34m\u001b[0m\u001b[0;34m\u001b[0m\u001b[0m\n\u001b[0m\u001b[1;32m   2574\u001b[0m             \u001b[0;32mfinally\u001b[0m\u001b[0;34m:\u001b[0m\u001b[0;34m\u001b[0m\u001b[0;34m\u001b[0m\u001b[0m\n\u001b[1;32m   2575\u001b[0m                 \u001b[0;32mfor\u001b[0m \u001b[0mf\u001b[0m \u001b[0;32min\u001b[0m \u001b[0mfutures\u001b[0m\u001b[0;34m.\u001b[0m\u001b[0mvalues\u001b[0m\u001b[0;34m(\u001b[0m\u001b[0;34m)\u001b[0m\u001b[0;34m:\u001b[0m\u001b[0;34m\u001b[0m\u001b[0;34m\u001b[0m\u001b[0m\n",
      "\u001b[0;32m~/my-conda-envs/my-pangeo/lib/python3.7/site-packages/distributed/client.py\u001b[0m in \u001b[0;36mgather\u001b[0;34m(self, futures, errors, direct, asynchronous)\u001b[0m\n\u001b[1;32m   1871\u001b[0m                 \u001b[0mdirect\u001b[0m\u001b[0;34m=\u001b[0m\u001b[0mdirect\u001b[0m\u001b[0;34m,\u001b[0m\u001b[0;34m\u001b[0m\u001b[0;34m\u001b[0m\u001b[0m\n\u001b[1;32m   1872\u001b[0m                 \u001b[0mlocal_worker\u001b[0m\u001b[0;34m=\u001b[0m\u001b[0mlocal_worker\u001b[0m\u001b[0;34m,\u001b[0m\u001b[0;34m\u001b[0m\u001b[0;34m\u001b[0m\u001b[0m\n\u001b[0;32m-> 1873\u001b[0;31m                 \u001b[0masynchronous\u001b[0m\u001b[0;34m=\u001b[0m\u001b[0masynchronous\u001b[0m\u001b[0;34m,\u001b[0m\u001b[0;34m\u001b[0m\u001b[0;34m\u001b[0m\u001b[0m\n\u001b[0m\u001b[1;32m   1874\u001b[0m             )\n\u001b[1;32m   1875\u001b[0m \u001b[0;34m\u001b[0m\u001b[0m\n",
      "\u001b[0;32m~/my-conda-envs/my-pangeo/lib/python3.7/site-packages/distributed/client.py\u001b[0m in \u001b[0;36msync\u001b[0;34m(self, func, asynchronous, callback_timeout, *args, **kwargs)\u001b[0m\n\u001b[1;32m    766\u001b[0m         \u001b[0;32melse\u001b[0m\u001b[0;34m:\u001b[0m\u001b[0;34m\u001b[0m\u001b[0;34m\u001b[0m\u001b[0m\n\u001b[1;32m    767\u001b[0m             return sync(\n\u001b[0;32m--> 768\u001b[0;31m                 \u001b[0mself\u001b[0m\u001b[0;34m.\u001b[0m\u001b[0mloop\u001b[0m\u001b[0;34m,\u001b[0m \u001b[0mfunc\u001b[0m\u001b[0;34m,\u001b[0m \u001b[0;34m*\u001b[0m\u001b[0margs\u001b[0m\u001b[0;34m,\u001b[0m \u001b[0mcallback_timeout\u001b[0m\u001b[0;34m=\u001b[0m\u001b[0mcallback_timeout\u001b[0m\u001b[0;34m,\u001b[0m \u001b[0;34m**\u001b[0m\u001b[0mkwargs\u001b[0m\u001b[0;34m\u001b[0m\u001b[0;34m\u001b[0m\u001b[0m\n\u001b[0m\u001b[1;32m    769\u001b[0m             )\n\u001b[1;32m    770\u001b[0m \u001b[0;34m\u001b[0m\u001b[0m\n",
      "\u001b[0;32m~/my-conda-envs/my-pangeo/lib/python3.7/site-packages/distributed/utils.py\u001b[0m in \u001b[0;36msync\u001b[0;34m(loop, func, callback_timeout, *args, **kwargs)\u001b[0m\n\u001b[1;32m    332\u001b[0m     \u001b[0;32mif\u001b[0m \u001b[0merror\u001b[0m\u001b[0;34m[\u001b[0m\u001b[0;36m0\u001b[0m\u001b[0;34m]\u001b[0m\u001b[0;34m:\u001b[0m\u001b[0;34m\u001b[0m\u001b[0;34m\u001b[0m\u001b[0m\n\u001b[1;32m    333\u001b[0m         \u001b[0mtyp\u001b[0m\u001b[0;34m,\u001b[0m \u001b[0mexc\u001b[0m\u001b[0;34m,\u001b[0m \u001b[0mtb\u001b[0m \u001b[0;34m=\u001b[0m \u001b[0merror\u001b[0m\u001b[0;34m[\u001b[0m\u001b[0;36m0\u001b[0m\u001b[0;34m]\u001b[0m\u001b[0;34m\u001b[0m\u001b[0;34m\u001b[0m\u001b[0m\n\u001b[0;32m--> 334\u001b[0;31m         \u001b[0;32mraise\u001b[0m \u001b[0mexc\u001b[0m\u001b[0;34m.\u001b[0m\u001b[0mwith_traceback\u001b[0m\u001b[0;34m(\u001b[0m\u001b[0mtb\u001b[0m\u001b[0;34m)\u001b[0m\u001b[0;34m\u001b[0m\u001b[0;34m\u001b[0m\u001b[0m\n\u001b[0m\u001b[1;32m    335\u001b[0m     \u001b[0;32melse\u001b[0m\u001b[0;34m:\u001b[0m\u001b[0;34m\u001b[0m\u001b[0;34m\u001b[0m\u001b[0m\n\u001b[1;32m    336\u001b[0m         \u001b[0;32mreturn\u001b[0m \u001b[0mresult\u001b[0m\u001b[0;34m[\u001b[0m\u001b[0;36m0\u001b[0m\u001b[0;34m]\u001b[0m\u001b[0;34m\u001b[0m\u001b[0;34m\u001b[0m\u001b[0m\n",
      "\u001b[0;32m~/my-conda-envs/my-pangeo/lib/python3.7/site-packages/distributed/utils.py\u001b[0m in \u001b[0;36mf\u001b[0;34m()\u001b[0m\n\u001b[1;32m    316\u001b[0m             \u001b[0;32mif\u001b[0m \u001b[0mcallback_timeout\u001b[0m \u001b[0;32mis\u001b[0m \u001b[0;32mnot\u001b[0m \u001b[0;32mNone\u001b[0m\u001b[0;34m:\u001b[0m\u001b[0;34m\u001b[0m\u001b[0;34m\u001b[0m\u001b[0m\n\u001b[1;32m    317\u001b[0m                 \u001b[0mfuture\u001b[0m \u001b[0;34m=\u001b[0m \u001b[0mgen\u001b[0m\u001b[0;34m.\u001b[0m\u001b[0mwith_timeout\u001b[0m\u001b[0;34m(\u001b[0m\u001b[0mtimedelta\u001b[0m\u001b[0;34m(\u001b[0m\u001b[0mseconds\u001b[0m\u001b[0;34m=\u001b[0m\u001b[0mcallback_timeout\u001b[0m\u001b[0;34m)\u001b[0m\u001b[0;34m,\u001b[0m \u001b[0mfuture\u001b[0m\u001b[0;34m)\u001b[0m\u001b[0;34m\u001b[0m\u001b[0;34m\u001b[0m\u001b[0m\n\u001b[0;32m--> 318\u001b[0;31m             \u001b[0mresult\u001b[0m\u001b[0;34m[\u001b[0m\u001b[0;36m0\u001b[0m\u001b[0;34m]\u001b[0m \u001b[0;34m=\u001b[0m \u001b[0;32myield\u001b[0m \u001b[0mfuture\u001b[0m\u001b[0;34m\u001b[0m\u001b[0;34m\u001b[0m\u001b[0m\n\u001b[0m\u001b[1;32m    319\u001b[0m         \u001b[0;32mexcept\u001b[0m \u001b[0mException\u001b[0m \u001b[0;32mas\u001b[0m \u001b[0mexc\u001b[0m\u001b[0;34m:\u001b[0m\u001b[0;34m\u001b[0m\u001b[0;34m\u001b[0m\u001b[0m\n\u001b[1;32m    320\u001b[0m             \u001b[0merror\u001b[0m\u001b[0;34m[\u001b[0m\u001b[0;36m0\u001b[0m\u001b[0;34m]\u001b[0m \u001b[0;34m=\u001b[0m \u001b[0msys\u001b[0m\u001b[0;34m.\u001b[0m\u001b[0mexc_info\u001b[0m\u001b[0;34m(\u001b[0m\u001b[0;34m)\u001b[0m\u001b[0;34m\u001b[0m\u001b[0;34m\u001b[0m\u001b[0m\n",
      "\u001b[0;32m~/my-conda-envs/my-pangeo/lib/python3.7/site-packages/tornado/gen.py\u001b[0m in \u001b[0;36mrun\u001b[0;34m(self)\u001b[0m\n\u001b[1;32m    733\u001b[0m \u001b[0;34m\u001b[0m\u001b[0m\n\u001b[1;32m    734\u001b[0m                     \u001b[0;32mtry\u001b[0m\u001b[0;34m:\u001b[0m\u001b[0;34m\u001b[0m\u001b[0;34m\u001b[0m\u001b[0m\n\u001b[0;32m--> 735\u001b[0;31m                         \u001b[0mvalue\u001b[0m \u001b[0;34m=\u001b[0m \u001b[0mfuture\u001b[0m\u001b[0;34m.\u001b[0m\u001b[0mresult\u001b[0m\u001b[0;34m(\u001b[0m\u001b[0;34m)\u001b[0m\u001b[0;34m\u001b[0m\u001b[0;34m\u001b[0m\u001b[0m\n\u001b[0m\u001b[1;32m    736\u001b[0m                     \u001b[0;32mexcept\u001b[0m \u001b[0mException\u001b[0m\u001b[0;34m:\u001b[0m\u001b[0;34m\u001b[0m\u001b[0;34m\u001b[0m\u001b[0m\n\u001b[1;32m    737\u001b[0m                         \u001b[0mexc_info\u001b[0m \u001b[0;34m=\u001b[0m \u001b[0msys\u001b[0m\u001b[0;34m.\u001b[0m\u001b[0mexc_info\u001b[0m\u001b[0;34m(\u001b[0m\u001b[0;34m)\u001b[0m\u001b[0;34m\u001b[0m\u001b[0;34m\u001b[0m\u001b[0m\n",
      "\u001b[0;32m~/my-conda-envs/my-pangeo/lib/python3.7/site-packages/distributed/client.py\u001b[0m in \u001b[0;36m_gather\u001b[0;34m(self, futures, errors, direct, local_worker)\u001b[0m\n\u001b[1;32m   1727\u001b[0m                             \u001b[0mexc\u001b[0m \u001b[0;34m=\u001b[0m \u001b[0mCancelledError\u001b[0m\u001b[0;34m(\u001b[0m\u001b[0mkey\u001b[0m\u001b[0;34m)\u001b[0m\u001b[0;34m\u001b[0m\u001b[0;34m\u001b[0m\u001b[0m\n\u001b[1;32m   1728\u001b[0m                         \u001b[0;32melse\u001b[0m\u001b[0;34m:\u001b[0m\u001b[0;34m\u001b[0m\u001b[0;34m\u001b[0m\u001b[0m\n\u001b[0;32m-> 1729\u001b[0;31m                             \u001b[0;32mraise\u001b[0m \u001b[0mexception\u001b[0m\u001b[0;34m.\u001b[0m\u001b[0mwith_traceback\u001b[0m\u001b[0;34m(\u001b[0m\u001b[0mtraceback\u001b[0m\u001b[0;34m)\u001b[0m\u001b[0;34m\u001b[0m\u001b[0;34m\u001b[0m\u001b[0m\n\u001b[0m\u001b[1;32m   1730\u001b[0m                         \u001b[0;32mraise\u001b[0m \u001b[0mexc\u001b[0m\u001b[0;34m\u001b[0m\u001b[0;34m\u001b[0m\u001b[0m\n\u001b[1;32m   1731\u001b[0m                     \u001b[0;32mif\u001b[0m \u001b[0merrors\u001b[0m \u001b[0;34m==\u001b[0m \u001b[0;34m\"skip\"\u001b[0m\u001b[0;34m:\u001b[0m\u001b[0;34m\u001b[0m\u001b[0;34m\u001b[0m\u001b[0m\n",
      "\u001b[0;31mKilledWorker\u001b[0m: ('zarr-5ab0dd64d017657b8dd16d99c305ea12', <Worker 'tcp://10.32.20.5:46003', memory: 0, processing: 1>)"
     ]
    }
   ],
   "source": [
    "# Identify indices of lat, lon limits. I chose a fixed row/column in lats/lons to find the indices. Make sure the results do not change significantly \n",
    "#lats = (client.compute(ds.YC)).values\n",
    "#lats = client.compute(ds.YC[0]).result()\n",
    "#lats = lats.result()\n",
    "idx_lat1 = (np.abs(ds.YC.isel(i=8000).values - lat1)).argmin()\n",
    "idx_lat2 = (np.abs(ds.YC.isel(i=8000).values - lat2)).argmin()\n",
    "\n",
    "#lons = ds.XC.persist()\n",
    "#idx_lon1 = (np.abs(lons[8000,:] - lon1)).argmin()\n",
    "#idx_lon2 = (np.abs(lons[8000,:] - lon2)).argmin()"
   ]
  },
  {
   "cell_type": "code",
   "execution_count": 57,
   "metadata": {},
   "outputs": [],
   "source": [
    "# Extract data for the selected lat-lon domain\n",
    "vort2 = vort.isel({'j': slice(idx_lat1, idx_lat2), 'i' : slice(idx_lon1, idx_lon2)})\n",
    "u2 = u1.isel({'j': slice(idx_lat1, idx_lat2), 'i' : slice(idx_lon1, idx_lon2)})\n",
    "v2 = v1.isel({'j': slice(idx_lat1, idx_lat2), 'i' : slice(idx_lon1, idx_lon2)})\n",
    "div2 = divergence.isel({'j': slice(idx_lat1, idx_lat2), 'i' : slice(idx_lon1, idx_lon2)})\n",
    "lat = ds.YC.isel({'j': slice(idx_lat1, idx_lat2), 'i' : slice(idx_lon1, idx_lon2)})\n",
    "lon = ds.XC.isel({'j': slice(idx_lat1, idx_lat2), 'i' : slice(idx_lon1, idx_lon2)})"
   ]
  },
  {
   "cell_type": "code",
   "execution_count": null,
   "metadata": {},
   "outputs": [],
   "source": [
    "# Compute wavenumbers \n",
    "R = 6364.e3; # Raidus of the Earth\n"
   ]
  },
  {
   "cell_type": "code",
   "execution_count": 21,
   "metadata": {},
   "outputs": [],
   "source": [
    "lats = client.compute(ds.YC.isel(i=8000))\n",
    "#Client.publish(lats=lats)\n",
    "#print(client.result(lats))\n",
    "#print(lats[:,0])\n",
    "#print(lons[:,100])\n",
    "#print(idx_lat1, idx_lat2, idx_lon1, idx_lon2)"
   ]
  },
  {
   "cell_type": "code",
   "execution_count": 24,
   "metadata": {},
   "outputs": [
    {
     "ename": "AttributeError",
     "evalue": "'KubeCluster' object has no attribute 'pods'",
     "output_type": "error",
     "traceback": [
      "\u001b[0;31m---------------------------------------------------------------------------\u001b[0m",
      "\u001b[0;31mAttributeError\u001b[0m                            Traceback (most recent call last)",
      "\u001b[0;32m<ipython-input-24-e0992b2b3618>\u001b[0m in \u001b[0;36m<module>\u001b[0;34m\u001b[0m\n\u001b[0;32m----> 1\u001b[0;31m \u001b[0mpods\u001b[0m \u001b[0;34m=\u001b[0m \u001b[0mcluster\u001b[0m\u001b[0;34m.\u001b[0m\u001b[0mpods\u001b[0m\u001b[0;34m(\u001b[0m\u001b[0;34m)\u001b[0m\u001b[0;34m\u001b[0m\u001b[0;34m\u001b[0m\u001b[0m\n\u001b[0m\u001b[1;32m      2\u001b[0m \u001b[0mprint\u001b[0m\u001b[0;34m(\u001b[0m\u001b[0mcluster\u001b[0m\u001b[0;34m.\u001b[0m\u001b[0mlogs\u001b[0m\u001b[0;34m(\u001b[0m\u001b[0mpods\u001b[0m\u001b[0;34m[\u001b[0m\u001b[0;36m0\u001b[0m\u001b[0;34m]\u001b[0m\u001b[0;34m)\u001b[0m\u001b[0;34m)\u001b[0m\u001b[0;34m\u001b[0m\u001b[0;34m\u001b[0m\u001b[0m\n",
      "\u001b[0;31mAttributeError\u001b[0m: 'KubeCluster' object has no attribute 'pods'"
     ]
    },
    {
     "name": "stderr",
     "output_type": "stream",
     "text": [
      "distributed.scheduler - INFO - Register tcp://10.32.8.3:40193\n",
      "distributed.scheduler - INFO - Starting worker compute stream, tcp://10.32.8.3:40193\n",
      "distributed.core - INFO - Starting established connection\n",
      "distributed.scheduler - INFO - Register tcp://10.32.8.2:45107\n",
      "distributed.scheduler - INFO - Starting worker compute stream, tcp://10.32.8.2:45107\n",
      "distributed.core - INFO - Starting established connection\n"
     ]
    }
   ],
   "source": [
    "pods = cluster.pods()\n",
    "print(cluster.logs(pods[0]))"
   ]
  },
  {
   "cell_type": "code",
   "execution_count": 10,
   "metadata": {},
   "outputs": [
    {
     "name": "stderr",
     "output_type": "stream",
     "text": [
      "distributed.scheduler - INFO - Remove worker tcp://10.32.20.6:34351\n",
      "distributed.core - INFO - Removing comms to tcp://10.32.20.6:34351\n",
      "distributed.scheduler - INFO - Register tcp://10.32.20.6:34351\n",
      "distributed.scheduler - INFO - Starting worker compute stream, tcp://10.32.20.6:34351\n",
      "distributed.core - INFO - Starting established connection\n",
      "distributed.scheduler - INFO - Remove worker tcp://10.32.26.6:43699\n",
      "distributed.core - INFO - Removing comms to tcp://10.32.26.6:43699\n",
      "distributed.scheduler - INFO - Register tcp://10.32.26.6:43699\n",
      "distributed.scheduler - INFO - Starting worker compute stream, tcp://10.32.26.6:43699\n",
      "distributed.core - INFO - Starting established connection\n",
      "distributed.scheduler - INFO - Remove worker tcp://10.32.20.6:34351\n",
      "distributed.core - INFO - Removing comms to tcp://10.32.20.6:34351\n",
      "distributed.scheduler - INFO - Register tcp://10.32.20.6:34351\n",
      "distributed.scheduler - INFO - Starting worker compute stream, tcp://10.32.20.6:34351\n",
      "distributed.core - INFO - Starting established connection\n",
      "distributed.scheduler - INFO - Remove worker tcp://10.32.26.6:43699\n",
      "distributed.core - INFO - Removing comms to tcp://10.32.26.6:43699\n",
      "distributed.scheduler - INFO - Register tcp://10.32.26.6:43699\n",
      "distributed.scheduler - INFO - Starting worker compute stream, tcp://10.32.26.6:43699\n",
      "distributed.core - INFO - Starting established connection\n"
     ]
    },
    {
     "ename": "KilledWorker",
     "evalue": "('zarr-21e7c2cadcb65c8831b06ca18cf43068', <Worker 'tcp://10.32.26.6:43699', memory: 0, processing: 1>)",
     "output_type": "error",
     "traceback": [
      "\u001b[0;31m---------------------------------------------------------------------------\u001b[0m",
      "\u001b[0;31mKilledWorker\u001b[0m                              Traceback (most recent call last)",
      "\u001b[0;32m<ipython-input-10-e02844209bf8>\u001b[0m in \u001b[0;36m<module>\u001b[0;34m\u001b[0m\n\u001b[1;32m      1\u001b[0m \u001b[0;31m#tmp = lats.compute()\u001b[0m\u001b[0;34m\u001b[0m\u001b[0;34m\u001b[0m\u001b[0;34m\u001b[0m\u001b[0m\n\u001b[1;32m      2\u001b[0m \u001b[0;31m#print(tmp)\u001b[0m\u001b[0;34m\u001b[0m\u001b[0;34m\u001b[0m\u001b[0;34m\u001b[0m\u001b[0m\n\u001b[0;32m----> 3\u001b[0;31m \u001b[0mprint\u001b[0m\u001b[0;34m(\u001b[0m\u001b[0midx_lat1\u001b[0m\u001b[0;34m.\u001b[0m\u001b[0mvalues\u001b[0m\u001b[0;34m,\u001b[0m \u001b[0midx_lat2\u001b[0m\u001b[0;34m.\u001b[0m\u001b[0mvalues\u001b[0m\u001b[0;34m)\u001b[0m\u001b[0;34m\u001b[0m\u001b[0;34m\u001b[0m\u001b[0m\n\u001b[0m",
      "\u001b[0;32m~/my-conda-envs/my-pangeo/lib/python3.7/site-packages/xarray/core/dataarray.py\u001b[0m in \u001b[0;36mvalues\u001b[0;34m(self)\u001b[0m\n\u001b[1;32m    565\u001b[0m     \u001b[0;32mdef\u001b[0m \u001b[0mvalues\u001b[0m\u001b[0;34m(\u001b[0m\u001b[0mself\u001b[0m\u001b[0;34m)\u001b[0m \u001b[0;34m->\u001b[0m \u001b[0mnp\u001b[0m\u001b[0;34m.\u001b[0m\u001b[0mndarray\u001b[0m\u001b[0;34m:\u001b[0m\u001b[0;34m\u001b[0m\u001b[0;34m\u001b[0m\u001b[0m\n\u001b[1;32m    566\u001b[0m         \u001b[0;34m\"\"\"The array's data as a numpy.ndarray\"\"\"\u001b[0m\u001b[0;34m\u001b[0m\u001b[0;34m\u001b[0m\u001b[0m\n\u001b[0;32m--> 567\u001b[0;31m         \u001b[0;32mreturn\u001b[0m \u001b[0mself\u001b[0m\u001b[0;34m.\u001b[0m\u001b[0mvariable\u001b[0m\u001b[0;34m.\u001b[0m\u001b[0mvalues\u001b[0m\u001b[0;34m\u001b[0m\u001b[0;34m\u001b[0m\u001b[0m\n\u001b[0m\u001b[1;32m    568\u001b[0m \u001b[0;34m\u001b[0m\u001b[0m\n\u001b[1;32m    569\u001b[0m     \u001b[0;34m@\u001b[0m\u001b[0mvalues\u001b[0m\u001b[0;34m.\u001b[0m\u001b[0msetter\u001b[0m\u001b[0;34m\u001b[0m\u001b[0;34m\u001b[0m\u001b[0m\n",
      "\u001b[0;32m~/my-conda-envs/my-pangeo/lib/python3.7/site-packages/xarray/core/variable.py\u001b[0m in \u001b[0;36mvalues\u001b[0;34m(self)\u001b[0m\n\u001b[1;32m    446\u001b[0m     \u001b[0;32mdef\u001b[0m \u001b[0mvalues\u001b[0m\u001b[0;34m(\u001b[0m\u001b[0mself\u001b[0m\u001b[0;34m)\u001b[0m\u001b[0;34m:\u001b[0m\u001b[0;34m\u001b[0m\u001b[0;34m\u001b[0m\u001b[0m\n\u001b[1;32m    447\u001b[0m         \u001b[0;34m\"\"\"The variable's data as a numpy.ndarray\"\"\"\u001b[0m\u001b[0;34m\u001b[0m\u001b[0;34m\u001b[0m\u001b[0m\n\u001b[0;32m--> 448\u001b[0;31m         \u001b[0;32mreturn\u001b[0m \u001b[0m_as_array_or_item\u001b[0m\u001b[0;34m(\u001b[0m\u001b[0mself\u001b[0m\u001b[0;34m.\u001b[0m\u001b[0m_data\u001b[0m\u001b[0;34m)\u001b[0m\u001b[0;34m\u001b[0m\u001b[0;34m\u001b[0m\u001b[0m\n\u001b[0m\u001b[1;32m    449\u001b[0m \u001b[0;34m\u001b[0m\u001b[0m\n\u001b[1;32m    450\u001b[0m     \u001b[0;34m@\u001b[0m\u001b[0mvalues\u001b[0m\u001b[0;34m.\u001b[0m\u001b[0msetter\u001b[0m\u001b[0;34m\u001b[0m\u001b[0;34m\u001b[0m\u001b[0m\n",
      "\u001b[0;32m~/my-conda-envs/my-pangeo/lib/python3.7/site-packages/xarray/core/variable.py\u001b[0m in \u001b[0;36m_as_array_or_item\u001b[0;34m(data)\u001b[0m\n\u001b[1;32m    252\u001b[0m     \u001b[0mTODO\u001b[0m\u001b[0;34m:\u001b[0m \u001b[0mremove\u001b[0m \u001b[0mthis\u001b[0m \u001b[0;34m(\u001b[0m\u001b[0mreplace\u001b[0m \u001b[0;32mwith\u001b[0m \u001b[0mnp\u001b[0m\u001b[0;34m.\u001b[0m\u001b[0masarray\u001b[0m\u001b[0;34m)\u001b[0m \u001b[0monce\u001b[0m \u001b[0mthese\u001b[0m \u001b[0missues\u001b[0m \u001b[0mare\u001b[0m \u001b[0mfixed\u001b[0m\u001b[0;34m\u001b[0m\u001b[0;34m\u001b[0m\u001b[0m\n\u001b[1;32m    253\u001b[0m     \"\"\"\n\u001b[0;32m--> 254\u001b[0;31m     \u001b[0mdata\u001b[0m \u001b[0;34m=\u001b[0m \u001b[0mnp\u001b[0m\u001b[0;34m.\u001b[0m\u001b[0masarray\u001b[0m\u001b[0;34m(\u001b[0m\u001b[0mdata\u001b[0m\u001b[0;34m)\u001b[0m\u001b[0;34m\u001b[0m\u001b[0;34m\u001b[0m\u001b[0m\n\u001b[0m\u001b[1;32m    255\u001b[0m     \u001b[0;32mif\u001b[0m \u001b[0mdata\u001b[0m\u001b[0;34m.\u001b[0m\u001b[0mndim\u001b[0m \u001b[0;34m==\u001b[0m \u001b[0;36m0\u001b[0m\u001b[0;34m:\u001b[0m\u001b[0;34m\u001b[0m\u001b[0;34m\u001b[0m\u001b[0m\n\u001b[1;32m    256\u001b[0m         \u001b[0;32mif\u001b[0m \u001b[0mdata\u001b[0m\u001b[0;34m.\u001b[0m\u001b[0mdtype\u001b[0m\u001b[0;34m.\u001b[0m\u001b[0mkind\u001b[0m \u001b[0;34m==\u001b[0m \u001b[0;34m\"M\"\u001b[0m\u001b[0;34m:\u001b[0m\u001b[0;34m\u001b[0m\u001b[0;34m\u001b[0m\u001b[0m\n",
      "\u001b[0;32m~/my-conda-envs/my-pangeo/lib/python3.7/site-packages/numpy/core/_asarray.py\u001b[0m in \u001b[0;36masarray\u001b[0;34m(a, dtype, order)\u001b[0m\n\u001b[1;32m     83\u001b[0m \u001b[0;34m\u001b[0m\u001b[0m\n\u001b[1;32m     84\u001b[0m     \"\"\"\n\u001b[0;32m---> 85\u001b[0;31m     \u001b[0;32mreturn\u001b[0m \u001b[0marray\u001b[0m\u001b[0;34m(\u001b[0m\u001b[0ma\u001b[0m\u001b[0;34m,\u001b[0m \u001b[0mdtype\u001b[0m\u001b[0;34m,\u001b[0m \u001b[0mcopy\u001b[0m\u001b[0;34m=\u001b[0m\u001b[0;32mFalse\u001b[0m\u001b[0;34m,\u001b[0m \u001b[0morder\u001b[0m\u001b[0;34m=\u001b[0m\u001b[0morder\u001b[0m\u001b[0;34m)\u001b[0m\u001b[0;34m\u001b[0m\u001b[0;34m\u001b[0m\u001b[0m\n\u001b[0m\u001b[1;32m     86\u001b[0m \u001b[0;34m\u001b[0m\u001b[0m\n\u001b[1;32m     87\u001b[0m \u001b[0;34m\u001b[0m\u001b[0m\n",
      "\u001b[0;32m~/my-conda-envs/my-pangeo/lib/python3.7/site-packages/dask/array/core.py\u001b[0m in \u001b[0;36m__array__\u001b[0;34m(self, dtype, **kwargs)\u001b[0m\n\u001b[1;32m   1312\u001b[0m \u001b[0;34m\u001b[0m\u001b[0m\n\u001b[1;32m   1313\u001b[0m     \u001b[0;32mdef\u001b[0m \u001b[0m__array__\u001b[0m\u001b[0;34m(\u001b[0m\u001b[0mself\u001b[0m\u001b[0;34m,\u001b[0m \u001b[0mdtype\u001b[0m\u001b[0;34m=\u001b[0m\u001b[0;32mNone\u001b[0m\u001b[0;34m,\u001b[0m \u001b[0;34m**\u001b[0m\u001b[0mkwargs\u001b[0m\u001b[0;34m)\u001b[0m\u001b[0;34m:\u001b[0m\u001b[0;34m\u001b[0m\u001b[0;34m\u001b[0m\u001b[0m\n\u001b[0;32m-> 1314\u001b[0;31m         \u001b[0mx\u001b[0m \u001b[0;34m=\u001b[0m \u001b[0mself\u001b[0m\u001b[0;34m.\u001b[0m\u001b[0mcompute\u001b[0m\u001b[0;34m(\u001b[0m\u001b[0;34m)\u001b[0m\u001b[0;34m\u001b[0m\u001b[0;34m\u001b[0m\u001b[0m\n\u001b[0m\u001b[1;32m   1315\u001b[0m         \u001b[0;32mif\u001b[0m \u001b[0mdtype\u001b[0m \u001b[0;32mand\u001b[0m \u001b[0mx\u001b[0m\u001b[0;34m.\u001b[0m\u001b[0mdtype\u001b[0m \u001b[0;34m!=\u001b[0m \u001b[0mdtype\u001b[0m\u001b[0;34m:\u001b[0m\u001b[0;34m\u001b[0m\u001b[0;34m\u001b[0m\u001b[0m\n\u001b[1;32m   1316\u001b[0m             \u001b[0mx\u001b[0m \u001b[0;34m=\u001b[0m \u001b[0mx\u001b[0m\u001b[0;34m.\u001b[0m\u001b[0mastype\u001b[0m\u001b[0;34m(\u001b[0m\u001b[0mdtype\u001b[0m\u001b[0;34m)\u001b[0m\u001b[0;34m\u001b[0m\u001b[0;34m\u001b[0m\u001b[0m\n",
      "\u001b[0;32m~/my-conda-envs/my-pangeo/lib/python3.7/site-packages/dask/base.py\u001b[0m in \u001b[0;36mcompute\u001b[0;34m(self, **kwargs)\u001b[0m\n\u001b[1;32m    163\u001b[0m         \u001b[0mdask\u001b[0m\u001b[0;34m.\u001b[0m\u001b[0mbase\u001b[0m\u001b[0;34m.\u001b[0m\u001b[0mcompute\u001b[0m\u001b[0;34m\u001b[0m\u001b[0;34m\u001b[0m\u001b[0m\n\u001b[1;32m    164\u001b[0m         \"\"\"\n\u001b[0;32m--> 165\u001b[0;31m         \u001b[0;34m(\u001b[0m\u001b[0mresult\u001b[0m\u001b[0;34m,\u001b[0m\u001b[0;34m)\u001b[0m \u001b[0;34m=\u001b[0m \u001b[0mcompute\u001b[0m\u001b[0;34m(\u001b[0m\u001b[0mself\u001b[0m\u001b[0;34m,\u001b[0m \u001b[0mtraverse\u001b[0m\u001b[0;34m=\u001b[0m\u001b[0;32mFalse\u001b[0m\u001b[0;34m,\u001b[0m \u001b[0;34m**\u001b[0m\u001b[0mkwargs\u001b[0m\u001b[0;34m)\u001b[0m\u001b[0;34m\u001b[0m\u001b[0;34m\u001b[0m\u001b[0m\n\u001b[0m\u001b[1;32m    166\u001b[0m         \u001b[0;32mreturn\u001b[0m \u001b[0mresult\u001b[0m\u001b[0;34m\u001b[0m\u001b[0;34m\u001b[0m\u001b[0m\n\u001b[1;32m    167\u001b[0m \u001b[0;34m\u001b[0m\u001b[0m\n",
      "\u001b[0;32m~/my-conda-envs/my-pangeo/lib/python3.7/site-packages/dask/base.py\u001b[0m in \u001b[0;36mcompute\u001b[0;34m(*args, **kwargs)\u001b[0m\n\u001b[1;32m    434\u001b[0m     \u001b[0mkeys\u001b[0m \u001b[0;34m=\u001b[0m \u001b[0;34m[\u001b[0m\u001b[0mx\u001b[0m\u001b[0;34m.\u001b[0m\u001b[0m__dask_keys__\u001b[0m\u001b[0;34m(\u001b[0m\u001b[0;34m)\u001b[0m \u001b[0;32mfor\u001b[0m \u001b[0mx\u001b[0m \u001b[0;32min\u001b[0m \u001b[0mcollections\u001b[0m\u001b[0;34m]\u001b[0m\u001b[0;34m\u001b[0m\u001b[0;34m\u001b[0m\u001b[0m\n\u001b[1;32m    435\u001b[0m     \u001b[0mpostcomputes\u001b[0m \u001b[0;34m=\u001b[0m \u001b[0;34m[\u001b[0m\u001b[0mx\u001b[0m\u001b[0;34m.\u001b[0m\u001b[0m__dask_postcompute__\u001b[0m\u001b[0;34m(\u001b[0m\u001b[0;34m)\u001b[0m \u001b[0;32mfor\u001b[0m \u001b[0mx\u001b[0m \u001b[0;32min\u001b[0m \u001b[0mcollections\u001b[0m\u001b[0;34m]\u001b[0m\u001b[0;34m\u001b[0m\u001b[0;34m\u001b[0m\u001b[0m\n\u001b[0;32m--> 436\u001b[0;31m     \u001b[0mresults\u001b[0m \u001b[0;34m=\u001b[0m \u001b[0mschedule\u001b[0m\u001b[0;34m(\u001b[0m\u001b[0mdsk\u001b[0m\u001b[0;34m,\u001b[0m \u001b[0mkeys\u001b[0m\u001b[0;34m,\u001b[0m \u001b[0;34m**\u001b[0m\u001b[0mkwargs\u001b[0m\u001b[0;34m)\u001b[0m\u001b[0;34m\u001b[0m\u001b[0;34m\u001b[0m\u001b[0m\n\u001b[0m\u001b[1;32m    437\u001b[0m     \u001b[0;32mreturn\u001b[0m \u001b[0mrepack\u001b[0m\u001b[0;34m(\u001b[0m\u001b[0;34m[\u001b[0m\u001b[0mf\u001b[0m\u001b[0;34m(\u001b[0m\u001b[0mr\u001b[0m\u001b[0;34m,\u001b[0m \u001b[0;34m*\u001b[0m\u001b[0ma\u001b[0m\u001b[0;34m)\u001b[0m \u001b[0;32mfor\u001b[0m \u001b[0mr\u001b[0m\u001b[0;34m,\u001b[0m \u001b[0;34m(\u001b[0m\u001b[0mf\u001b[0m\u001b[0;34m,\u001b[0m \u001b[0ma\u001b[0m\u001b[0;34m)\u001b[0m \u001b[0;32min\u001b[0m \u001b[0mzip\u001b[0m\u001b[0;34m(\u001b[0m\u001b[0mresults\u001b[0m\u001b[0;34m,\u001b[0m \u001b[0mpostcomputes\u001b[0m\u001b[0;34m)\u001b[0m\u001b[0;34m]\u001b[0m\u001b[0;34m)\u001b[0m\u001b[0;34m\u001b[0m\u001b[0;34m\u001b[0m\u001b[0m\n\u001b[1;32m    438\u001b[0m \u001b[0;34m\u001b[0m\u001b[0m\n",
      "\u001b[0;32m~/my-conda-envs/my-pangeo/lib/python3.7/site-packages/distributed/client.py\u001b[0m in \u001b[0;36mget\u001b[0;34m(self, dsk, keys, restrictions, loose_restrictions, resources, sync, asynchronous, direct, retries, priority, fifo_timeout, actors, **kwargs)\u001b[0m\n\u001b[1;32m   2571\u001b[0m                     \u001b[0mshould_rejoin\u001b[0m \u001b[0;34m=\u001b[0m \u001b[0;32mFalse\u001b[0m\u001b[0;34m\u001b[0m\u001b[0;34m\u001b[0m\u001b[0m\n\u001b[1;32m   2572\u001b[0m             \u001b[0;32mtry\u001b[0m\u001b[0;34m:\u001b[0m\u001b[0;34m\u001b[0m\u001b[0;34m\u001b[0m\u001b[0m\n\u001b[0;32m-> 2573\u001b[0;31m                 \u001b[0mresults\u001b[0m \u001b[0;34m=\u001b[0m \u001b[0mself\u001b[0m\u001b[0;34m.\u001b[0m\u001b[0mgather\u001b[0m\u001b[0;34m(\u001b[0m\u001b[0mpacked\u001b[0m\u001b[0;34m,\u001b[0m \u001b[0masynchronous\u001b[0m\u001b[0;34m=\u001b[0m\u001b[0masynchronous\u001b[0m\u001b[0;34m,\u001b[0m \u001b[0mdirect\u001b[0m\u001b[0;34m=\u001b[0m\u001b[0mdirect\u001b[0m\u001b[0;34m)\u001b[0m\u001b[0;34m\u001b[0m\u001b[0;34m\u001b[0m\u001b[0m\n\u001b[0m\u001b[1;32m   2574\u001b[0m             \u001b[0;32mfinally\u001b[0m\u001b[0;34m:\u001b[0m\u001b[0;34m\u001b[0m\u001b[0;34m\u001b[0m\u001b[0m\n\u001b[1;32m   2575\u001b[0m                 \u001b[0;32mfor\u001b[0m \u001b[0mf\u001b[0m \u001b[0;32min\u001b[0m \u001b[0mfutures\u001b[0m\u001b[0;34m.\u001b[0m\u001b[0mvalues\u001b[0m\u001b[0;34m(\u001b[0m\u001b[0;34m)\u001b[0m\u001b[0;34m:\u001b[0m\u001b[0;34m\u001b[0m\u001b[0;34m\u001b[0m\u001b[0m\n",
      "\u001b[0;32m~/my-conda-envs/my-pangeo/lib/python3.7/site-packages/distributed/client.py\u001b[0m in \u001b[0;36mgather\u001b[0;34m(self, futures, errors, direct, asynchronous)\u001b[0m\n\u001b[1;32m   1871\u001b[0m                 \u001b[0mdirect\u001b[0m\u001b[0;34m=\u001b[0m\u001b[0mdirect\u001b[0m\u001b[0;34m,\u001b[0m\u001b[0;34m\u001b[0m\u001b[0;34m\u001b[0m\u001b[0m\n\u001b[1;32m   1872\u001b[0m                 \u001b[0mlocal_worker\u001b[0m\u001b[0;34m=\u001b[0m\u001b[0mlocal_worker\u001b[0m\u001b[0;34m,\u001b[0m\u001b[0;34m\u001b[0m\u001b[0;34m\u001b[0m\u001b[0m\n\u001b[0;32m-> 1873\u001b[0;31m                 \u001b[0masynchronous\u001b[0m\u001b[0;34m=\u001b[0m\u001b[0masynchronous\u001b[0m\u001b[0;34m,\u001b[0m\u001b[0;34m\u001b[0m\u001b[0;34m\u001b[0m\u001b[0m\n\u001b[0m\u001b[1;32m   1874\u001b[0m             )\n\u001b[1;32m   1875\u001b[0m \u001b[0;34m\u001b[0m\u001b[0m\n",
      "\u001b[0;32m~/my-conda-envs/my-pangeo/lib/python3.7/site-packages/distributed/client.py\u001b[0m in \u001b[0;36msync\u001b[0;34m(self, func, asynchronous, callback_timeout, *args, **kwargs)\u001b[0m\n\u001b[1;32m    766\u001b[0m         \u001b[0;32melse\u001b[0m\u001b[0;34m:\u001b[0m\u001b[0;34m\u001b[0m\u001b[0;34m\u001b[0m\u001b[0m\n\u001b[1;32m    767\u001b[0m             return sync(\n\u001b[0;32m--> 768\u001b[0;31m                 \u001b[0mself\u001b[0m\u001b[0;34m.\u001b[0m\u001b[0mloop\u001b[0m\u001b[0;34m,\u001b[0m \u001b[0mfunc\u001b[0m\u001b[0;34m,\u001b[0m \u001b[0;34m*\u001b[0m\u001b[0margs\u001b[0m\u001b[0;34m,\u001b[0m \u001b[0mcallback_timeout\u001b[0m\u001b[0;34m=\u001b[0m\u001b[0mcallback_timeout\u001b[0m\u001b[0;34m,\u001b[0m \u001b[0;34m**\u001b[0m\u001b[0mkwargs\u001b[0m\u001b[0;34m\u001b[0m\u001b[0;34m\u001b[0m\u001b[0m\n\u001b[0m\u001b[1;32m    769\u001b[0m             )\n\u001b[1;32m    770\u001b[0m \u001b[0;34m\u001b[0m\u001b[0m\n",
      "\u001b[0;32m~/my-conda-envs/my-pangeo/lib/python3.7/site-packages/distributed/utils.py\u001b[0m in \u001b[0;36msync\u001b[0;34m(loop, func, callback_timeout, *args, **kwargs)\u001b[0m\n\u001b[1;32m    332\u001b[0m     \u001b[0;32mif\u001b[0m \u001b[0merror\u001b[0m\u001b[0;34m[\u001b[0m\u001b[0;36m0\u001b[0m\u001b[0;34m]\u001b[0m\u001b[0;34m:\u001b[0m\u001b[0;34m\u001b[0m\u001b[0;34m\u001b[0m\u001b[0m\n\u001b[1;32m    333\u001b[0m         \u001b[0mtyp\u001b[0m\u001b[0;34m,\u001b[0m \u001b[0mexc\u001b[0m\u001b[0;34m,\u001b[0m \u001b[0mtb\u001b[0m \u001b[0;34m=\u001b[0m \u001b[0merror\u001b[0m\u001b[0;34m[\u001b[0m\u001b[0;36m0\u001b[0m\u001b[0;34m]\u001b[0m\u001b[0;34m\u001b[0m\u001b[0;34m\u001b[0m\u001b[0m\n\u001b[0;32m--> 334\u001b[0;31m         \u001b[0;32mraise\u001b[0m \u001b[0mexc\u001b[0m\u001b[0;34m.\u001b[0m\u001b[0mwith_traceback\u001b[0m\u001b[0;34m(\u001b[0m\u001b[0mtb\u001b[0m\u001b[0;34m)\u001b[0m\u001b[0;34m\u001b[0m\u001b[0;34m\u001b[0m\u001b[0m\n\u001b[0m\u001b[1;32m    335\u001b[0m     \u001b[0;32melse\u001b[0m\u001b[0;34m:\u001b[0m\u001b[0;34m\u001b[0m\u001b[0;34m\u001b[0m\u001b[0m\n\u001b[1;32m    336\u001b[0m         \u001b[0;32mreturn\u001b[0m \u001b[0mresult\u001b[0m\u001b[0;34m[\u001b[0m\u001b[0;36m0\u001b[0m\u001b[0;34m]\u001b[0m\u001b[0;34m\u001b[0m\u001b[0;34m\u001b[0m\u001b[0m\n",
      "\u001b[0;32m~/my-conda-envs/my-pangeo/lib/python3.7/site-packages/distributed/utils.py\u001b[0m in \u001b[0;36mf\u001b[0;34m()\u001b[0m\n\u001b[1;32m    316\u001b[0m             \u001b[0;32mif\u001b[0m \u001b[0mcallback_timeout\u001b[0m \u001b[0;32mis\u001b[0m \u001b[0;32mnot\u001b[0m \u001b[0;32mNone\u001b[0m\u001b[0;34m:\u001b[0m\u001b[0;34m\u001b[0m\u001b[0;34m\u001b[0m\u001b[0m\n\u001b[1;32m    317\u001b[0m                 \u001b[0mfuture\u001b[0m \u001b[0;34m=\u001b[0m \u001b[0mgen\u001b[0m\u001b[0;34m.\u001b[0m\u001b[0mwith_timeout\u001b[0m\u001b[0;34m(\u001b[0m\u001b[0mtimedelta\u001b[0m\u001b[0;34m(\u001b[0m\u001b[0mseconds\u001b[0m\u001b[0;34m=\u001b[0m\u001b[0mcallback_timeout\u001b[0m\u001b[0;34m)\u001b[0m\u001b[0;34m,\u001b[0m \u001b[0mfuture\u001b[0m\u001b[0;34m)\u001b[0m\u001b[0;34m\u001b[0m\u001b[0;34m\u001b[0m\u001b[0m\n\u001b[0;32m--> 318\u001b[0;31m             \u001b[0mresult\u001b[0m\u001b[0;34m[\u001b[0m\u001b[0;36m0\u001b[0m\u001b[0;34m]\u001b[0m \u001b[0;34m=\u001b[0m \u001b[0;32myield\u001b[0m \u001b[0mfuture\u001b[0m\u001b[0;34m\u001b[0m\u001b[0;34m\u001b[0m\u001b[0m\n\u001b[0m\u001b[1;32m    319\u001b[0m         \u001b[0;32mexcept\u001b[0m \u001b[0mException\u001b[0m \u001b[0;32mas\u001b[0m \u001b[0mexc\u001b[0m\u001b[0;34m:\u001b[0m\u001b[0;34m\u001b[0m\u001b[0;34m\u001b[0m\u001b[0m\n\u001b[1;32m    320\u001b[0m             \u001b[0merror\u001b[0m\u001b[0;34m[\u001b[0m\u001b[0;36m0\u001b[0m\u001b[0;34m]\u001b[0m \u001b[0;34m=\u001b[0m \u001b[0msys\u001b[0m\u001b[0;34m.\u001b[0m\u001b[0mexc_info\u001b[0m\u001b[0;34m(\u001b[0m\u001b[0;34m)\u001b[0m\u001b[0;34m\u001b[0m\u001b[0;34m\u001b[0m\u001b[0m\n",
      "\u001b[0;32m~/my-conda-envs/my-pangeo/lib/python3.7/site-packages/tornado/gen.py\u001b[0m in \u001b[0;36mrun\u001b[0;34m(self)\u001b[0m\n\u001b[1;32m    733\u001b[0m \u001b[0;34m\u001b[0m\u001b[0m\n\u001b[1;32m    734\u001b[0m                     \u001b[0;32mtry\u001b[0m\u001b[0;34m:\u001b[0m\u001b[0;34m\u001b[0m\u001b[0;34m\u001b[0m\u001b[0m\n\u001b[0;32m--> 735\u001b[0;31m                         \u001b[0mvalue\u001b[0m \u001b[0;34m=\u001b[0m \u001b[0mfuture\u001b[0m\u001b[0;34m.\u001b[0m\u001b[0mresult\u001b[0m\u001b[0;34m(\u001b[0m\u001b[0;34m)\u001b[0m\u001b[0;34m\u001b[0m\u001b[0;34m\u001b[0m\u001b[0m\n\u001b[0m\u001b[1;32m    736\u001b[0m                     \u001b[0;32mexcept\u001b[0m \u001b[0mException\u001b[0m\u001b[0;34m:\u001b[0m\u001b[0;34m\u001b[0m\u001b[0;34m\u001b[0m\u001b[0m\n\u001b[1;32m    737\u001b[0m                         \u001b[0mexc_info\u001b[0m \u001b[0;34m=\u001b[0m \u001b[0msys\u001b[0m\u001b[0;34m.\u001b[0m\u001b[0mexc_info\u001b[0m\u001b[0;34m(\u001b[0m\u001b[0;34m)\u001b[0m\u001b[0;34m\u001b[0m\u001b[0;34m\u001b[0m\u001b[0m\n",
      "\u001b[0;32m~/my-conda-envs/my-pangeo/lib/python3.7/site-packages/distributed/client.py\u001b[0m in \u001b[0;36m_gather\u001b[0;34m(self, futures, errors, direct, local_worker)\u001b[0m\n\u001b[1;32m   1727\u001b[0m                             \u001b[0mexc\u001b[0m \u001b[0;34m=\u001b[0m \u001b[0mCancelledError\u001b[0m\u001b[0;34m(\u001b[0m\u001b[0mkey\u001b[0m\u001b[0;34m)\u001b[0m\u001b[0;34m\u001b[0m\u001b[0;34m\u001b[0m\u001b[0m\n\u001b[1;32m   1728\u001b[0m                         \u001b[0;32melse\u001b[0m\u001b[0;34m:\u001b[0m\u001b[0;34m\u001b[0m\u001b[0;34m\u001b[0m\u001b[0m\n\u001b[0;32m-> 1729\u001b[0;31m                             \u001b[0;32mraise\u001b[0m \u001b[0mexception\u001b[0m\u001b[0;34m.\u001b[0m\u001b[0mwith_traceback\u001b[0m\u001b[0;34m(\u001b[0m\u001b[0mtraceback\u001b[0m\u001b[0;34m)\u001b[0m\u001b[0;34m\u001b[0m\u001b[0;34m\u001b[0m\u001b[0m\n\u001b[0m\u001b[1;32m   1730\u001b[0m                         \u001b[0;32mraise\u001b[0m \u001b[0mexc\u001b[0m\u001b[0;34m\u001b[0m\u001b[0;34m\u001b[0m\u001b[0m\n\u001b[1;32m   1731\u001b[0m                     \u001b[0;32mif\u001b[0m \u001b[0merrors\u001b[0m \u001b[0;34m==\u001b[0m \u001b[0;34m\"skip\"\u001b[0m\u001b[0;34m:\u001b[0m\u001b[0;34m\u001b[0m\u001b[0;34m\u001b[0m\u001b[0m\n",
      "\u001b[0;31mKilledWorker\u001b[0m: ('zarr-21e7c2cadcb65c8831b06ca18cf43068', <Worker 'tcp://10.32.26.6:43699', memory: 0, processing: 1>)"
     ]
    }
   ],
   "source": [
    "#tmp = lats.compute()\n",
    "#print(tmp)\n",
    "print(idx_lat1.values, idx_lat2.values)"
   ]
  },
  {
   "cell_type": "code",
   "execution_count": null,
   "metadata": {},
   "outputs": [],
   "source": []
  },
  {
   "cell_type": "code",
   "execution_count": 41,
   "metadata": {},
   "outputs": [
    {
     "data": {
      "text/plain": [
       "[<matplotlib.lines.Line2D at 0x7f8d359a7a30>]"
      ]
     },
     "execution_count": 41,
     "metadata": {},
     "output_type": "execute_result"
    },
    {
     "data": {
      "image/png": "[encoded data removed]",
      "text/plain": [
       "<Figure size 432x288 with 1 Axes>"
      ]
     },
     "metadata": {
      "needs_background": "light"
     },
     "output_type": "display_data"
    }
   ],
   "source": [
    "plt.plot(lats[:,8000])\n",
    "plt.plot(lons[8000,:])"
   ]
  },
  {
   "cell_type": "code",
   "execution_count": 27,
   "metadata": {},
   "outputs": [
    {
     "data": {
      "text/plain": [
       "72.817400846196"
      ]
     },
     "execution_count": 27,
     "metadata": {},
     "output_type": "execute_result"
    }
   ],
   "source": [
    "ds.nbytes/1e12"
   ]
  },
  {
   "cell_type": "code",
   "execution_count": 28,
   "metadata": {},
   "outputs": [],
   "source": [
    "ds.close()"
   ]
  },
  {
   "cell_type": "code",
   "execution_count": 23,
   "metadata": {},
   "outputs": [
    {
     "data": {
      "text/html": [
       "<table>\n",
       "<tr>\n",
       "<td>\n",
       "<table>\n",
       "  <thead>\n",
       "    <tr><td> </td><th> Array </th><th> Chunk </th></tr>\n",
       "  </thead>\n",
       "  <tbody>\n",
       "    <tr><th> Bytes </th><td> 20.00 GB </td> <td> 32.00 MB </td></tr>\n",
       "    <tr><th> Shape </th><td> (50000, 50000) </td> <td> (2000, 2000) </td></tr>\n",
       "    <tr><th> Count </th><td> 625 Tasks </td><td> 625 Chunks </td></tr>\n",
       "    <tr><th> Type </th><td> float64 </td><td> numpy.ndarray </td></tr>\n",
       "  </tbody>\n",
       "</table>\n",
       "</td>\n",
       "<td>\n",
       "<svg width=\"170\" height=\"170\" style=\"stroke:rgb(0,0,0);stroke-width:1\" >\n",
       "\n",
       "  <!-- Horizontal lines -->\n",
       "  <line x1=\"0\" y1=\"0\" x2=\"120\" y2=\"0\" style=\"stroke-width:2\" />\n",
       "  <line x1=\"0\" y1=\"4\" x2=\"120\" y2=\"4\" />\n",
       "  <line x1=\"0\" y1=\"9\" x2=\"120\" y2=\"9\" />\n",
       "  <line x1=\"0\" y1=\"14\" x2=\"120\" y2=\"14\" />\n",
       "  <line x1=\"0\" y1=\"19\" x2=\"120\" y2=\"19\" />\n",
       "  <line x1=\"0\" y1=\"24\" x2=\"120\" y2=\"24\" />\n",
       "  <line x1=\"0\" y1=\"28\" x2=\"120\" y2=\"28\" />\n",
       "  <line x1=\"0\" y1=\"33\" x2=\"120\" y2=\"33\" />\n",
       "  <line x1=\"0\" y1=\"38\" x2=\"120\" y2=\"38\" />\n",
       "  <line x1=\"0\" y1=\"43\" x2=\"120\" y2=\"43\" />\n",
       "  <line x1=\"0\" y1=\"48\" x2=\"120\" y2=\"48\" />\n",
       "  <line x1=\"0\" y1=\"52\" x2=\"120\" y2=\"52\" />\n",
       "  <line x1=\"0\" y1=\"57\" x2=\"120\" y2=\"57\" />\n",
       "  <line x1=\"0\" y1=\"62\" x2=\"120\" y2=\"62\" />\n",
       "  <line x1=\"0\" y1=\"67\" x2=\"120\" y2=\"67\" />\n",
       "  <line x1=\"0\" y1=\"72\" x2=\"120\" y2=\"72\" />\n",
       "  <line x1=\"0\" y1=\"76\" x2=\"120\" y2=\"76\" />\n",
       "  <line x1=\"0\" y1=\"81\" x2=\"120\" y2=\"81\" />\n",
       "  <line x1=\"0\" y1=\"86\" x2=\"120\" y2=\"86\" />\n",
       "  <line x1=\"0\" y1=\"91\" x2=\"120\" y2=\"91\" />\n",
       "  <line x1=\"0\" y1=\"96\" x2=\"120\" y2=\"96\" />\n",
       "  <line x1=\"0\" y1=\"100\" x2=\"120\" y2=\"100\" />\n",
       "  <line x1=\"0\" y1=\"105\" x2=\"120\" y2=\"105\" />\n",
       "  <line x1=\"0\" y1=\"110\" x2=\"120\" y2=\"110\" />\n",
       "  <line x1=\"0\" y1=\"115\" x2=\"120\" y2=\"115\" />\n",
       "  <line x1=\"0\" y1=\"120\" x2=\"120\" y2=\"120\" style=\"stroke-width:2\" />\n",
       "\n",
       "  <!-- Vertical lines -->\n",
       "  <line x1=\"0\" y1=\"0\" x2=\"0\" y2=\"120\" style=\"stroke-width:2\" />\n",
       "  <line x1=\"4\" y1=\"0\" x2=\"4\" y2=\"120\" />\n",
       "  <line x1=\"9\" y1=\"0\" x2=\"9\" y2=\"120\" />\n",
       "  <line x1=\"14\" y1=\"0\" x2=\"14\" y2=\"120\" />\n",
       "  <line x1=\"19\" y1=\"0\" x2=\"19\" y2=\"120\" />\n",
       "  <line x1=\"24\" y1=\"0\" x2=\"24\" y2=\"120\" />\n",
       "  <line x1=\"28\" y1=\"0\" x2=\"28\" y2=\"120\" />\n",
       "  <line x1=\"33\" y1=\"0\" x2=\"33\" y2=\"120\" />\n",
       "  <line x1=\"38\" y1=\"0\" x2=\"38\" y2=\"120\" />\n",
       "  <line x1=\"43\" y1=\"0\" x2=\"43\" y2=\"120\" />\n",
       "  <line x1=\"48\" y1=\"0\" x2=\"48\" y2=\"120\" />\n",
       "  <line x1=\"52\" y1=\"0\" x2=\"52\" y2=\"120\" />\n",
       "  <line x1=\"57\" y1=\"0\" x2=\"57\" y2=\"120\" />\n",
       "  <line x1=\"62\" y1=\"0\" x2=\"62\" y2=\"120\" />\n",
       "  <line x1=\"67\" y1=\"0\" x2=\"67\" y2=\"120\" />\n",
       "  <line x1=\"72\" y1=\"0\" x2=\"72\" y2=\"120\" />\n",
       "  <line x1=\"76\" y1=\"0\" x2=\"76\" y2=\"120\" />\n",
       "  <line x1=\"81\" y1=\"0\" x2=\"81\" y2=\"120\" />\n",
       "  <line x1=\"86\" y1=\"0\" x2=\"86\" y2=\"120\" />\n",
       "  <line x1=\"91\" y1=\"0\" x2=\"91\" y2=\"120\" />\n",
       "  <line x1=\"96\" y1=\"0\" x2=\"96\" y2=\"120\" />\n",
       "  <line x1=\"100\" y1=\"0\" x2=\"100\" y2=\"120\" />\n",
       "  <line x1=\"105\" y1=\"0\" x2=\"105\" y2=\"120\" />\n",
       "  <line x1=\"110\" y1=\"0\" x2=\"110\" y2=\"120\" />\n",
       "  <line x1=\"115\" y1=\"0\" x2=\"115\" y2=\"120\" />\n",
       "  <line x1=\"120\" y1=\"0\" x2=\"120\" y2=\"120\" style=\"stroke-width:2\" />\n",
       "\n",
       "  <!-- Colored Rectangle -->\n",
       "  <polygon points=\"0.000000,0.000000 120.000000,0.000000 120.000000,120.000000 0.000000,120.000000\" style=\"fill:#ECB172A0;stroke-width:0\"/>\n",
       "\n",
       "  <!-- Text -->\n",
       "  <text x=\"60.000000\" y=\"140.000000\" font-size=\"1.0rem\" font-weight=\"100\" text-anchor=\"middle\" >50000</text>\n",
       "  <text x=\"140.000000\" y=\"60.000000\" font-size=\"1.0rem\" font-weight=\"100\" text-anchor=\"middle\" transform=\"rotate(-90,140.000000,60.000000)\">50000</text>\n",
       "</svg>\n",
       "</td>\n",
       "</tr>\n",
       "</table>"
      ],
      "text/plain": [
       "dask.array<random_sample, shape=(50000, 50000), dtype=float64, chunksize=(2000, 2000), chunktype=numpy.ndarray>"
      ]
     },
     "execution_count": 23,
     "metadata": {},
     "output_type": "execute_result"
    }
   ],
   "source": [
    "x = da.random.random((50000,50000), chunks=(2000,2000))\n",
    "x.persist()"
   ]
  },
  {
   "cell_type": "code",
   "execution_count": 25,
   "metadata": {},
   "outputs": [
    {
     "ename": "NameError",
     "evalue": "name 'x' is not defined",
     "output_type": "error",
     "traceback": [
      "\u001b[0;31m---------------------------------------------------------------------------\u001b[0m",
      "\u001b[0;31mNameError\u001b[0m                                 Traceback (most recent call last)",
      "\u001b[0;32m<ipython-input-25-52e2ca59f643>\u001b[0m in \u001b[0;36m<module>\u001b[0;34m\u001b[0m\n\u001b[0;32m----> 1\u001b[0;31m \u001b[0;32mdel\u001b[0m \u001b[0mx\u001b[0m\u001b[0;34m\u001b[0m\u001b[0;34m\u001b[0m\u001b[0m\n\u001b[0m",
      "\u001b[0;31mNameError\u001b[0m: name 'x' is not defined"
     ]
    }
   ],
   "source": []
  },
  {
   "cell_type": "code",
   "execution_count": null,
   "metadata": {},
   "outputs": [],
   "source": []
  }
 ],
 "metadata": {
  "kernelspec": {
   "display_name": "Py3 (My-pangeo)",
   "language": "python",
   "name": "my-pangeo"
  },
  "language_info": {
   "codemirror_mode": {
    "name": "ipython",
    "version": 3
   },
   "file_extension": ".py",
   "mimetype": "text/x-python",
   "name": "python",
   "nbconvert_exporter": "python",
   "pygments_lexer": "ipython3",
   "version": "3.7.3"
  }
 },
 "nbformat": 4,
 "nbformat_minor": 4
}
