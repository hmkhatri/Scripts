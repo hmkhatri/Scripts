{
 "cells": [
  {
   "cell_type": "markdown",
   "metadata": {},
   "source": [
    "# Analysis of 1/48 Deg global ocean run\n",
    "Relevant links -\n",
    "\n",
    "https://medium.com/pangeo/petabytes-of-ocean-data-part-1-nasa-ecco-data-portal-81e3c5e077be \n",
    "\n",
    "https://xmitgcm.readthedocs.io/en/latest/llcreader.html\n",
    "\n",
    "https://pangeo-data.github.io/pangeo-datastore/master/ocean/llc4320.html#llc4320-grid\n",
    "\n",
    "https://ecco.jpl.nasa.gov/products/latest/user-guide/"
   ]
  },
  {
   "cell_type": "code",
   "execution_count": 32,
   "metadata": {},
   "outputs": [],
   "source": [
    "import xarray as xr\n",
    "import dask.array as da\n",
    "from xgcm import Grid\n",
    "import xrft\n",
    "import numpy as np\n",
    "import matplotlib.pyplot as plt\n",
    "import matplotlib.cm as cm\n",
    "from xmitgcm import llcreader\n",
    "import intake\n",
    "import os\n",
    "%matplotlib inline"
   ]
  },
  {
   "cell_type": "code",
   "execution_count": 33,
   "metadata": {},
   "outputs": [
    {
     "name": "stderr",
     "output_type": "stream",
     "text": [
      "distributed.scheduler - INFO - Clear task state\n",
      "/srv/conda/envs/notebook/lib/python3.7/site-packages/distributed/dashboard/core.py:72: UserWarning: \n",
      "Port 8787 is already in use. \n",
      "Perhaps you already have a cluster running?\n",
      "Hosting the diagnostics dashboard on a random port instead.\n",
      "  warnings.warn(\"\\n\" + msg)\n",
      "distributed.scheduler - INFO -   Scheduler at:    tcp://10.32.5.82:43337\n",
      "distributed.scheduler - INFO -   dashboard at:                    :36245\n"
     ]
    },
    {
     "data": {
      "application/vnd.jupyter.widget-view+json": {
       "model_id": "db28680c891d4532bda0fe0d1018926a",
       "version_major": 2,
       "version_minor": 0
      },
      "text/plain": [
       "VBox(children=(HTML(value='<h2>KubeCluster</h2>'), HBox(children=(HTML(value='\\n<div>\\n  <style scoped>\\n    .…"
      ]
     },
     "metadata": {},
     "output_type": "display_data"
    }
   ],
   "source": [
    "from dask.distributed import Client\n",
    "from dask_kubernetes import KubeCluster\n",
    "\n",
    "cluster = KubeCluster(n_workers=4)\n",
    "#cluster.adapt(minimum=1, maximum=10)\n",
    "\n",
    "cluster"
   ]
  },
  {
   "cell_type": "code",
   "execution_count": 34,
   "metadata": {},
   "outputs": [
    {
     "name": "stderr",
     "output_type": "stream",
     "text": [
      "distributed.scheduler - INFO - Receive client connection: Client-ae6340a6-2072-11ea-8169-b2891eb434b9\n",
      "distributed.core - INFO - Starting established connection\n"
     ]
    },
    {
     "data": {
      "text/html": [
       "<table style=\"border: 2px solid white;\">\n",
       "<tr>\n",
       "<td style=\"vertical-align: top; border: 0px solid white\">\n",
       "<h3 style=\"text-align: left;\">Client</h3>\n",
       "<ul style=\"text-align: left; list-style: none; margin: 0; padding: 0;\">\n",
       "  <li><b>Scheduler: </b>tcp://10.32.5.82:43337</li>\n",
       "  <li><b>Dashboard: </b><a href='/user/0000-0001-6559-9059/proxy/36245/status' target='_blank'>/user/0000-0001-6559-9059/proxy/36245/status</a>\n",
       "</ul>\n",
       "</td>\n",
       "<td style=\"vertical-align: top; border: 0px solid white\">\n",
       "<h3 style=\"text-align: left;\">Cluster</h3>\n",
       "<ul style=\"text-align: left; list-style:none; margin: 0; padding: 0;\">\n",
       "  <li><b>Workers: </b>0</li>\n",
       "  <li><b>Cores: </b>0</li>\n",
       "  <li><b>Memory: </b>0 B</li>\n",
       "</ul>\n",
       "</td>\n",
       "</tr>\n",
       "</table>"
      ],
      "text/plain": [
       "<Client: 'tcp://10.32.5.82:43337' processes=0 threads=0, memory=0 B>"
      ]
     },
     "execution_count": 34,
     "metadata": {},
     "output_type": "execute_result"
    }
   ],
   "source": [
    "client = Client(cluster)\n",
    "client\n",
    "\n",
    "#client.get_versions(check=True)\n",
    "#client.run(lambda: os.environ)"
   ]
  },
  {
   "cell_type": "code",
   "execution_count": 35,
   "metadata": {},
   "outputs": [
    {
     "name": "stdout",
     "output_type": "stream",
     "text": [
      "<xarray.Dataset>\n",
      "Dimensions:  (i: 4320, i_g: 4320, j: 4320, j_g: 4320, k: 1, k_l: 1, k_p1: 2, k_u: 1, time: 1)\n",
      "Coordinates:\n",
      "  * k_p1     (k_p1) int64 0 1\n",
      "    face     int64 10\n",
      "  * i        (i) int64 0 1 2 3 4 5 6 7 ... 4313 4314 4315 4316 4317 4318 4319\n",
      "  * i_g      (i_g) int64 0 1 2 3 4 5 6 7 ... 4313 4314 4315 4316 4317 4318 4319\n",
      "  * j        (j) int64 0 1 2 3 4 5 6 7 ... 4313 4314 4315 4316 4317 4318 4319\n",
      "  * j_g      (j_g) int64 0 1 2 3 4 5 6 7 ... 4313 4314 4315 4316 4317 4318 4319\n",
      "  * k        (k) int64 1\n",
      "  * k_u      (k_u) int64 1\n",
      "  * k_l      (k_l) int64 1\n",
      "    niter    (time) int64 ...\n",
      "  * time     (time) datetime64[ns] 2011-09-13\n",
      "    CS       (j, i) float32 dask.array<chunksize=(4320, 4320), meta=np.ndarray>\n",
      "    Depth    (j, i) float32 dask.array<chunksize=(4320, 4320), meta=np.ndarray>\n",
      "    PHrefC   float32 ...\n",
      "    PHrefF   (k_p1) float32 dask.array<chunksize=(2,), meta=np.ndarray>\n",
      "    SN       (j, i) float32 dask.array<chunksize=(4320, 4320), meta=np.ndarray>\n",
      "    XC       (j, i) float32 dask.array<chunksize=(4320, 4320), meta=np.ndarray>\n",
      "    XG       (j_g, i_g) float32 dask.array<chunksize=(4320, 4320), meta=np.ndarray>\n",
      "    YC       (j, i) float32 dask.array<chunksize=(4320, 4320), meta=np.ndarray>\n",
      "    YG       (j_g, i_g) float32 dask.array<chunksize=(4320, 4320), meta=np.ndarray>\n",
      "    Z        float32 ...\n",
      "    Zl       float32 ...\n",
      "    Zp1      (k_p1) float32 dask.array<chunksize=(2,), meta=np.ndarray>\n",
      "    Zu       float32 ...\n",
      "    drC      (k_p1) float32 dask.array<chunksize=(2,), meta=np.ndarray>\n",
      "    drF      float32 ...\n",
      "    dxC      (j, i_g) float32 dask.array<chunksize=(4320, 4320), meta=np.ndarray>\n",
      "    dxG      (j_g, i) float32 dask.array<chunksize=(4320, 4320), meta=np.ndarray>\n",
      "    dyC      (j_g, i) float32 dask.array<chunksize=(4320, 4320), meta=np.ndarray>\n",
      "    dyG      (j, i_g) float32 dask.array<chunksize=(4320, 4320), meta=np.ndarray>\n",
      "    hFacC    (j, i) float32 dask.array<chunksize=(4320, 4320), meta=np.ndarray>\n",
      "    hFacS    (j_g, i) float32 dask.array<chunksize=(4320, 4320), meta=np.ndarray>\n",
      "    hFacW    (j, i_g) float32 dask.array<chunksize=(4320, 4320), meta=np.ndarray>\n",
      "    iter     (time) int64 dask.array<chunksize=(1,), meta=np.ndarray>\n",
      "    rA       (j, i) float32 dask.array<chunksize=(4320, 4320), meta=np.ndarray>\n",
      "    rAs      (j_g, i) float32 dask.array<chunksize=(4320, 4320), meta=np.ndarray>\n",
      "    rAw      (j, i_g) float32 dask.array<chunksize=(4320, 4320), meta=np.ndarray>\n",
      "    rAz      (j_g, i_g) float32 dask.array<chunksize=(4320, 4320), meta=np.ndarray>\n",
      "Data variables:\n",
      "    U        (time, k, j, i_g) float32 dask.array<chunksize=(1, 1, 4320, 4320), meta=np.ndarray>\n",
      "    V        (time, k, j_g, i) float32 dask.array<chunksize=(1, 1, 4320, 4320), meta=np.ndarray>\n"
     ]
    }
   ],
   "source": [
    "# Load data from web\n",
    "cat = intake.Catalog(\"https://raw.githubusercontent.com/pangeo-data/pangeo-datastore/master/intake-catalogs/ocean/llc4320.yaml\")\n",
    "dsgrid = cat[\"LLC4320_grid\"].to_dask()\n",
    "\n",
    "model = llcreader.ECCOPortalLLC4320Model()\n",
    "ds = model.get_dataset(varnames=['U','V'], k_levels=[1]) #,k_chunksize=5)\n",
    "\n",
    "ds = xr.merge([ds, dsgrid])\n",
    "ds = ds.isel(face = 10, time = np.arange(0, 1)) #len(ds.time), 12))\n",
    "\n",
    "print(ds)"
   ]
  },
  {
   "cell_type": "code",
   "execution_count": 36,
   "metadata": {},
   "outputs": [
    {
     "name": "stderr",
     "output_type": "stream",
     "text": [
      "distributed.scheduler - INFO - Register tcp://10.32.2.2:35813\n",
      "distributed.scheduler - INFO - Starting worker compute stream, tcp://10.32.2.2:35813\n",
      "distributed.core - INFO - Starting established connection\n",
      "distributed.scheduler - INFO - Register tcp://10.32.2.3:44209\n",
      "distributed.scheduler - INFO - Starting worker compute stream, tcp://10.32.2.3:44209\n",
      "distributed.core - INFO - Starting established connection\n",
      "distributed.scheduler - INFO - Register tcp://10.32.12.3:45041\n",
      "distributed.scheduler - INFO - Starting worker compute stream, tcp://10.32.12.3:45041\n",
      "distributed.core - INFO - Starting established connection\n",
      "distributed.scheduler - INFO - Register tcp://10.32.12.2:45071\n",
      "distributed.scheduler - INFO - Starting worker compute stream, tcp://10.32.12.2:45071\n",
      "distributed.core - INFO - Starting established connection\n"
     ]
    }
   ],
   "source": [
    "# Create grid and compute vorticity, divergence\n",
    "grid = Grid(ds, coords={'X': {'center': 'i', 'right': 'i_g'}, 'Y': {'center': 'j', 'right': 'j_g'}})\n",
    "\n",
    "# Compute vorticity and divergence \n",
    "vorticity = ( - grid.diff(ds.U * ds.dxC, 'Y', boundary='fill') \n",
    "              + grid.diff(ds.V * ds.dyC, 'X', boundary='fill') ) / ds.rAz\n",
    "\n",
    "divergence =  ( grid.diff(ds.U * ds.dxC, 'X', boundary='fill') \n",
    "              + grid.diff(ds.V * ds.dyC, 'Y', boundary='fill') ) / ds.rA"
   ]
  },
  {
   "cell_type": "code",
   "execution_count": 132,
   "metadata": {},
   "outputs": [],
   "source": [
    "# Select data for a small region\n",
    "lat1, lat2 = (35., 45.); # 10x10 deg box near gulf stream\n",
    "lon1, lon2 = (-55.,-45.); # 1 deg should be avoided on each side for the final data\n",
    "\n",
    "u1 = grid.interp(ds.U, 'X', boundary='fill')\n",
    "v1 = grid.interp(ds.V, 'Y', boundary='fill')\n",
    "vort = grid.interp(grid.interp(vorticity, 'X', boundary='fill'), 'Y', boundary='fill')"
   ]
  },
  {
   "cell_type": "code",
   "execution_count": 133,
   "metadata": {},
   "outputs": [],
   "source": [
    "# Identify indices of lat, lon limits. I chose a fixed row/column in lats/lons to find the indices. Make sure the results do not change significantly \n",
    "idx_lat1 = (np.abs(ds.YC.isel(j=2000).values - lat1)).argmin()\n",
    "idx_lat2 = (np.abs(ds.YC.isel(j=2000).values - lat2)).argmin()\n",
    "\n",
    "idx_lon1 = (np.abs(ds.XC.isel(i=2000).values - lon1)).argmin()\n",
    "idx_lon2 = (np.abs(ds.XC.isel(i=2000).values - lon2)).argmin()"
   ]
  },
  {
   "cell_type": "code",
   "execution_count": 134,
   "metadata": {},
   "outputs": [
    {
     "name": "stdout",
     "output_type": "stream",
     "text": [
      "<xarray.DataArray 'mul-d0c2ccd28ebdf09a47c12a98756b2318' (time: 1, k: 1, j: 480, i: 679)>\n",
      "dask.array<getitem, shape=(1, 1, 480, 679), dtype=float32, chunksize=(1, 1, 480, 679), chunktype=numpy.ndarray>\n",
      "Coordinates:\n",
      "  * time     (time) datetime64[ns] 2011-09-13\n",
      "  * k        (k) int64 1\n",
      "  * j        (j) int64 3503 3504 3505 3506 3507 ... 3978 3979 3980 3981 3982\n",
      "  * i        (i) int64 2413 2414 2415 2416 2417 ... 3087 3088 3089 3090 3091 <xarray.DataArray 'mul-8028f3ae7b50d6bb89929ac294d8aa46' (time: 1, k: 1, j: 480, i: 679)>\n",
      "dask.array<getitem, shape=(1, 1, 480, 679), dtype=float32, chunksize=(1, 1, 480, 679), chunktype=numpy.ndarray>\n",
      "Coordinates:\n",
      "  * time     (time) datetime64[ns] 2011-09-13\n",
      "  * k        (k) int64 1\n",
      "  * j        (j) int64 3503 3504 3505 3506 3507 ... 3978 3979 3980 3981 3982\n",
      "  * i        (i) int64 2413 2414 2415 2416 2417 ... 3087 3088 3089 3090 3091 <xarray.DataArray 'mul-786c08eac21c72911b3a1aaeaf10accc' (time: 1, k: 1, j: 480, i: 679)>\n",
      "dask.array<getitem, shape=(1, 1, 480, 679), dtype=float32, chunksize=(1, 1, 480, 679), chunktype=numpy.ndarray>\n",
      "Coordinates:\n",
      "  * time     (time) datetime64[ns] 2011-09-13\n",
      "  * k        (k) int64 1\n",
      "  * j        (j) int64 3503 3504 3505 3506 3507 ... 3978 3979 3980 3981 3982\n",
      "  * i        (i) int64 2413 2414 2415 2416 2417 ... 3087 3088 3089 3090 3091 <xarray.DataArray (time: 1, k: 1, j: 480, i: 679)>\n",
      "dask.array<getitem, shape=(1, 1, 480, 679), dtype=float32, chunksize=(1, 1, 480, 679), chunktype=numpy.ndarray>\n",
      "Coordinates:\n",
      "  * time     (time) datetime64[ns] 2011-09-13\n",
      "  * k        (k) int64 1\n",
      "  * j        (j) int64 3503 3504 3505 3506 3507 ... 3978 3979 3980 3981 3982\n",
      "  * i        (i) int64 2413 2414 2415 2416 2417 ... 3087 3088 3089 3090 3091\n",
      "    face     int64 10\n",
      "    CS       (j, i) float32 dask.array<chunksize=(480, 679), meta=np.ndarray>\n",
      "    Depth    (j, i) float32 dask.array<chunksize=(480, 679), meta=np.ndarray>\n",
      "    PHrefC   float32 ...\n",
      "    SN       (j, i) float32 dask.array<chunksize=(480, 679), meta=np.ndarray>\n",
      "    XC       (j, i) float32 dask.array<chunksize=(480, 679), meta=np.ndarray>\n",
      "    YC       (j, i) float32 dask.array<chunksize=(480, 679), meta=np.ndarray>\n",
      "    Z        float32 ...\n",
      "    Zl       float32 ...\n",
      "    Zu       float32 ...\n",
      "    drF      float32 ...\n",
      "    hFacC    (j, i) float32 dask.array<chunksize=(480, 679), meta=np.ndarray>\n",
      "    rA       (j, i) float32 dask.array<chunksize=(480, 679), meta=np.ndarray> <xarray.DataArray 'YC' (j: 480, i: 679)>\n",
      "dask.array<getitem, shape=(480, 679), dtype=float32, chunksize=(480, 679), chunktype=numpy.ndarray>\n",
      "Coordinates:\n",
      "    face     int64 10\n",
      "  * i        (i) int64 2413 2414 2415 2416 2417 ... 3087 3088 3089 3090 3091\n",
      "  * j        (j) int64 3503 3504 3505 3506 3507 ... 3978 3979 3980 3981 3982\n",
      "    CS       (j, i) float32 dask.array<chunksize=(480, 679), meta=np.ndarray>\n",
      "    Depth    (j, i) float32 dask.array<chunksize=(480, 679), meta=np.ndarray>\n",
      "    PHrefC   float32 ...\n",
      "    SN       (j, i) float32 dask.array<chunksize=(480, 679), meta=np.ndarray>\n",
      "    XC       (j, i) float32 dask.array<chunksize=(480, 679), meta=np.ndarray>\n",
      "    YC       (j, i) float32 dask.array<chunksize=(480, 679), meta=np.ndarray>\n",
      "    Z        float32 ...\n",
      "    Zl       float32 ...\n",
      "    Zu       float32 ...\n",
      "    drF      float32 ...\n",
      "    hFacC    (j, i) float32 dask.array<chunksize=(480, 679), meta=np.ndarray>\n",
      "    rA       (j, i) float32 dask.array<chunksize=(480, 679), meta=np.ndarray>\n",
      "Attributes:\n",
      "    coordinate:     YC XC\n",
      "    long_name:      latitude\n",
      "    standard_name:  latitude\n",
      "    units:          degrees_north <xarray.DataArray 'XC' (j: 480, i: 679)>\n",
      "dask.array<getitem, shape=(480, 679), dtype=float32, chunksize=(480, 679), chunktype=numpy.ndarray>\n",
      "Coordinates:\n",
      "    face     int64 10\n",
      "  * i        (i) int64 2413 2414 2415 2416 2417 ... 3087 3088 3089 3090 3091\n",
      "  * j        (j) int64 3503 3504 3505 3506 3507 ... 3978 3979 3980 3981 3982\n",
      "    CS       (j, i) float32 dask.array<chunksize=(480, 679), meta=np.ndarray>\n",
      "    Depth    (j, i) float32 dask.array<chunksize=(480, 679), meta=np.ndarray>\n",
      "    PHrefC   float32 ...\n",
      "    SN       (j, i) float32 dask.array<chunksize=(480, 679), meta=np.ndarray>\n",
      "    XC       (j, i) float32 dask.array<chunksize=(480, 679), meta=np.ndarray>\n",
      "    YC       (j, i) float32 dask.array<chunksize=(480, 679), meta=np.ndarray>\n",
      "    Z        float32 ...\n",
      "    Zl       float32 ...\n",
      "    Zu       float32 ...\n",
      "    drF      float32 ...\n",
      "    hFacC    (j, i) float32 dask.array<chunksize=(480, 679), meta=np.ndarray>\n",
      "    rA       (j, i) float32 dask.array<chunksize=(480, 679), meta=np.ndarray>\n",
      "Attributes:\n",
      "    coordinate:     YC XC\n",
      "    long_name:      longitude\n",
      "    standard_name:  longitude\n",
      "    units:          degrees_east\n"
     ]
    }
   ],
   "source": [
    "# Extract data for the selected lat-lon domain\n",
    "vort2 = vort.isel({'i': slice(idx_lat2, idx_lat1), 'j' : slice(idx_lon1, idx_lon2)})\n",
    "u2 = u1.isel({'i': slice(idx_lat2, idx_lat1), 'j' : slice(idx_lon1, idx_lon2)})\n",
    "v2 = v1.isel({'i': slice(idx_lat2, idx_lat1), 'j' : slice(idx_lon1, idx_lon2)})\n",
    "div2 = divergence.isel({'i': slice(idx_lat2, idx_lat1), 'j' : slice(idx_lon1, idx_lon2)})\n",
    "lat = ds.YC.isel({'i': slice(idx_lat2, idx_lat1), 'j' : slice(idx_lon1, idx_lon2)})\n",
    "lon = ds.XC.isel({'i': slice(idx_lat2, idx_lat1), 'j' : slice(idx_lon1, idx_lon2)})\n",
    "\n",
    "print(vort2, u2, v2, div2, lat, lon)"
   ]
  },
  {
   "cell_type": "code",
   "execution_count": 135,
   "metadata": {},
   "outputs": [
    {
     "name": "stdout",
     "output_type": "stream",
     "text": [
      "850866.6567484337 1110727.5359691912 1776.339575675227 1638.2412034943823\n"
     ]
    }
   ],
   "source": [
    "# Compute domain length/width and average grid spacings  \n",
    "R = 6364.e3; # Radius of the Earth in meters\n",
    "\n",
    "Lx = R*2*np.pi*np.cos((lat1 + lat2)*np.pi/(2*180))*np.abs(lon1-lon2)/360.\n",
    "Ly = R*2*np.pi*np.abs(lat1-lat2)/360.\n",
    "\n",
    "dx = Lx/(np.abs(idx_lon2 - idx_lon1) - 1)\n",
    "dy = Ly/(np.abs(idx_lat2 - idx_lat1) - 1)\n",
    "\n",
    "print(Lx, Ly, dx, dy)"
   ]
  },
  {
   "cell_type": "markdown",
   "metadata": {},
   "source": [
    "# Checks "
   ]
  },
  {
   "cell_type": "code",
   "execution_count": 130,
   "metadata": {},
   "outputs": [
    {
     "name": "stdout",
     "output_type": "stream",
     "text": [
      "3092 2413 3503 3983\n"
     ]
    },
    {
     "data": {
      "text/plain": [
       "[<matplotlib.lines.Line2D at 0x7f2145788978>]"
      ]
     },
     "execution_count": 130,
     "metadata": {},
     "output_type": "execute_result"
    },
    {
     "data": {
      "image/png": "[encoded data removed]",
      "text/plain": [
       "<Figure size 432x288 with 1 Axes>"
      ]
     },
     "metadata": {
      "needs_background": "light"
     },
     "output_type": "display_data"
    }
   ],
   "source": [
    "lats = ds.XC.isel(i=1000)\n",
    "#Client.publish(lats=lats)\n",
    "#print(lats.values)\n",
    "#print(lats[:,0])\n",
    "#print(lons[:,100])\n",
    "print(idx_lat1, idx_lat2, idx_lon1, idx_lon2)\n",
    "plt.plot(lats.values)"
   ]
  },
  {
   "cell_type": "code",
   "execution_count": 136,
   "metadata": {},
   "outputs": [
    {
     "data": {
      "text/plain": [
       "<matplotlib.colorbar.Colorbar at 0x7f2147d097b8>"
      ]
     },
     "execution_count": 136,
     "metadata": {},
     "output_type": "execute_result"
    },
    {
     "data": {
      "image/png": "[encoded data removed]",
      "text/plain": [
       "<Figure size 432x288 with 8 Axes>"
      ]
     },
     "metadata": {
      "needs_background": "light"
     },
     "output_type": "display_data"
    }
   ],
   "source": [
    "# Check plots of the fields\n",
    "\n",
    "tmp_u = u2.values\n",
    "tmp_v = v2.values\n",
    "tmp_vort = vort2.values\n",
    "tmp_div = div2.values\n",
    "\n",
    "fig, axs = plt.subplots(2, 2)\n",
    "\n",
    "ax = axs[0, 0]\n",
    "ax1 = ax.contourf(tmp_u[0,0,:,:])\n",
    "fig.colorbar(ax1, ax=ax)\n",
    "\n",
    "ax = axs[0, 1]\n",
    "ax1 = ax.contourf(tmp_v[0,0,:,:])\n",
    "fig.colorbar(ax1, ax=ax)\n",
    "\n",
    "ax = axs[1, 0]\n",
    "ax1 = ax.contourf(tmp_vort[0,0,:,:])\n",
    "fig.colorbar(ax1, ax=ax)\n",
    "\n",
    "ax = axs[1, 1]\n",
    "ax1 = ax.contourf(tmp_div[0,0,:,:])\n",
    "fig.colorbar(ax1, ax=ax)"
   ]
  },
  {
   "cell_type": "code",
   "execution_count": 152,
   "metadata": {},
   "outputs": [
    {
     "data": {
      "text/plain": [
       "[<matplotlib.lines.Line2D at 0x7f2144495d30>]"
      ]
     },
     "execution_count": 152,
     "metadata": {},
     "output_type": "execute_result"
    },
    {
     "data": {
      "image/png": "[encoded data removed]",
      "text/plain": [
       "<Figure size 432x288 with 1 Axes>"
      ]
     },
     "metadata": {
      "needs_background": "light"
     },
     "output_type": "display_data"
    }
   ],
   "source": [
    "# Check spectrum\n",
    "import spectrum as sp\n",
    "\n",
    "spec_vort = sp.TWODimensional_spec(tmp_vort[0,0,:,0:636].squeeze(), dx, dy, detrend=True)\n",
    "spec_div = sp.TWODimensional_spec(tmp_div[0,0,:,0:636].squeeze(), dx, dy, detrend=True)\n",
    "spec_u = sp.TWODimensional_spec(tmp_u[0,0,:,0:636].squeeze(), dx, dy, detrend=True)\n",
    "\n",
    "#print(spec_vort.spec.shape)\n",
    "#print(spec_vort.ki)\n",
    "plt.loglog(spec_vort.ki, spec_vort.ispec/spec_vort.ki**2)\n",
    "plt.loglog(spec_div.ki, spec_div.ispec/spec_div.ki**2)\n",
    "plt.loglog(spec_u.ki, spec_u.ispec)\n",
    "\n",
    "#plt.contourf(tmp_vort[0,0,:,:],20,vmin=-0.001,vmax=0.001)\n",
    "#plt.colorbar()\n",
    "#print(tmp_vort.squeeze())"
   ]
  },
  {
   "cell_type": "code",
   "execution_count": 127,
   "metadata": {},
   "outputs": [
    {
     "name": "stdout",
     "output_type": "stream",
     "text": [
      "[-70.010414 -69.989586 -69.96875  -69.947914 -69.927086 -69.90625\n",
      " -69.885414 -69.864586 -69.84375  -69.822914 -69.802086 -69.78125\n",
      " -69.760414 -69.739586 -69.71875  -69.697914 -69.677086 -69.65625\n",
      " -69.635414 -69.614586 -69.59375  -69.572914 -69.552086 -69.53125\n",
      " -69.510414 -69.489586 -69.46875  -69.447914 -69.427086 -69.40625\n",
      " -69.385414 -69.364586 -69.34375  -69.322914 -69.302086 -69.28125\n",
      " -69.260414 -69.239586 -69.21875  -69.197914 -69.177086 -69.15625\n",
      " -69.135414 -69.114586 -69.09375  -69.072914 -69.052086 -69.03125\n",
      " -69.010414 -68.989586 -68.96875  -68.947914 -68.927086 -68.90625\n",
      " -68.885414 -68.864586 -68.84375  -68.822914 -68.802086 -68.78125\n",
      " -68.760414 -68.739586 -68.71875  -68.697914 -68.677086 -68.65625\n",
      " -68.635414 -68.614586 -68.59375  -68.572914 -68.552086 -68.53125\n",
      " -68.510414 -68.489586 -68.46875  -68.447914 -68.427086 -68.40625\n",
      " -68.385414 -68.364586 -68.34375  -68.322914 -68.302086 -68.28125\n",
      " -68.260414 -68.239586 -68.21875  -68.197914 -68.177086 -68.15625\n",
      " -68.135414 -68.114586 -68.09375  -68.072914 -68.052086 -68.03125\n",
      " -68.010414 -67.989586 -67.96875  -67.947914 -67.927086 -67.90625\n",
      " -67.885414 -67.864586 -67.84375  -67.822914 -67.802086 -67.78125\n",
      " -67.760414 -67.739586 -67.71875  -67.697914 -67.677086 -67.65625\n",
      " -67.635414 -67.614586 -67.59375  -67.572914 -67.552086 -67.53125\n",
      " -67.510414 -67.489586 -67.46875  -67.447914 -67.427086 -67.40625\n",
      " -67.385414 -67.364586 -67.34375  -67.322914 -67.302086 -67.28125\n",
      " -67.260414 -67.239586 -67.21875  -67.197914 -67.177086 -67.15625\n",
      " -67.135414 -67.114586 -67.09375  -67.072914 -67.052086 -67.03125\n",
      " -67.010414 -66.989586 -66.96875  -66.947914 -66.927086 -66.90625\n",
      " -66.885414 -66.864586 -66.84375  -66.822914 -66.802086 -66.78125\n",
      " -66.760414 -66.739586 -66.71875  -66.697914 -66.677086 -66.65625\n",
      " -66.635414 -66.614586 -66.59375  -66.572914 -66.552086 -66.53125\n",
      " -66.510414 -66.489586 -66.46875  -66.447914 -66.427086 -66.40625\n",
      " -66.385414 -66.364586 -66.34375  -66.322914 -66.302086 -66.28125\n",
      " -66.260414 -66.239586 -66.21875  -66.197914 -66.177086 -66.15625\n",
      " -66.135414 -66.114586 -66.09375  -66.072914 -66.052086 -66.03125\n",
      " -66.010414 -65.989586 -65.96875  -65.947914 -65.927086 -65.90625\n",
      " -65.885414 -65.864586 -65.84375  -65.822914 -65.802086 -65.78125\n",
      " -65.760414 -65.739586 -65.71875  -65.697914 -65.677086 -65.65625\n",
      " -65.635414 -65.614586 -65.59375  -65.572914 -65.552086 -65.53125\n",
      " -65.510414 -65.489586 -65.46875  -65.447914 -65.427086 -65.40625\n",
      " -65.385414 -65.364586 -65.34375  -65.322914 -65.302086 -65.28125\n",
      " -65.260414 -65.239586 -65.21875  -65.197914 -65.177086 -65.15625\n",
      " -65.135414 -65.114586 -65.09375  -65.072914 -65.052086 -65.03125\n",
      " -65.010414 -64.989586 -64.96875  -64.947914 -64.927086 -64.90625\n",
      " -64.885414 -64.864586 -64.84375  -64.822914 -64.802086 -64.78125\n",
      " -64.760414 -64.739586 -64.71875  -64.697914 -64.677086 -64.65625\n",
      " -64.635414 -64.614586 -64.59375  -64.572914 -64.552086 -64.53125\n",
      " -64.510414 -64.489586 -64.46875  -64.447914 -64.427086 -64.40625\n",
      " -64.385414 -64.364586 -64.34375  -64.322914 -64.302086 -64.28125\n",
      " -64.260414 -64.239586 -64.21875  -64.197914 -64.177086 -64.15625\n",
      " -64.135414 -64.114586 -64.09375  -64.072914 -64.052086 -64.03125\n",
      " -64.010414 -63.989582 -63.96875  -63.947918 -63.927082 -63.90625\n",
      " -63.885418 -63.864582 -63.84375  -63.822918 -63.802082 -63.78125\n",
      " -63.760418 -63.739582 -63.71875  -63.697918 -63.677082 -63.65625\n",
      " -63.635418 -63.614582 -63.59375  -63.572918 -63.552082 -63.53125\n",
      " -63.510418 -63.489582 -63.46875  -63.447918 -63.427082 -63.40625\n",
      " -63.385418 -63.364582 -63.34375  -63.322918 -63.302082 -63.28125\n",
      " -63.260418 -63.239582 -63.21875  -63.197918 -63.177082 -63.15625\n",
      " -63.135418 -63.114582 -63.09375  -63.072918 -63.052082 -63.03125\n",
      " -63.010418 -62.989582 -62.96875  -62.947918 -62.927082 -62.90625\n",
      " -62.885418 -62.864582 -62.84375  -62.822918 -62.802082 -62.78125\n",
      " -62.760418 -62.739582 -62.71875  -62.697918 -62.677082 -62.65625\n",
      " -62.635418 -62.614582 -62.59375  -62.572918 -62.552082 -62.53125\n",
      " -62.510418 -62.489582 -62.46875  -62.447918 -62.427082 -62.40625\n",
      " -62.385418 -62.364582 -62.34375  -62.322918 -62.302082 -62.28125\n",
      " -62.260418 -62.239582 -62.21875  -62.197918 -62.177082 -62.15625\n",
      " -62.135418 -62.114582 -62.09375  -62.072918 -62.052082 -62.03125\n",
      " -62.010418 -61.989582 -61.96875  -61.947918 -61.927082 -61.90625\n",
      " -61.885418 -61.864582 -61.84375  -61.822918 -61.802082 -61.78125\n",
      " -61.760418 -61.739582 -61.71875  -61.697918 -61.677082 -61.65625\n",
      " -61.635418 -61.614582 -61.59375  -61.572918 -61.552082 -61.53125\n",
      " -61.510418 -61.489582 -61.46875  -61.447918 -61.427082 -61.40625\n",
      " -61.385418 -61.364582 -61.34375  -61.322918 -61.302082 -61.28125\n",
      " -61.260418 -61.239582 -61.21875  -61.197918 -61.177082 -61.15625\n",
      " -61.135418 -61.114582 -61.09375  -61.072918 -61.052082 -61.03125\n",
      " -61.010418 -60.989582 -60.96875  -60.947918 -60.927082 -60.90625\n",
      " -60.885418 -60.864582 -60.84375  -60.822918 -60.802082 -60.78125\n",
      " -60.760418 -60.739582 -60.71875  -60.697918 -60.677082 -60.65625\n",
      " -60.635418 -60.614582 -60.59375  -60.572918 -60.552082 -60.53125\n",
      " -60.510418 -60.489582 -60.46875  -60.447918 -60.427082 -60.40625\n",
      " -60.385418 -60.364582 -60.34375  -60.322918 -60.302082 -60.28125\n",
      " -60.260418 -60.239582 -60.21875  -60.197918 -60.177082 -60.15625\n",
      " -60.135418 -60.114582 -60.09375  -60.072918 -60.052082 -60.03125 ]\n"
     ]
    }
   ],
   "source": [
    "print(lon.values[:,0])\n",
    "#ds.YC.isel(j=2000).values\n",
    "#idx = (np.abs(ds.YC.isel(j=1000).values - lat2)).argmin()\n",
    "#print(lat2, idx, ds.YC.isel(j=1000, i =idx).values)"
   ]
  },
  {
   "cell_type": "code",
   "execution_count": 52,
   "metadata": {},
   "outputs": [
    {
     "data": {
      "text/plain": [
       "1.22304"
      ]
     },
     "execution_count": 52,
     "metadata": {},
     "output_type": "execute_result"
    }
   ],
   "source": [
    "u2.nbytes/1e6"
   ]
  },
  {
   "cell_type": "code",
   "execution_count": 120,
   "metadata": {},
   "outputs": [
    {
     "name": "stdout",
     "output_type": "stream",
     "text": [
      "[[nan +0.j nan+nanj nan+nanj ... nan+nanj nan+nanj nan+nanj]\n",
      " [nan+nanj nan+nanj nan+nanj ... nan+nanj nan+nanj nan+nanj]\n",
      " [nan+nanj nan+nanj nan+nanj ... nan+nanj nan+nanj nan+nanj]\n",
      " ...\n",
      " [nan+nanj nan+nanj nan+nanj ... nan+nanj nan+nanj nan+nanj]\n",
      " [nan+nanj nan+nanj nan+nanj ... nan+nanj nan+nanj nan+nanj]\n",
      " [nan+nanj nan+nanj nan+nanj ... nan+nanj nan+nanj nan+nanj]]\n"
     ]
    }
   ],
   "source": [
    "spec_u = np.fft.rfft2(tmp_u.squeeze())\n",
    "print(spec_u)"
   ]
  },
  {
   "cell_type": "code",
   "execution_count": 137,
   "metadata": {},
   "outputs": [
    {
     "data": {
      "text/plain": [
       "<matplotlib.contour.QuadContourSet at 0x7f2146199fd0>"
      ]
     },
     "execution_count": 137,
     "metadata": {},
     "output_type": "execute_result"
    },
    {
     "data": {
      "image/png": "[encoded data removed]",
      "text/plain": [
       "<Figure size 432x288 with 1 Axes>"
      ]
     },
     "metadata": {
      "needs_background": "light"
     },
     "output_type": "display_data"
    }
   ],
   "source": [
    "a = np.isnan(tmp_u.squeeze())\n",
    "plt.contourf(a)"
   ]
  },
  {
   "cell_type": "code",
   "execution_count": 155,
   "metadata": {},
   "outputs": [
    {
     "data": {
      "text/plain": [
       "<xarray.DataArray 'dyC' (j_g: 4320, i: 4320)>\n",
       "dask.array<getitem, shape=(4320, 4320), dtype=float32, chunksize=(4320, 4320), chunktype=numpy.ndarray>\n",
       "Coordinates:\n",
       "    face     int64 10\n",
       "  * i        (i) int64 0 1 2 3 4 5 6 7 ... 4313 4314 4315 4316 4317 4318 4319\n",
       "  * j_g      (j_g) int64 0 1 2 3 4 5 6 7 ... 4313 4314 4315 4316 4317 4318 4319\n",
       "    PHrefC   float32 ...\n",
       "    Z        float32 ...\n",
       "    Zl       float32 ...\n",
       "    Zu       float32 ...\n",
       "    drF      float32 ...\n",
       "    dxG      (j_g, i) float32 dask.array<chunksize=(4320, 4320), meta=np.ndarray>\n",
       "    dyC      (j_g, i) float32 dask.array<chunksize=(4320, 4320), meta=np.ndarray>\n",
       "    hFacS    (j_g, i) float32 dask.array<chunksize=(4320, 4320), meta=np.ndarray>\n",
       "    rAs      (j_g, i) float32 dask.array<chunksize=(4320, 4320), meta=np.ndarray>\n",
       "Attributes:\n",
       "    coordinate:     YG XC\n",
       "    long_name:      cell y size\n",
       "    standard_name:  cell_y_size_at_v_location\n",
       "    units:          m"
      ]
     },
     "execution_count": 155,
     "metadata": {},
     "output_type": "execute_result"
    }
   ],
   "source": [
    "ds.dyC"
   ]
  },
  {
   "cell_type": "code",
   "execution_count": null,
   "metadata": {},
   "outputs": [],
   "source": []
  },
  {
   "cell_type": "code",
   "execution_count": null,
   "metadata": {},
   "outputs": [],
   "source": []
  }
 ],
 "metadata": {
  "kernelspec": {
   "display_name": "Python 3",
   "language": "python",
   "name": "python3"
  },
  "language_info": {
   "codemirror_mode": {
    "name": "ipython",
    "version": 3
   },
   "file_extension": ".py",
   "mimetype": "text/x-python",
   "name": "python",
   "nbconvert_exporter": "python",
   "pygments_lexer": "ipython3",
   "version": "3.7.4"
  }
 },
 "nbformat": 4,
 "nbformat_minor": 4
}
