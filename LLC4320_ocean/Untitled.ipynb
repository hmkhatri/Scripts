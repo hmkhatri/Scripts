{
 "cells": [
  {
   "cell_type": "markdown",
   "metadata": {},
   "source": [
    "# Analysis of 1/48 Deg global ocean run\n",
    "Relevant links -\n",
    "\n",
    "https://medium.com/pangeo/petabytes-of-ocean-data-part-1-nasa-ecco-data-portal-81e3c5e077be \n",
    "\n",
    "https://xmitgcm.readthedocs.io/en/latest/llcreader.html\n",
    "\n",
    "https://pangeo-data.github.io/pangeo-datastore/master/ocean/llc4320.html#llc4320-grid\n",
    "\n",
    "https://ecco.jpl.nasa.gov/products/latest/user-guide/"
   ]
  },
  {
   "cell_type": "code",
   "execution_count": 1,
   "metadata": {},
   "outputs": [],
   "source": [
    "import xarray as xr\n",
    "import dask.array as da\n",
    "from dask.distributed import Client, LocalCluster\n",
    "from xgcm import Grid\n",
    "import numpy as np\n",
    "import matplotlib.pyplot as plt\n",
    "import matplotlib.cm as cm\n",
    "from xmitgcm import llcreader\n",
    "import intake\n",
    "%matplotlib inline"
   ]
  },
  {
   "cell_type": "code",
   "execution_count": 2,
   "metadata": {},
   "outputs": [
    {
     "data": {
      "text/html": [
       "<table style=\"border: 2px solid white;\">\n",
       "<tr>\n",
       "<td style=\"vertical-align: top; border: 0px solid white\">\n",
       "<h3 style=\"text-align: left;\">Client</h3>\n",
       "<ul style=\"text-align: left; list-style: none; margin: 0; padding: 0;\">\n",
       "  <li><b>Scheduler: </b>tcp://127.0.0.1:35213</li>\n",
       "  <li><b>Dashboard: </b><a href='http://127.0.0.1:8787/status' target='_blank'>http://127.0.0.1:8787/status</a>\n",
       "</ul>\n",
       "</td>\n",
       "<td style=\"vertical-align: top; border: 0px solid white\">\n",
       "<h3 style=\"text-align: left;\">Cluster</h3>\n",
       "<ul style=\"text-align: left; list-style:none; margin: 0; padding: 0;\">\n",
       "  <li><b>Workers: </b>1</li>\n",
       "  <li><b>Cores: </b>8</li>\n",
       "  <li><b>Memory: </b>33.22 GB</li>\n",
       "</ul>\n",
       "</td>\n",
       "</tr>\n",
       "</table>"
      ],
      "text/plain": [
       "<Client: 'tcp://127.0.0.1:35213' processes=1 threads=8, memory=33.22 GB>"
      ]
     },
     "execution_count": 2,
     "metadata": {},
     "output_type": "execute_result"
    }
   ],
   "source": [
    "lc = LocalCluster(n_workers=1)\n",
    "client = Client(lc)\n",
    "client"
   ]
  },
  {
   "cell_type": "code",
   "execution_count": 3,
   "metadata": {},
   "outputs": [
    {
     "name": "stderr",
     "output_type": "stream",
     "text": [
      "distributed.comm.tcp - WARNING - Closing dangling stream in <TCP  local=tcp://127.0.0.1:40808 remote=tcp://127.0.0.1:35213>\n"
     ]
    },
    {
     "name": "stdout",
     "output_type": "stream",
     "text": [
      "<xarray.Dataset>\n",
      "Dimensions:  (face: 13, i: 17280, i_g: 17280, j: 12960, j_g: 12960, k: 5, k_l: 5, k_p1: 6, k_u: 5, time: 9030)\n",
      "Coordinates:\n",
      "  * k_p1     (k_p1) int64 0 1 3 5 10 30\n",
      "  * face     (face) int64 0 1 2 3 4 5 6 7 8 9 10 11 12\n",
      "  * j_g      (j_g) int64 0 1 2 3 4 5 6 ... 12954 12955 12956 12957 12958 12959\n",
      "  * i        (i) int64 0 1 2 3 4 5 6 ... 17274 17275 17276 17277 17278 17279\n",
      "  * k_l      (k_l) int64 1 3 5 10 30\n",
      "  * i_g      (i_g) int64 0 1 2 3 4 5 6 ... 17274 17275 17276 17277 17278 17279\n",
      "  * k_u      (k_u) int64 1 3 5 10 30\n",
      "  * k        (k) int64 1 3 5 10 30\n",
      "  * time     (time) datetime64[ns] 2011-09-13 ... 2012-09-23T05:00:00\n",
      "  * j        (j) int64 0 1 2 3 4 5 6 ... 12954 12955 12956 12957 12958 12959\n",
      "    CS       (j, i) float32 dask.array<chunksize=(4320, 4320), meta=np.ndarray>\n",
      "    Depth    (j, i) float32 dask.array<chunksize=(4320, 4320), meta=np.ndarray>\n",
      "    PHrefC   float32 15.4017\n",
      "    PHrefF   (k_p1) float32 dask.array<chunksize=(6,), meta=np.ndarray>\n",
      "    SN       (j, i) float32 dask.array<chunksize=(4320, 4320), meta=np.ndarray>\n",
      "    XC       (j, i) float32 dask.array<chunksize=(4320, 4320), meta=np.ndarray>\n",
      "    XG       (j_g, i_g) float32 dask.array<chunksize=(4320, 4320), meta=np.ndarray>\n",
      "    YC       (j, i) float32 dask.array<chunksize=(4320, 4320), meta=np.ndarray>\n",
      "    YG       (j_g, i_g) float32 dask.array<chunksize=(4320, 4320), meta=np.ndarray>\n",
      "    Z        float32 -1.57\n",
      "    Zl       float32 -1.0\n",
      "    Zp1      (k_p1) float32 dask.array<chunksize=(6,), meta=np.ndarray>\n",
      "    Zu       float32 -2.14\n",
      "    drC      (k_p1) float32 dask.array<chunksize=(6,), meta=np.ndarray>\n",
      "    drF      float32 1.14\n",
      "    hFacC    (j, i) float32 dask.array<chunksize=(4320, 4320), meta=np.ndarray>\n",
      "    hFacS    (j_g, i) float32 dask.array<chunksize=(4320, 4320), meta=np.ndarray>\n",
      "    hFacW    (j, i_g) float32 dask.array<chunksize=(4320, 4320), meta=np.ndarray>\n",
      "    iter     (time) int64 dask.array<chunksize=(9030,), meta=np.ndarray>\n",
      "    rA       (j, i) float32 dask.array<chunksize=(4320, 4320), meta=np.ndarray>\n",
      "    rAs      (j_g, i) float32 dask.array<chunksize=(4320, 4320), meta=np.ndarray>\n",
      "    rAw      (j, i_g) float32 dask.array<chunksize=(4320, 4320), meta=np.ndarray>\n",
      "    rAz      (j_g, i_g) float32 dask.array<chunksize=(4320, 4320), meta=np.ndarray>\n",
      "    dxC      (j, i_g) float32 dask.array<chunksize=(4320, 4320), meta=np.ndarray>\n",
      "    dyC      (j_g, i) float32 dask.array<chunksize=(1, 4320), meta=np.ndarray>\n",
      "    dyG      (j, i_g) float32 dask.array<chunksize=(4320, 4320), meta=np.ndarray>\n",
      "    dxG      (j_g, i) float32 dask.array<chunksize=(1, 4320), meta=np.ndarray>\n",
      "Data variables:\n",
      "    Eta      (time, j, i) float32 dask.array<chunksize=(1, 12960, 4320), meta=np.ndarray>\n",
      "    U        (time, k, j, i_g) float32 dask.array<chunksize=(1, 1, 12960, 4320), meta=np.ndarray>\n",
      "    V        (time, k, j_g, i) float32 dask.array<chunksize=(1, 1, 1, 4320), meta=np.ndarray>\n",
      "    W        (time, k_l, j, i) float32 dask.array<chunksize=(1, 1, 12960, 4320), meta=np.ndarray>\n"
     ]
    },
    {
     "name": "stderr",
     "output_type": "stream",
     "text": [
      "distributed.comm.tcp - WARNING - Closing dangling stream in <TCP  local=tcp://127.0.0.1:40812 remote=tcp://127.0.0.1:35213>\n",
      "distributed.comm.tcp - WARNING - Closing dangling stream in <TCP  local=tcp://127.0.0.1:40814 remote=tcp://127.0.0.1:35213>\n"
     ]
    }
   ],
   "source": [
    "# Load grid data from web\n",
    "cat = intake.Catalog(\"https://raw.githubusercontent.com/pangeo-data/pangeo-datastore/master/intake-catalogs/ocean/llc4320.yaml\")\n",
    "dsgrid = cat[\"LLC4320_grid\"].to_dask()\n",
    "dsgrid = llcreader.faces_dataset_to_latlon(dsgrid, metric_vector_pairs=[('dxC', 'dyC'), ('dyG', 'dxG')])\n",
    "\n",
    "model = llcreader.ECCOPortalLLC4320Model()\n",
    "ds = model.get_dataset(varnames=['Eta','U','V','W'], k_levels=[1,3,5,10,30], type='latlon')\n",
    "\n",
    "ds = xr.merge([ds, dsgrid])\n",
    "grid = Grid(ds, coords={'X': {'center': 'i', 'right': 'i_g'}, 'Y': {'center': 'j', 'right': 'j_g'}})\n",
    "\n",
    "print(ds)"
   ]
  },
  {
   "cell_type": "code",
   "execution_count": 47,
   "metadata": {},
   "outputs": [
    {
     "ename": "ValueError",
     "evalue": "dimensions or multi-index levels ['YC', 'YG'] do not exist",
     "output_type": "error",
     "traceback": [
      "\u001b[0;31m---------------------------------------------------------------------------\u001b[0m",
      "\u001b[0;31mValueError\u001b[0m                                Traceback (most recent call last)",
      "\u001b[0;32m<ipython-input-47-12eab636233e>\u001b[0m in \u001b[0;36m<module>\u001b[0;34m\u001b[0m\n\u001b[1;32m      6\u001b[0m \u001b[0;31m#& (ds.XC > lon1) & (ds.XC <lon2) & (ds.XG > lon1) & (ds.XG < lon2)\u001b[0m\u001b[0;34m\u001b[0m\u001b[0;34m\u001b[0m\u001b[0;34m\u001b[0m\u001b[0m\n\u001b[1;32m      7\u001b[0m \u001b[0;34m\u001b[0m\u001b[0m\n\u001b[0;32m----> 8\u001b[0;31m \u001b[0mds1\u001b[0m \u001b[0;34m=\u001b[0m \u001b[0mds\u001b[0m\u001b[0;34m.\u001b[0m\u001b[0msel\u001b[0m\u001b[0;34m(\u001b[0m\u001b[0;34m{\u001b[0m\u001b[0;34m'YC'\u001b[0m\u001b[0;34m:\u001b[0m \u001b[0mslice\u001b[0m\u001b[0;34m(\u001b[0m\u001b[0mlat1\u001b[0m\u001b[0;34m,\u001b[0m\u001b[0mlat2\u001b[0m\u001b[0;34m)\u001b[0m\u001b[0;34m,\u001b[0m \u001b[0;34m'YG'\u001b[0m \u001b[0;34m:\u001b[0m \u001b[0mslice\u001b[0m\u001b[0;34m(\u001b[0m\u001b[0mlat1\u001b[0m\u001b[0;34m,\u001b[0m\u001b[0mlat2\u001b[0m\u001b[0;34m)\u001b[0m\u001b[0;34m}\u001b[0m\u001b[0;34m)\u001b[0m\u001b[0;34m\u001b[0m\u001b[0;34m\u001b[0m\u001b[0m\n\u001b[0m",
      "\u001b[0;32m~/anaconda3/envs/analysis_python3/lib/python3.7/site-packages/xarray/core/dataset.py\u001b[0m in \u001b[0;36msel\u001b[0;34m(self, indexers, method, tolerance, drop, **indexers_kwargs)\u001b[0m\n\u001b[1;32m   2004\u001b[0m         \u001b[0mindexers\u001b[0m \u001b[0;34m=\u001b[0m \u001b[0meither_dict_or_kwargs\u001b[0m\u001b[0;34m(\u001b[0m\u001b[0mindexers\u001b[0m\u001b[0;34m,\u001b[0m \u001b[0mindexers_kwargs\u001b[0m\u001b[0;34m,\u001b[0m \u001b[0;34m\"sel\"\u001b[0m\u001b[0;34m)\u001b[0m\u001b[0;34m\u001b[0m\u001b[0;34m\u001b[0m\u001b[0m\n\u001b[1;32m   2005\u001b[0m         pos_indexers, new_indexes = remap_label_indexers(\n\u001b[0;32m-> 2006\u001b[0;31m             \u001b[0mself\u001b[0m\u001b[0;34m,\u001b[0m \u001b[0mindexers\u001b[0m\u001b[0;34m=\u001b[0m\u001b[0mindexers\u001b[0m\u001b[0;34m,\u001b[0m \u001b[0mmethod\u001b[0m\u001b[0;34m=\u001b[0m\u001b[0mmethod\u001b[0m\u001b[0;34m,\u001b[0m \u001b[0mtolerance\u001b[0m\u001b[0;34m=\u001b[0m\u001b[0mtolerance\u001b[0m\u001b[0;34m\u001b[0m\u001b[0;34m\u001b[0m\u001b[0m\n\u001b[0m\u001b[1;32m   2007\u001b[0m         )\n\u001b[1;32m   2008\u001b[0m         \u001b[0mresult\u001b[0m \u001b[0;34m=\u001b[0m \u001b[0mself\u001b[0m\u001b[0;34m.\u001b[0m\u001b[0misel\u001b[0m\u001b[0;34m(\u001b[0m\u001b[0mindexers\u001b[0m\u001b[0;34m=\u001b[0m\u001b[0mpos_indexers\u001b[0m\u001b[0;34m,\u001b[0m \u001b[0mdrop\u001b[0m\u001b[0;34m=\u001b[0m\u001b[0mdrop\u001b[0m\u001b[0;34m)\u001b[0m\u001b[0;34m\u001b[0m\u001b[0;34m\u001b[0m\u001b[0m\n",
      "\u001b[0;32m~/anaconda3/envs/analysis_python3/lib/python3.7/site-packages/xarray/core/coordinates.py\u001b[0m in \u001b[0;36mremap_label_indexers\u001b[0;34m(obj, indexers, method, tolerance, **indexers_kwargs)\u001b[0m\n\u001b[1;32m    378\u001b[0m \u001b[0;34m\u001b[0m\u001b[0m\n\u001b[1;32m    379\u001b[0m     pos_indexers, new_indexes = indexing.remap_label_indexers(\n\u001b[0;32m--> 380\u001b[0;31m         \u001b[0mobj\u001b[0m\u001b[0;34m,\u001b[0m \u001b[0mv_indexers\u001b[0m\u001b[0;34m,\u001b[0m \u001b[0mmethod\u001b[0m\u001b[0;34m=\u001b[0m\u001b[0mmethod\u001b[0m\u001b[0;34m,\u001b[0m \u001b[0mtolerance\u001b[0m\u001b[0;34m=\u001b[0m\u001b[0mtolerance\u001b[0m\u001b[0;34m\u001b[0m\u001b[0;34m\u001b[0m\u001b[0m\n\u001b[0m\u001b[1;32m    381\u001b[0m     )\n\u001b[1;32m    382\u001b[0m     \u001b[0;31m# attach indexer's coordinate to pos_indexers\u001b[0m\u001b[0;34m\u001b[0m\u001b[0;34m\u001b[0m\u001b[0;34m\u001b[0m\u001b[0m\n",
      "\u001b[0;32m~/anaconda3/envs/analysis_python3/lib/python3.7/site-packages/xarray/core/indexing.py\u001b[0m in \u001b[0;36mremap_label_indexers\u001b[0;34m(data_obj, indexers, method, tolerance)\u001b[0m\n\u001b[1;32m    257\u001b[0m     \u001b[0mnew_indexes\u001b[0m \u001b[0;34m=\u001b[0m \u001b[0;34m{\u001b[0m\u001b[0;34m}\u001b[0m\u001b[0;34m\u001b[0m\u001b[0;34m\u001b[0m\u001b[0m\n\u001b[1;32m    258\u001b[0m \u001b[0;34m\u001b[0m\u001b[0m\n\u001b[0;32m--> 259\u001b[0;31m     \u001b[0mdim_indexers\u001b[0m \u001b[0;34m=\u001b[0m \u001b[0mget_dim_indexers\u001b[0m\u001b[0;34m(\u001b[0m\u001b[0mdata_obj\u001b[0m\u001b[0;34m,\u001b[0m \u001b[0mindexers\u001b[0m\u001b[0;34m)\u001b[0m\u001b[0;34m\u001b[0m\u001b[0;34m\u001b[0m\u001b[0m\n\u001b[0m\u001b[1;32m    260\u001b[0m     \u001b[0;32mfor\u001b[0m \u001b[0mdim\u001b[0m\u001b[0;34m,\u001b[0m \u001b[0mlabel\u001b[0m \u001b[0;32min\u001b[0m \u001b[0mdim_indexers\u001b[0m\u001b[0;34m.\u001b[0m\u001b[0mitems\u001b[0m\u001b[0;34m(\u001b[0m\u001b[0;34m)\u001b[0m\u001b[0;34m:\u001b[0m\u001b[0;34m\u001b[0m\u001b[0;34m\u001b[0m\u001b[0m\n\u001b[1;32m    261\u001b[0m         \u001b[0;32mtry\u001b[0m\u001b[0;34m:\u001b[0m\u001b[0;34m\u001b[0m\u001b[0;34m\u001b[0m\u001b[0m\n",
      "\u001b[0;32m~/anaconda3/envs/analysis_python3/lib/python3.7/site-packages/xarray/core/indexing.py\u001b[0m in \u001b[0;36mget_dim_indexers\u001b[0;34m(data_obj, indexers)\u001b[0m\n\u001b[1;32m    223\u001b[0m     ]\n\u001b[1;32m    224\u001b[0m     \u001b[0;32mif\u001b[0m \u001b[0minvalid\u001b[0m\u001b[0;34m:\u001b[0m\u001b[0;34m\u001b[0m\u001b[0;34m\u001b[0m\u001b[0m\n\u001b[0;32m--> 225\u001b[0;31m         \u001b[0;32mraise\u001b[0m \u001b[0mValueError\u001b[0m\u001b[0;34m(\u001b[0m\u001b[0;34m\"dimensions or multi-index levels %r do not exist\"\u001b[0m \u001b[0;34m%\u001b[0m \u001b[0minvalid\u001b[0m\u001b[0;34m)\u001b[0m\u001b[0;34m\u001b[0m\u001b[0;34m\u001b[0m\u001b[0m\n\u001b[0m\u001b[1;32m    226\u001b[0m \u001b[0;34m\u001b[0m\u001b[0m\n\u001b[1;32m    227\u001b[0m     \u001b[0mlevel_indexers\u001b[0m \u001b[0;34m=\u001b[0m \u001b[0mdefaultdict\u001b[0m\u001b[0;34m(\u001b[0m\u001b[0mdict\u001b[0m\u001b[0;34m)\u001b[0m\u001b[0;34m\u001b[0m\u001b[0;34m\u001b[0m\u001b[0m\n",
      "\u001b[0;31mValueError\u001b[0m: dimensions or multi-index levels ['YC', 'YG'] do not exist"
     ]
    }
   ],
   "source": [
    "# Select data for a small region\n",
    "lat1, lat2 = (29., 41.); # 10x10 deg box near gulf stream\n",
    "lon1, lon2 = (-121., -109.); # 1 deg should be avoided on each side for the final data\n",
    "\n",
    "#ds1 = ds.where((ds.YC > lat1) & (ds.YC <lat2) & (ds.YG > lat1) & (ds.YG < lat2), drop=True)\n",
    "#& (ds.XC > lon1) & (ds.XC <lon2) & (ds.XG > lon1) & (ds.XG < lon2)\n",
    "\n",
    "ds1 = ds.sel({'YC': slice(lat1,lat2), 'YG' : slice(lat1,lat2)})"
   ]
  },
  {
   "cell_type": "code",
   "execution_count": null,
   "metadata": {},
   "outputs": [],
   "source": []
  },
  {
   "cell_type": "code",
   "execution_count": 5,
   "metadata": {},
   "outputs": [],
   "source": [
    "lat = ds.YC.load()\n",
    "lon = ds.XC.load()"
   ]
  },
  {
   "cell_type": "code",
   "execution_count": 46,
   "metadata": {},
   "outputs": [
    {
     "data": {
      "text/plain": [
       "<xarray.Dataset>\n",
       "Dimensions:  (face: 13, i: 17280, i_g: 17280, j: 12960, j_g: 12960, k: 5, k_l: 5, k_p1: 6, k_u: 5, time: 9030)\n",
       "Coordinates:\n",
       "  * k_p1     (k_p1) int64 0 1 3 5 10 30\n",
       "  * face     (face) int64 0 1 2 3 4 5 6 7 8 9 10 11 12\n",
       "  * j_g      (j_g) int64 0 1 2 3 4 5 6 ... 12954 12955 12956 12957 12958 12959\n",
       "  * i        (i) int64 0 1 2 3 4 5 6 ... 17274 17275 17276 17277 17278 17279\n",
       "  * k_l      (k_l) int64 1 3 5 10 30\n",
       "  * i_g      (i_g) int64 0 1 2 3 4 5 6 ... 17274 17275 17276 17277 17278 17279\n",
       "  * k_u      (k_u) int64 1 3 5 10 30\n",
       "  * k        (k) int64 1 3 5 10 30\n",
       "  * time     (time) datetime64[ns] 2011-09-13 ... 2012-09-23T05:00:00\n",
       "  * j        (j) int64 0 1 2 3 4 5 6 ... 12954 12955 12956 12957 12958 12959\n",
       "    CS       (j, i) float32 0.0 0.0 0.0 0.0 0.0 0.0 ... 0.0 0.0 0.0 0.0 0.0 0.0\n",
       "    Depth    (j, i) float32 0.0 0.0 0.0 0.0 0.0 0.0 ... 0.0 0.0 0.0 0.0 0.0 0.0\n",
       "    PHrefC   float32 15.4017\n",
       "    PHrefF   (k_p1) float32 dask.array<chunksize=(6,), meta=np.ndarray>\n",
       "    SN       (j, i) float32 0.0 0.0 0.0 0.0 0.0 0.0 ... 0.0 0.0 0.0 0.0 0.0 0.0\n",
       "    XC       (j, i) float32 -114.93228 -114.93217 ... -38.003056 -38.00089\n",
       "    XG       (j_g, i_g) float32 dask.array<chunksize=(4320, 4320), meta=np.ndarray>\n",
       "    YC       (j, i) float32 -88.17715 -88.18007 -88.18299 ... 67.50019 67.49985\n",
       "    YG       (j_g, i_g) float32 dask.array<chunksize=(4320, 4320), meta=np.ndarray>\n",
       "    Z        float32 -1.57\n",
       "    Zl       float32 -1.0\n",
       "    Zp1      (k_p1) float32 dask.array<chunksize=(6,), meta=np.ndarray>\n",
       "    Zu       float32 -2.14\n",
       "    drC      (k_p1) float32 dask.array<chunksize=(6,), meta=np.ndarray>\n",
       "    drF      float32 1.14\n",
       "    hFacC    (j, i) float32 0.0 0.0 0.0 0.0 0.0 0.0 ... 0.0 0.0 0.0 0.0 0.0 0.0\n",
       "    hFacS    (j_g, i) float32 dask.array<chunksize=(4320, 4320), meta=np.ndarray>\n",
       "    hFacW    (j, i_g) float32 dask.array<chunksize=(4320, 4320), meta=np.ndarray>\n",
       "    iter     (time) int64 dask.array<chunksize=(9030,), meta=np.ndarray>\n",
       "    rA       (j, i) float32 155492.97 155503.03 155513.17 ... 11188.3 6302.7188\n",
       "    rAs      (j_g, i) float32 dask.array<chunksize=(4320, 4320), meta=np.ndarray>\n",
       "    rAw      (j, i_g) float32 dask.array<chunksize=(4320, 4320), meta=np.ndarray>\n",
       "    rAz      (j_g, i_g) float32 dask.array<chunksize=(4320, 4320), meta=np.ndarray>\n",
       "    dxC      (j, i_g) float32 dask.array<chunksize=(4320, 4320), meta=np.ndarray>\n",
       "    dyC      (j_g, i) float32 dask.array<chunksize=(1, 4320), meta=np.ndarray>\n",
       "    dyG      (j, i_g) float32 dask.array<chunksize=(4320, 4320), meta=np.ndarray>\n",
       "    dxG      (j_g, i) float32 dask.array<chunksize=(1, 4320), meta=np.ndarray>\n",
       "Data variables:\n",
       "    Eta      (time, j, i) float32 dask.array<chunksize=(1, 12960, 4320), meta=np.ndarray>\n",
       "    U        (time, k, j, i_g) float32 dask.array<chunksize=(1, 1, 12960, 4320), meta=np.ndarray>\n",
       "    V        (time, k, j_g, i) float32 dask.array<chunksize=(1, 1, 1, 4320), meta=np.ndarray>\n",
       "    W        (time, k_l, j, i) float32 dask.array<chunksize=(1, 1, 12960, 4320), meta=np.ndarray>"
      ]
     },
     "execution_count": 46,
     "metadata": {},
     "output_type": "execute_result"
    }
   ],
   "source": [
    "ds"
   ]
  },
  {
   "cell_type": "code",
   "execution_count": 8,
   "metadata": {},
   "outputs": [
    {
     "data": {
      "text/plain": [
       "[<matplotlib.lines.Line2D at 0x2b4c12e3e990>]"
      ]
     },
     "execution_count": 8,
     "metadata": {},
     "output_type": "execute_result"
    },
    {
     "data": {
      "image/png": "[encoded data removed]",
      "text/plain": [
       "<Figure size 432x288 with 1 Axes>"
      ]
     },
     "metadata": {
      "needs_background": "light"
     },
     "output_type": "display_data"
    }
   ],
   "source": [
    "plt.plot(lat[:,0])"
   ]
  },
  {
   "cell_type": "code",
   "execution_count": 17,
   "metadata": {},
   "outputs": [
    {
     "data": {
      "text/plain": [
       "[<matplotlib.lines.Line2D at 0x2b4bf6411350>]"
      ]
     },
     "execution_count": 17,
     "metadata": {},
     "output_type": "execute_result"
    },
    {
     "data": {
      "image/png": "[encoded data removed]",
      "text/plain": [
       "<Figure size 432x288 with 1 Axes>"
      ]
     },
     "metadata": {
      "needs_background": "light"
     },
     "output_type": "display_data"
    }
   ],
   "source": [
    "plt.plot(lon[10000,:])"
   ]
  },
  {
   "cell_type": "code",
   "execution_count": 20,
   "metadata": {},
   "outputs": [
    {
     "ename": "AttributeError",
     "evalue": "module 'numpy' has no attribute 'find_nearest'",
     "output_type": "error",
     "traceback": [
      "\u001b[0;31m---------------------------------------------------------------------------\u001b[0m",
      "\u001b[0;31mAttributeError\u001b[0m                            Traceback (most recent call last)",
      "\u001b[0;32m<ipython-input-20-df0468cf9e6b>\u001b[0m in \u001b[0;36m<module>\u001b[0;34m\u001b[0m\n\u001b[0;32m----> 1\u001b[0;31m \u001b[0ma\u001b[0m \u001b[0;34m=\u001b[0m \u001b[0mnp\u001b[0m\u001b[0;34m.\u001b[0m\u001b[0mwhere\u001b[0m\u001b[0;34m(\u001b[0m\u001b[0mlat\u001b[0m\u001b[0;34m[\u001b[0m\u001b[0;34m:\u001b[0m\u001b[0;34m,\u001b[0m\u001b[0;36m0\u001b[0m\u001b[0;34m]\u001b[0m \u001b[0;34m==\u001b[0m \u001b[0mnp\u001b[0m\u001b[0;34m.\u001b[0m\u001b[0mfind_nearest\u001b[0m\u001b[0;34m(\u001b[0m\u001b[0mlat\u001b[0m\u001b[0;34m[\u001b[0m\u001b[0;34m:\u001b[0m\u001b[0;34m,\u001b[0m\u001b[0;36m0\u001b[0m\u001b[0;34m]\u001b[0m \u001b[0;34m==\u001b[0m \u001b[0;36m30.\u001b[0m\u001b[0;34m)\u001b[0m\u001b[0;34m)\u001b[0m\u001b[0;34m\u001b[0m\u001b[0;34m\u001b[0m\u001b[0m\n\u001b[0m",
      "\u001b[0;31mAttributeError\u001b[0m: module 'numpy' has no attribute 'find_nearest'"
     ]
    }
   ],
   "source": [
    "a = np.where(lat[:,0] == np.find_nearest(lat[:,0] == 30.))"
   ]
  },
  {
   "cell_type": "code",
   "execution_count": 33,
   "metadata": {},
   "outputs": [
    {
     "name": "stdout",
     "output_type": "stream",
     "text": [
      "10195\n"
     ]
    }
   ],
   "source": [
    "dx = (np.abs(lat[:,1000].values - 40.)).argmin()\n",
    "print(dx)"
   ]
  },
  {
   "cell_type": "code",
   "execution_count": 26,
   "metadata": {},
   "outputs": [
    {
     "data": {
      "text/plain": [
       "<xarray.DataArray 'YC' ()>\n",
       "array(29.997131, dtype=float32)\n",
       "Coordinates:\n",
       "    i        int64 0\n",
       "    j        int64 9558\n",
       "    CS       float32 1.0\n",
       "    Depth    float32 3379.1543\n",
       "    PHrefC   float32 15.4017\n",
       "    SN       float32 1.9692216e-13\n",
       "    XC       float32 -37.989582\n",
       "    YC       float32 29.997131\n",
       "    Z        float32 -1.57\n",
       "    Zl       float32 -1.0\n",
       "    Zu       float32 -2.14\n",
       "    drF      float32 1.14\n",
       "    hFacC    float32 1.0\n",
       "    rA       float32 3702066.2\n",
       "Attributes:\n",
       "    coordinate:     YC XC\n",
       "    long_name:      latitude\n",
       "    standard_name:  latitude\n",
       "    units:          degrees_north"
      ]
     },
     "execution_count": 26,
     "metadata": {},
     "output_type": "execute_result"
    }
   ],
   "source": [
    "lat[9558,0]"
   ]
  },
  {
   "cell_type": "code",
   "execution_count": null,
   "metadata": {},
   "outputs": [],
   "source": [
    "ds1 = ds.sel({'': slice(3,4)})"
   ]
  },
  {
   "cell_type": "code",
   "execution_count": 48,
   "metadata": {},
   "outputs": [],
   "source": [
    "a = ds.where((ds.YC > 30.) & (ds.YC <40.), drop=True)"
   ]
  },
  {
   "cell_type": "code",
   "execution_count": 43,
   "metadata": {},
   "outputs": [
    {
     "data": {
      "text/plain": [
       "<xarray.Dataset>\n",
       "Dimensions:  (face: 13, i: 17280, i_g: 17280, j: 636, j_g: 12960, k: 5, k_l: 5, k_p1: 6, k_u: 5, time: 9030)\n",
       "Coordinates:\n",
       "  * k_p1     (k_p1) int64 0 1 3 5 10 30\n",
       "  * face     (face) int64 0 1 2 3 4 5 6 7 8 9 10 11 12\n",
       "  * j_g      (j_g) int64 0 1 2 3 4 5 6 ... 12954 12955 12956 12957 12958 12959\n",
       "  * i        (i) int64 0 1 2 3 4 5 6 ... 17274 17275 17276 17277 17278 17279\n",
       "  * k_l      (k_l) int64 1 3 5 10 30\n",
       "  * i_g      (i_g) int64 0 1 2 3 4 5 6 ... 17274 17275 17276 17277 17278 17279\n",
       "  * k_u      (k_u) int64 1 3 5 10 30\n",
       "  * k        (k) int64 1 3 5 10 30\n",
       "  * time     (time) datetime64[ns] 2011-09-13 ... 2012-09-23T05:00:00\n",
       "  * j        (j) int64 9559 9560 9561 9562 9563 ... 10191 10192 10193 10194\n",
       "    CS       (j, i) float32 1.0 1.0 1.0 1.0 ... -0.0 4.450871e-13 2.2259172e-13\n",
       "    Depth    (j, i) float32 3377.536 3299.69 3285.0981 ... 4478.53 4478.53\n",
       "    PHrefC   float32 15.4017\n",
       "    PHrefF   (k_p1) float32 dask.array<chunksize=(6,), meta=np.ndarray>\n",
       "    SN       (j, i) float32 1.9692216e-13 -0.0 -0.0 -0.0 ... -1.0 -1.0 -1.0 -1.0\n",
       "    XC       (j, i) float32 -37.989582 -37.96875 ... -38.03125 -38.010418\n",
       "    XG       (j_g, i_g) float32 dask.array<chunksize=(4320, 4320), meta=np.ndarray>\n",
       "    YC       (j, i) float32 30.01373 30.01373 30.01373 ... 39.986557 39.986557\n",
       "    YG       (j_g, i_g) float32 dask.array<chunksize=(4320, 4320), meta=np.ndarray>\n",
       "    Z        float32 -1.57\n",
       "    Zl       float32 -1.0\n",
       "    Zp1      (k_p1) float32 dask.array<chunksize=(6,), meta=np.ndarray>\n",
       "    Zu       float32 -2.14\n",
       "    drC      (k_p1) float32 dask.array<chunksize=(6,), meta=np.ndarray>\n",
       "    drF      float32 1.14\n",
       "    hFacC    (j, i) float32 1.0 1.0 1.0 1.0 1.0 1.0 ... 1.0 1.0 1.0 1.0 1.0 1.0\n",
       "    hFacS    (j_g, i) float32 dask.array<chunksize=(4320, 4320), meta=np.ndarray>\n",
       "    hFacW    (j, i_g) float32 dask.array<chunksize=(636, 4320), meta=np.ndarray>\n",
       "    iter     (time) int64 dask.array<chunksize=(9030,), meta=np.ndarray>\n",
       "    rA       (j, i) float32 3700847.2 3700847.5 ... 2917018.5 2917018.5\n",
       "    rAs      (j_g, i) float32 dask.array<chunksize=(4320, 4320), meta=np.ndarray>\n",
       "    rAw      (j, i_g) float32 dask.array<chunksize=(636, 4320), meta=np.ndarray>\n",
       "    rAz      (j_g, i_g) float32 dask.array<chunksize=(4320, 4320), meta=np.ndarray>\n",
       "    dxC      (j, i_g) float32 dask.array<chunksize=(636, 4320), meta=np.ndarray>\n",
       "    dyC      (j_g, i) float32 dask.array<chunksize=(1, 4320), meta=np.ndarray>\n",
       "    dyG      (j, i_g) float32 dask.array<chunksize=(636, 4320), meta=np.ndarray>\n",
       "    dxG      (j_g, i) float32 dask.array<chunksize=(1, 4320), meta=np.ndarray>\n",
       "Data variables:\n",
       "    Eta      (time, j, i) float32 dask.array<chunksize=(1, 636, 4320), meta=np.ndarray>\n",
       "    U        (time, k, j, i_g, i) float32 dask.array<chunksize=(1, 1, 636, 4320, 17280), meta=np.ndarray>\n",
       "    V        (time, k, j_g, i, j) float32 dask.array<chunksize=(1, 1, 1, 4320, 636), meta=np.ndarray>\n",
       "    W        (time, k_l, j, i) float32 dask.array<chunksize=(1, 1, 636, 4320), meta=np.ndarray>"
      ]
     },
     "execution_count": 43,
     "metadata": {},
     "output_type": "execute_result"
    }
   ],
   "source": [
    "a"
   ]
  },
  {
   "cell_type": "code",
   "execution_count": null,
   "metadata": {},
   "outputs": [],
   "source": []
  }
 ],
 "metadata": {
  "kernelspec": {
   "display_name": "Python 3",
   "language": "python",
   "name": "python3"
  },
  "language_info": {
   "codemirror_mode": {
    "name": "ipython",
    "version": 3
   },
   "file_extension": ".py",
   "mimetype": "text/x-python",
   "name": "python",
   "nbconvert_exporter": "python",
   "pygments_lexer": "ipython3",
   "version": "3.7.4"
  }
 },
 "nbformat": 4,
 "nbformat_minor": 2
}
