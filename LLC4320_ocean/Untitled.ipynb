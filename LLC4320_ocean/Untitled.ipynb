{
 "cells": [
  {
   "cell_type": "markdown",
   "metadata": {},
   "source": [
    "# Check Spectra Code"
   ]
  },
  {
   "cell_type": "code",
   "execution_count": 1,
   "metadata": {},
   "outputs": [],
   "source": [
    "import numpy as np\n",
    "from netCDF4 import Dataset\n",
    "import matplotlib.pyplot as plt\n",
    "import matplotlib.cm as cm\n",
    "import compute_spectra as sp\n",
    "%matplotlib inline"
   ]
  },
  {
   "cell_type": "code",
   "execution_count": 2,
   "metadata": {},
   "outputs": [
    {
     "data": {
      "text/plain": [
       "<class 'netCDF4._netCDF4.Dataset'>\n",
       "root group (NETCDF4 data model, file format HDF5):\n",
       "    dimensions(sizes): time(31), nlat(171), nlon(154)\n",
       "    variables(dimensions): float64 \u001b[4mtime\u001b[0m(time), float64 \u001b[4mULONG\u001b[0m(nlat,nlon), float64 \u001b[4mULAT\u001b[0m(nlat,nlon), float64 \u001b[4mTLONG\u001b[0m(nlat,nlon), float64 \u001b[4mTLAT\u001b[0m(nlat,nlon), float64 \u001b[4mUg_detrended\u001b[0m(time,nlat,nlon), float64 \u001b[4mUa_detrended\u001b[0m(time,nlat,nlon), float64 \u001b[4mVg_detrended\u001b[0m(time,nlat,nlon), float64 \u001b[4mVa_detrended\u001b[0m(time,nlat,nlon), float64 \u001b[4mzetag_detrended\u001b[0m(time,nlat,nlon), float64 \u001b[4mzetaa_detrended\u001b[0m(time,nlat,nlon), float64 \u001b[4mrho_detrended\u001b[0m(time,nlat,nlon), float64 \u001b[4mrho_surf\u001b[0m(time,nlat,nlon), float64 \u001b[4mDXU\u001b[0m(nlat,nlon), float64 \u001b[4mDYU\u001b[0m(nlat,nlon), float64 \u001b[4mDXT\u001b[0m(nlat,nlon), float64 \u001b[4mDYT\u001b[0m(nlat,nlon), float64 \u001b[4mTAREA\u001b[0m(nlat,nlon), float64 \u001b[4mUAREA\u001b[0m(nlat,nlon)\n",
       "    groups: "
      ]
     },
     "execution_count": 2,
     "metadata": {},
     "output_type": "execute_result"
    }
   ],
   "source": [
    "file = 'H1_detrended.0050-01.nc'\n",
    "ds = Dataset(file,'r')\n",
    "ds"
   ]
  },
  {
   "cell_type": "code",
   "execution_count": 3,
   "metadata": {},
   "outputs": [],
   "source": [
    "u = ds.variables['Ug_detrended']\n",
    "zeta = ds.variables['zetag_detrended']"
   ]
  },
  {
   "cell_type": "code",
   "execution_count": 11,
   "metadata": {},
   "outputs": [],
   "source": [
    "dx = 1000.\n",
    "u1 = u[0,0:170,:]\n",
    "#u1 = np.swapaxes(u1,0,2)\n",
    "\n",
    "zeta1 = zeta[0,0:170,:]\n",
    "#zeta1 = np.swapaxes(zeta1,0,2)"
   ]
  },
  {
   "cell_type": "code",
   "execution_count": 12,
   "metadata": {},
   "outputs": [
    {
     "name": "stdout",
     "output_type": "stream",
     "text": [
      "(170, 154) (170, 154)\n"
     ]
    }
   ],
   "source": [
    "print(u1.shape, zeta1.shape)"
   ]
  },
  {
   "cell_type": "code",
   "execution_count": 13,
   "metadata": {},
   "outputs": [
    {
     "name": "stdout",
     "output_type": "stream",
     "text": [
      "Spatial mean 460.76708827279236\n",
      "Spectral mean 0.1244232462573752\n",
      "Iso spectral mean 450.22336552209555\n"
     ]
    }
   ],
   "source": [
    "spec_u = sp.TWODimensional_spec(u1, dx, dx, detrend=False,han_win=False)\n",
    "ki = spec_u['ki']\n",
    "print('Spatial mean', np.mean(0.5*u1*u1))\n",
    "print('Spectral mean', np.sum(spec_u['spec']/(1.e8*u1.shape[0]*u1.shape[1])))\n",
    "print('Iso spectral mean', np.sum(spec_u['ispec'])*(ki[1]-ki[0]))"
   ]
  },
  {
   "cell_type": "code",
   "execution_count": 14,
   "metadata": {},
   "outputs": [
    {
     "data": {
      "text/plain": [
       "[<matplotlib.lines.Line2D at 0x10fa39fd0>]"
      ]
     },
     "execution_count": 14,
     "metadata": {},
     "output_type": "execute_result"
    },
    {
     "data": {
      "image/png": "[encoded data removed]",
      "text/plain": [
       "<Figure size 432x288 with 1 Axes>"
      ]
     },
     "metadata": {
      "needs_background": "light"
     },
     "output_type": "display_data"
    }
   ],
   "source": [
    "plt.loglog(ki,spec_u['ispec'])"
   ]
  },
  {
   "cell_type": "code",
   "execution_count": 15,
   "metadata": {},
   "outputs": [],
   "source": [
    "spec_zeta = sp.TWODimensional_helmholtz(zeta1, zeta1, dx, dx, detrend=False,han_win=False)"
   ]
  },
  {
   "cell_type": "code",
   "execution_count": 16,
   "metadata": {},
   "outputs": [
    {
     "data": {
      "text/plain": [
       "[<matplotlib.lines.Line2D at 0x1c2310c510>]"
      ]
     },
     "execution_count": 16,
     "metadata": {},
     "output_type": "execute_result"
    },
    {
     "data": {
      "image/png": "[encoded data removed]",
      "text/plain": [
       "<Figure size 432x288 with 1 Axes>"
      ]
     },
     "metadata": {
      "needs_background": "light"
     },
     "output_type": "display_data"
    }
   ],
   "source": [
    "plt.loglog(ki,spec_zeta['ispec_psi'])\n",
    "plt.loglog(ki,spec_u['ispec'])"
   ]
  },
  {
   "cell_type": "code",
   "execution_count": 20,
   "metadata": {},
   "outputs": [
    {
     "ename": "AttributeError",
     "evalue": "module 'numpy' has no attribute 'find_nearest'",
     "output_type": "error",
     "traceback": [
      "\u001b[0;31m---------------------------------------------------------------------------\u001b[0m",
      "\u001b[0;31mAttributeError\u001b[0m                            Traceback (most recent call last)",
      "\u001b[0;32m<ipython-input-20-df0468cf9e6b>\u001b[0m in \u001b[0;36m<module>\u001b[0;34m\u001b[0m\n\u001b[0;32m----> 1\u001b[0;31m \u001b[0ma\u001b[0m \u001b[0;34m=\u001b[0m \u001b[0mnp\u001b[0m\u001b[0;34m.\u001b[0m\u001b[0mwhere\u001b[0m\u001b[0;34m(\u001b[0m\u001b[0mlat\u001b[0m\u001b[0;34m[\u001b[0m\u001b[0;34m:\u001b[0m\u001b[0;34m,\u001b[0m\u001b[0;36m0\u001b[0m\u001b[0;34m]\u001b[0m \u001b[0;34m==\u001b[0m \u001b[0mnp\u001b[0m\u001b[0;34m.\u001b[0m\u001b[0mfind_nearest\u001b[0m\u001b[0;34m(\u001b[0m\u001b[0mlat\u001b[0m\u001b[0;34m[\u001b[0m\u001b[0;34m:\u001b[0m\u001b[0;34m,\u001b[0m\u001b[0;36m0\u001b[0m\u001b[0;34m]\u001b[0m \u001b[0;34m==\u001b[0m \u001b[0;36m30.\u001b[0m\u001b[0;34m)\u001b[0m\u001b[0;34m)\u001b[0m\u001b[0;34m\u001b[0m\u001b[0;34m\u001b[0m\u001b[0m\n\u001b[0m",
      "\u001b[0;31mAttributeError\u001b[0m: module 'numpy' has no attribute 'find_nearest'"
     ]
    }
   ],
   "source": [
    "a = np.where(lat[:,0] == np.find_nearest(lat[:,0] == 30.))"
   ]
  },
  {
   "cell_type": "code",
   "execution_count": 33,
   "metadata": {},
   "outputs": [],
   "source": [
    "kappa2 = spec_zeta['kk1']**2 + spec_zeta['kk2']**2"
   ]
  },
  {
   "cell_type": "code",
   "execution_count": 35,
   "metadata": {},
   "outputs": [
    {
     "data": {
      "text/plain": [
       "array([[0.00000000e+00, 4.21656266e-13, 1.68662506e-12, 3.79490639e-12,\n",
       "        6.74650025e-12],\n",
       "       [3.46020761e-13, 7.67677027e-13, 2.03264582e-12, 4.14092715e-12,\n",
       "        7.09252101e-12],\n",
       "       [1.38408304e-12, 1.80573931e-12, 3.07070811e-12, 5.17898944e-12,\n",
       "        8.13058330e-12],\n",
       "       [3.11418685e-12, 3.53584312e-12, 4.80081191e-12, 6.90909324e-12,\n",
       "        9.86068710e-12],\n",
       "       [5.53633218e-12, 5.95798845e-12, 7.22295724e-12, 9.33123857e-12,\n",
       "        1.22828324e-11]])"
      ]
     },
     "execution_count": 35,
     "metadata": {},
     "output_type": "execute_result"
    }
   ],
   "source": [
    "kappa2[0:5,0:5]"
   ]
  },
  {
   "cell_type": "code",
   "execution_count": null,
   "metadata": {},
   "outputs": [],
   "source": []
  }
 ],
 "metadata": {
  "kernelspec": {
   "display_name": "Python 3",
   "language": "python",
   "name": "python3"
  },
  "language_info": {
   "codemirror_mode": {
    "name": "ipython",
    "version": 3
   },
   "file_extension": ".py",
   "mimetype": "text/x-python",
   "name": "python",
   "nbconvert_exporter": "python",
   "pygments_lexer": "ipython3",
   "version": "3.7.4"
  }
 },
 "nbformat": 4,
 "nbformat_minor": 2
}
