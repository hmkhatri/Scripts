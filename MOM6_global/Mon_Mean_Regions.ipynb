{
 "cells": [
  {
   "cell_type": "code",
   "execution_count": 1,
   "metadata": {},
   "outputs": [],
   "source": [
    "import numpy as np\n",
    "import scipy as sc\n",
    "import matplotlib.pyplot as plt\n",
    "import matplotlib.cm as cm\n",
    "import cartopy.crs as ccrs\n",
    "import cartopy.feature as cfeature\n",
    "from cartopy.feature import NaturalEarthFeature\n",
    "import pandas as pd\n",
    "import xarray as xr\n",
    "import metpy.calc as mpcalc\n",
    "from metpy.units import units\n",
    "import glob\n",
    "%matplotlib qt"
   ]
  },
  {
   "cell_type": "code",
   "execution_count": 2,
   "metadata": {},
   "outputs": [
    {
     "name": "stdout",
     "output_type": "stream",
     "text": [
      "/archive/Raphael.Dussin/xanadu_esm4_20190304_mom6_2019.08.08/OM4p125_JRA55do1.4_cycle1/gfdl.ncrc4-intel16-prod/pp/ocean_monthly_z_d2/av/monthly_1yr/ocean_monthly_z_d2.2018.01.nc\n"
     ]
    }
   ],
   "source": [
    "file_path = '/archive/Raphael.Dussin/xanadu_esm4_20190304_mom6_2019.08.08/OM4p125_JRA55do1.4_cycle1/gfdl.ncrc4-intel16-prod/pp/ocean_monthly_z_d2/';\n",
    "file_name = glob.glob(file_path+'av/monthly_1yr/*.nc')\n",
    "topo_file = 'ocean_monthly_z_d2.static.nc';\n",
    "print(file_name[0])"
   ]
  },
  {
   "cell_type": "code",
   "execution_count": 3,
   "metadata": {},
   "outputs": [
    {
     "name": "stderr",
     "output_type": "stream",
     "text": [
      "Found lat/lon values, assuming latitude_longitude for projection grid_mapping variable\n",
      "Found lat/lon values, assuming latitude_longitude for projection grid_mapping variable\n",
      "Found lat/lon values, assuming latitude_longitude for projection grid_mapping variable\n",
      "Found lat/lon values, assuming latitude_longitude for projection grid_mapping variable\n",
      "Found lat/lon values, assuming latitude_longitude for projection grid_mapping variable\n",
      "Found lat/lon values, assuming latitude_longitude for projection grid_mapping variable\n",
      "Found lat/lon values, assuming latitude_longitude for projection grid_mapping variable\n",
      "Found lat/lon values, assuming latitude_longitude for projection grid_mapping variable\n",
      "Found lat/lon values, assuming latitude_longitude for projection grid_mapping variable\n",
      "Found lat/lon values, assuming latitude_longitude for projection grid_mapping variable\n",
      "Found lat/lon values, assuming latitude_longitude for projection grid_mapping variable\n",
      "Found lat/lon values, assuming latitude_longitude for projection grid_mapping variable\n",
      "Found lat/lon values, assuming latitude_longitude for projection grid_mapping variable\n",
      "Found lat/lon values, assuming latitude_longitude for projection grid_mapping variable\n",
      "Found lat/lon values, assuming latitude_longitude for projection grid_mapping variable\n",
      "Found lat/lon values, assuming latitude_longitude for projection grid_mapping variable\n",
      "Found lat/lon values, assuming latitude_longitude for projection grid_mapping variable\n",
      "Found lat/lon values, assuming latitude_longitude for projection grid_mapping variable\n",
      "Found lat/lon values, assuming latitude_longitude for projection grid_mapping variable\n",
      "Found lat/lon values, assuming latitude_longitude for projection grid_mapping variable\n",
      "Found lat/lon values, assuming latitude_longitude for projection grid_mapping variable\n",
      "Found lat/lon values, assuming latitude_longitude for projection grid_mapping variable\n",
      "Found lat/lon values, assuming latitude_longitude for projection grid_mapping variable\n",
      "Found lat/lon values, assuming latitude_longitude for projection grid_mapping variable\n",
      "Found lat/lon values, assuming latitude_longitude for projection grid_mapping variable\n",
      "Found lat/lon values, assuming latitude_longitude for projection grid_mapping variable\n",
      "Found lat/lon values, assuming latitude_longitude for projection grid_mapping variable\n"
     ]
    }
   ],
   "source": [
    "fil = xr.open_dataset(file_name[6])\n",
    "data =  fil.metpy.parse_cf()\n",
    "\n",
    "fil1 = xr.open_dataset(file_path+topo_file)\n",
    "data1 =  fil1.metpy.parse_cf()"
   ]
  },
  {
   "cell_type": "code",
   "execution_count": 4,
   "metadata": {},
   "outputs": [
    {
     "name": "stdout",
     "output_type": "stream",
     "text": [
      "<xarray.Dataset>\n",
      "Dimensions:     (nv: 2, time: 1, xh: 1440, xq: 1440, yh: 1120, yq: 1120, z_i: 36, z_l: 35)\n",
      "Coordinates:\n",
      "  * xh          (xh) float64 -298.6 -298.4 -298.1 -297.9 ... 60.7 60.93 61.16\n",
      "  * yh          (yh) float64 -83.62 -83.54 -83.46 -83.39 ... 89.7 89.81 89.92\n",
      "  * z_l         (z_l) float64 2.5 10.0 20.0 32.5 ... 5e+03 5.5e+03 6e+03 6.5e+03\n",
      "  * time        (time) object 2018-07-16 12:00:00\n",
      "    crs         object Projection: latitude_longitude\n",
      "  * z_i         (z_i) float64 0.0 5.0 15.0 25.0 ... 5.75e+03 6.25e+03 6.75e+03\n",
      "  * xq          (xq) float64 -298.5 -298.3 -298.1 -297.8 ... 60.77 61.0 61.23\n",
      "  * yq          (yq) float64 -83.6 -83.52 -83.45 -83.37 ... 89.73 89.84 89.95\n",
      "  * nv          (nv) float64 1.0 2.0\n",
      "Data variables:\n",
      "    volcello    (time, z_l, yh, xh) float32 ...\n",
      "    thetao      (time, z_l, yh, xh) float32 ...\n",
      "    so          (time, z_l, yh, xh) float32 ...\n",
      "    obvfsq      (time, z_i, yh, xh) float32 ...\n",
      "    uo          (time, z_l, yh, xq) float32 ...\n",
      "    vo          (time, z_l, yq, xh) float32 ...\n",
      "    umo         (time, z_l, yh, xq) float32 ...\n",
      "    vmo         (time, z_l, yq, xh) float32 ...\n",
      "    vhml        (time, z_l, yq, xh) float32 ...\n",
      "    time_bnds   (time, nv) timedelta64[ns] ...\n",
      "    average_T1  (time) datetime64[ns] ...\n",
      "    average_T2  (time) datetime64[ns] ...\n",
      "    average_DT  (time) timedelta64[ns] ...\n",
      "Attributes:\n",
      "    filename:   ocean_monthly_z_d2.2018.07.nc\n",
      "    title:      OM4p125_JRA55do1.4_cycle1\n",
      "    grid_type:  regular\n",
      "    grid_tile:  N/A\n",
      "    comment:    FMS time averaging, version 3.0, precision=double\n",
      "<xarray.DataArray 'xh' (xh: 1440)>\n",
      "array([-298.604803, -298.372071, -298.139319, ...,   60.697121,   60.929793,\n",
      "         61.162485])\n",
      "Coordinates:\n",
      "  * xh       (xh) float64 -298.6 -298.4 -298.1 -297.9 ... 60.46 60.7 60.93 61.16\n",
      "    crs      object Projection: latitude_longitude\n",
      "Attributes:\n",
      "    long_name:       h point nominal longitude\n",
      "    units:           degrees_east\n",
      "    cartesian_axis:  X\n",
      "<xarray.DataArray 'yh' (yh: 1120)>\n",
      "array([-83.622544, -83.543748, -83.464814, ...,  89.702759,  89.810847,\n",
      "        89.918934])\n",
      "Coordinates:\n",
      "  * yh       (yh) float64 -83.62 -83.54 -83.46 -83.39 ... 89.59 89.7 89.81 89.92\n",
      "    crs      object Projection: latitude_longitude\n",
      "Attributes:\n",
      "    long_name:       h point nominal latitude\n",
      "    units:           degrees_north\n",
      "    cartesian_axis:  Y\n",
      "<xarray.Dataset>\n",
      "Dimensions:       (xh: 2880, xq: 2880, yh: 2240, yq: 2240)\n",
      "Coordinates:\n",
      "  * xq            (xq) float64 -298.5 -298.4 -298.3 -298.2 ... 61.12 61.23 61.35\n",
      "  * yq            (yq) float64 -83.6 -83.56 -83.52 -83.48 ... 89.89 89.95 90.0\n",
      "    crs           object Projection: latitude_longitude\n",
      "  * xh            (xh) float64 -298.6 -298.5 -298.4 -298.3 ... 61.05 61.16 61.28\n",
      "  * yh            (yh) float64 -83.62 -83.58 -83.54 -83.5 ... 89.86 89.92 89.97\n",
      "Data variables:\n",
      "    Coriolis      (yq, xq) float32 ...\n",
      "    areacello     (yh, xh) float32 ...\n",
      "    areacello_bu  (yq, xq) float32 ...\n",
      "    areacello_cu  (yh, xq) float32 ...\n",
      "    areacello_cv  (yq, xh) float32 ...\n",
      "    deptho        (yh, xh) float32 ...\n",
      "    dxCu          (yh, xq) float32 ...\n",
      "    dxCv          (yq, xh) float32 ...\n",
      "    dxt           (yh, xh) float32 ...\n",
      "    dyCu          (yh, xq) float32 ...\n",
      "    dyCv          (yq, xh) float32 ...\n",
      "    dyt           (yh, xh) float32 ...\n",
      "    geolat        (yh, xh) float32 ...\n",
      "    geolat_c      (yq, xq) float32 ...\n",
      "    geolat_u      (yh, xq) float32 ...\n",
      "    geolat_v      (yq, xh) float32 ...\n",
      "    geolon        (yh, xh) float32 ...\n",
      "    geolon_c      (yq, xq) float32 ...\n",
      "    geolon_u      (yh, xq) float32 ...\n",
      "    geolon_v      (yq, xh) float32 ...\n",
      "    hfgeou        (yh, xh) float32 ...\n",
      "    sftof         (yh, xh) float32 ...\n",
      "    wet           (yh, xh) float32 ...\n",
      "    wet_c         (yq, xq) float32 ...\n",
      "    wet_u         (yh, xq) float32 ...\n",
      "    wet_v         (yq, xh) float32 ...\n",
      "Attributes:\n",
      "    external_variables:  areacello areacello\n"
     ]
    }
   ],
   "source": [
    "print(data)\n",
    "print(data.xh)\n",
    "print(data.yh)\n",
    "print(data1)"
   ]
  },
  {
   "cell_type": "code",
   "execution_count": 5,
   "metadata": {},
   "outputs": [],
   "source": [
    "# Specify domain lat/lon limits F1 and S1\n",
    "lat_lim1 = np.array([-50, -60]);\n",
    "lat_lim2 = np.array([-40, -50]);\n",
    "lon_lim1 = np.array([-270, -185]);\n",
    "lon_lim2 = np.array([-255, -170]);"
   ]
  },
  {
   "cell_type": "code",
   "execution_count": 10,
   "metadata": {},
   "outputs": [],
   "source": [
    "# Compute gradietns using metpy\n",
    "x, y = data1['deptho'].metpy.coordinates('x', 'y');\n",
    "depth = data1['deptho'];\n",
    "# lat, lon = xr.broadcast(y, x);\n",
    "lat = data1['geolat']\n",
    "lon = data1['geolon']\n",
    "f = mpcalc.coriolis_parameter(lat)\n",
    "depth_crs = data1['deptho'].metpy.cartopy_crs;\n",
    "dx, dy = mpcalc.lat_lon_grid_deltas(lon, lat, initstring=depth_crs.proj4_init)\n",
    "#dx = data1['dxt']\n",
    "#dy = data1['dyt']\n",
    "depth_y, depth_x = mpcalc.gradient(depth, deltas=(dy, dx))\n",
    "beta, tmp = mpcalc.gradient(f, deltas = (dy, dx))"
   ]
  },
  {
   "cell_type": "code",
   "execution_count": 15,
   "metadata": {},
   "outputs": [
    {
     "name": "stdout",
     "output_type": "stream",
     "text": [
      "<xarray.DataArray 'obvfsq' (time: 1, z_i: 36, yh: 1120, xh: 1440)>\n",
      "[58060800 values with dtype=float32]\n",
      "Coordinates:\n",
      "  * xh       (xh) float64 -298.6 -298.4 -298.1 -297.9 ... 60.46 60.7 60.93 61.16\n",
      "  * yh       (yh) float64 -83.62 -83.54 -83.46 -83.39 ... 89.59 89.7 89.81 89.92\n",
      "  * time     (time) object 2018-01-16 12:00:00\n",
      "    crs      object Projection: latitude_longitude\n",
      "  * z_i      (z_i) float64 0.0 5.0 15.0 25.0 ... 5.75e+03 6.25e+03 6.75e+03\n",
      "Attributes:\n",
      "    long_name:      Square of seawater buoyancy frequency\n",
      "    units:          s-2\n",
      "    standard_name:  square_of_brunt_vaisala_frequency_in_sea_water\n",
      "    cell_methods:   area:mean z_i:point yh:mean xh:mean time: mean\n",
      "    time_avg_info:  average_T1,average_T2,average_DT\n"
     ]
    }
   ],
   "source": [
    "print(data.obvfsq)\n",
    "#beta, tmp = mpcalc.gradient(f, deltas = (dy, dx))\n",
    "#plt.contourf(x, y, beta)\n",
    "#plt.colorbar()"
   ]
  },
  {
   "cell_type": "code",
   "execution_count": 20,
   "metadata": {},
   "outputs": [
    {
     "data": {
      "text/plain": [
       "Text(0.5, 0, 'lon')"
      ]
     },
     "execution_count": 20,
     "metadata": {},
     "output_type": "execute_result"
    }
   ],
   "source": [
    "%matplotlib qt\n",
    "extent = [lon_lim1[0], lon_lim2[0], lat_lim1[0], lat_lim2[0]];\n",
    "fig = plt.figure()\n",
    "ax = plt.axes(projection = ccrs.PlateCarree(central_longitude = data.xh[720] + 150))#central_longitude = data.xh[720] + 120))\n",
    "#ax.set_extent(extent)\n",
    "ax.gridlines(linewidth = 0.5)\n",
    "#ax.coastlines(linewidth = 0.8)\n",
    "ax.add_feature(cfeature.LAND, edgecolor='black')\n",
    "#feature = ax.add_feature(coast, edgecolor='gray')\n",
    "#f = ax.contourf(data.xh, data.yh, data.thetao.metpy.loc[{'time': data.time[0], 'vertical': data.z_l[0]}], \n",
    "#             20, transform=ccrs.PlateCarree(), cmap=cm.get_cmap(\"Spectral\"), cbar_kwargs={'shrink': 0.4})\n",
    "data.thetao.metpy.loc[{'time': data.time[0], 'vertical': data.z_l[0]}].plot(ax = ax, \n",
    "       transform=ccrs.PlateCarree(), vmin = 0, vmax = 30, cmap=cm.get_cmap(\"Spectral\"), cbar_kwargs={'shrink': 0.4})\n",
    "#plt.colorbar(f, ax=ax)\n",
    "ax.set_ylabel(\"lat\")\n",
    "ax.set_xlabel(\"lon\")"
   ]
  },
  {
   "cell_type": "code",
   "execution_count": 14,
   "metadata": {},
   "outputs": [
    {
     "data": {
      "text/plain": [
       "(-80, -30)"
      ]
     },
     "execution_count": 14,
     "metadata": {},
     "output_type": "execute_result"
    }
   ],
   "source": [
    "%matplotlib qt\n",
    "fig, axs = plt.subplots(nrows = 4, ncols = 1, sharex = True)\n",
    "pcm = axs[0].contourf(data.xh, data.yh, data.thetao.metpy.loc[{'time': data.time[0], 'vertical': data.z_l[0]}], \n",
    "                      np.arange(-2, 22, 2), extend = 'both', cmap = cm.viridis)\n",
    "fig.colorbar(pcm, ax = axs[0])\n",
    "axs[0].set_ylabel('lat')\n",
    "axs[0].set_ylim(-80, -30)\n",
    "axs[0].set_title('Surface Potential Temperature (DegC)')\n",
    "\n",
    "pcm = axs[1].contourf(data.xq, data.yh, data.uo.metpy.loc[{'time': data.time[0], 'vertical': data.z_l[0]}], \n",
    "                      np.arange(-0.5, 0.6, 0.05), extend = 'both', cmap = cm.Spectral_r)\n",
    "fig.colorbar(pcm, ax=axs[1])\n",
    "axs[1].set_ylabel('lat')\n",
    "axs[1].set_title('Surface Zonal Velocity')\n",
    "axs[1].set_ylim(-80, -30)\n",
    "\n",
    "pcm = axs[2].contourf(data.xh, data.yq, data.vo.metpy.loc[{'time': data.time[0], 'vertical': data.z_l[0]}],\n",
    "                      np.arange(-0.5, 0.6, 0.05), extend = 'both', cmap = cm.Spectral_r)\n",
    "fig.colorbar(pcm, ax = axs[2])\n",
    "axs[2].set_ylabel('lat')\n",
    "axs[2].set_title('Surface Meridional Velocity')\n",
    "axs[2].set_ylim(-80, -30)\n",
    "\n",
    "pcm = axs[3].contourf(x,y,np.sqrt(f**2*depth_x**2 + f**2*depth_y**2)/(beta*4000), np.arange(0, 51, 1), \n",
    "                      extend = 'both', cmap = cm.nipy_spectral)\n",
    "fig.colorbar(pcm,ax=axs[3])\n",
    "axs[3].set_ylabel('lat')\n",
    "axs[3].set_xlabel('lon')\n",
    "axs[3].set_title('f*grad(eta_b)/(beta*H)')\n",
    "axs[3].set_ylim(-80, -30)"
   ]
  },
  {
   "cell_type": "code",
   "execution_count": 20,
   "metadata": {},
   "outputs": [
    {
     "data": {
      "text/plain": [
       "<matplotlib.colorbar.Colorbar at 0x2ba3dd811f10>"
      ]
     },
     "execution_count": 20,
     "metadata": {},
     "output_type": "execute_result"
    }
   ],
   "source": [
    "plt.contourf(data.xh, data.yh, data.obvfsq.metpy.loc[{'time': data.time[0], 'vertical': data.z_i[5]}], 20,\n",
    "                      extend = 'both', cmap = cm.Spectral)\n",
    "plt.colorbar()"
   ]
  },
  {
   "cell_type": "code",
   "execution_count": 7,
   "metadata": {},
   "outputs": [],
   "source": [
    "fig.savefig('/home/Hemant.Khatri/Work/U_T_Southern_07_2018.png', format = 'png', dpi=150)"
   ]
  },
  {
   "cell_type": "code",
   "execution_count": 8,
   "metadata": {},
   "outputs": [],
   "source": [
    "data.close()\n",
    "data1.close()"
   ]
  },
  {
   "cell_type": "code",
   "execution_count": null,
   "metadata": {},
   "outputs": [],
   "source": []
  }
 ],
 "metadata": {
  "kernelspec": {
   "display_name": "Python 3",
   "language": "python",
   "name": "python3"
  },
  "language_info": {
   "codemirror_mode": {
    "name": "ipython",
    "version": 3
   },
   "file_extension": ".py",
   "mimetype": "text/x-python",
   "name": "python",
   "nbconvert_exporter": "python",
   "pygments_lexer": "ipython3",
   "version": "3.7.4"
  }
 },
 "nbformat": 4,
 "nbformat_minor": 2
}
