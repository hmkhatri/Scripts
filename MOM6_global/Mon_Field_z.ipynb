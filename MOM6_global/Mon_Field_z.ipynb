{
 "cells": [
  {
   "cell_type": "markdown",
   "metadata": {},
   "source": [
    "# Lon-z plots \n",
    "We plot lon-z plots for the monthly mean zonal velocity, N^2, Temperature in difference sections of the Soutehrn Ocean."
   ]
  },
  {
   "cell_type": "code",
   "execution_count": 10,
   "metadata": {},
   "outputs": [],
   "source": [
    "import numpy as np\n",
    "import scipy as sc\n",
    "import matplotlib.pyplot as plt\n",
    "import matplotlib.cm as cm\n",
    "import cartopy.crs as ccrs\n",
    "import cartopy.feature as cfeature\n",
    "from cartopy.feature import NaturalEarthFeature\n",
    "import pandas as pd\n",
    "import xarray as xr\n",
    "import metpy.calc as mpcalc\n",
    "from metpy.units import units\n",
    "import glob\n",
    "from xgcm import Grid"
   ]
  },
  {
   "cell_type": "code",
   "execution_count": 11,
   "metadata": {},
   "outputs": [
    {
     "name": "stdout",
     "output_type": "stream",
     "text": [
      "/archive/Raphael.Dussin/xanadu_esm4_20190304_mom6_2019.08.08/OM4p125_JRA55do1.4_cycle1/gfdl.ncrc4-intel16-prod/pp/ocean_monthly_z_d2/av/monthly_1yr/ocean_monthly_z_d2.2018.01.nc\n"
     ]
    }
   ],
   "source": [
    "file_path = '/archive/Raphael.Dussin/xanadu_esm4_20190304_mom6_2019.08.08/OM4p125_JRA55do1.4_cycle1/gfdl.ncrc4-intel16-prod/pp/ocean_monthly_z_d2/';\n",
    "file_name = glob.glob(file_path+'av/monthly_1yr/*.nc')\n",
    "topo_file = 'ocean_monthly_z_d2.static.nc';\n",
    "print(file_name[0])"
   ]
  },
  {
   "cell_type": "code",
   "execution_count": 73,
   "metadata": {},
   "outputs": [
    {
     "name": "stdout",
     "output_type": "stream",
     "text": [
      "<xarray.Dataset>\n",
      "Dimensions:     (nv: 2, time: 1, xh: 1440, xq: 1440, yh: 1120, yq: 1120, z_i: 36, z_l: 35)\n",
      "Coordinates:\n",
      "  * xh          (xh) float64 -298.6 -298.4 -298.1 -297.9 ... 60.7 60.93 61.16\n",
      "  * yh          (yh) float64 -83.62 -83.54 -83.46 -83.39 ... 89.7 89.81 89.92\n",
      "  * z_l         (z_l) float64 2.5 10.0 20.0 32.5 ... 5e+03 5.5e+03 6e+03 6.5e+03\n",
      "  * z_i         (z_i) float64 0.0 5.0 15.0 25.0 ... 5.75e+03 6.25e+03 6.75e+03\n",
      "  * time        (time) object 2018-07-16 12:00:00\n",
      "  * nv          (nv) float64 1.0 2.0\n",
      "  * xq          (xq) float64 -298.5 -298.3 -298.1 -297.8 ... 60.77 61.0 61.23\n",
      "  * yq          (yq) float64 -83.6 -83.52 -83.45 -83.37 ... 89.73 89.84 89.95\n",
      "Data variables:\n",
      "    volcello    (time, z_l, yh, xh) float32 ...\n",
      "    thetao      (time, z_l, yh, xh) float32 ...\n",
      "    so          (time, z_l, yh, xh) float32 ...\n",
      "    obvfsq      (time, z_i, yh, xh) float32 ...\n",
      "    uo          (time, z_l, yh, xq) float32 ...\n",
      "    vo          (time, z_l, yq, xh) float32 ...\n",
      "    umo         (time, z_l, yh, xq) float32 ...\n",
      "    vmo         (time, z_l, yq, xh) float32 ...\n",
      "    vhml        (time, z_l, yq, xh) float32 ...\n",
      "    time_bnds   (time, nv) timedelta64[ns] ...\n",
      "    average_T1  (time) datetime64[ns] ...\n",
      "    average_T2  (time) datetime64[ns] ...\n",
      "    average_DT  (time) timedelta64[ns] ...\n",
      "Attributes:\n",
      "    filename:   ocean_monthly_z_d2.2018.07.nc\n",
      "    title:      OM4p125_JRA55do1.4_cycle1\n",
      "    grid_type:  regular\n",
      "    grid_tile:  N/A\n",
      "    comment:    FMS time averaging, version 3.0, precision=double\n"
     ]
    }
   ],
   "source": [
    "ds = xr.open_dataset(file_name[6])\n",
    "print(ds)"
   ]
  },
  {
   "cell_type": "code",
   "execution_count": 74,
   "metadata": {},
   "outputs": [],
   "source": [
    "# Specify domain lat/lon limits for sections\n",
    "lat_lim = np.array([-70., -40.]);\n",
    "lon_mid = np.array([-240., -180., -110., 0.]);\n",
    "dif_lon = 15.;"
   ]
  },
  {
   "cell_type": "code",
   "execution_count": 75,
   "metadata": {},
   "outputs": [
    {
     "name": "stdout",
     "output_type": "stream",
     "text": [
      "<xarray.DataArray 'uo' (time: 1, z_l: 35, yh: 1120, xq: 1440)>\n",
      "[56448000 values with dtype=float32]\n",
      "Coordinates:\n",
      "  * yh       (yh) float64 -83.62 -83.54 -83.46 -83.39 ... 89.59 89.7 89.81 89.92\n",
      "  * z_l      (z_l) float64 2.5 10.0 20.0 32.5 ... 5e+03 5.5e+03 6e+03 6.5e+03\n",
      "  * time     (time) object 2018-07-16 12:00:00\n",
      "  * xq       (xq) float64 -298.5 -298.3 -298.1 -297.8 ... 60.54 60.77 61.0 61.23\n",
      "Attributes:\n",
      "    long_name:      Sea Water X Velocity\n",
      "    units:          m s-1\n",
      "    standard_name:  sea_water_x_velocity\n",
      "    interp_method:  none\n",
      "    cell_methods:   z_l:mean yh:mean xq:point time: mean\n",
      "    time_avg_info:  average_T1,average_T2,average_DT\n"
     ]
    }
   ],
   "source": [
    "print(ds.uo)"
   ]
  },
  {
   "cell_type": "code",
   "execution_count": 76,
   "metadata": {},
   "outputs": [
    {
     "name": "stderr",
     "output_type": "stream",
     "text": [
      "/home/Hemant.Khatri/anaconda3/envs/analysis_python3/lib/python3.7/site-packages/xarray/core/nanops.py:140: RuntimeWarning: Mean of empty slice\n",
      "  return np.nanmean(a, axis=axis, dtype=dtype)\n"
     ]
    }
   ],
   "source": [
    "%matplotlib qt\n",
    "fig = plt.figure()\n",
    "for i in range (0,len(lon_mid)):\n",
    "    \n",
    "    tmp_u = ds.uo.sel({'xq': slice(lon_mid[i]-dif_lon,lon_mid[i]+dif_lon), \n",
    "                   'yh': slice(lat_lim[0],lat_lim[1])}).mean(dim=['xq']) #skipna=False\n",
    "    tmp_N2 = ds.obvfsq.sel({'xh': slice(lon_mid[i]-dif_lon,lon_mid[i]+dif_lon), \n",
    "                   'yh': slice(lat_lim[0],lat_lim[1])}).mean(dim=['xh'])\n",
    "    tmp_vmo = ds.vmo.sel({'xh': slice(lon_mid[i]-dif_lon,lon_mid[i]+dif_lon), \n",
    "                   'yq': slice(lat_lim[0],lat_lim[1])}).mean(dim=['xh'])\n",
    "    tmp_vmo = tmp_vmo*2.\n",
    "    tmp_umo = ds.umo.sel({'xq': slice(lon_mid[i]-dif_lon,lon_mid[i]+dif_lon), \n",
    "                   'yh': slice(lat_lim[0],lat_lim[1])}).mean(dim=['xq'])\n",
    "    tmp_umo = tmp_umo*2.\n",
    "    \n",
    "    fig.add_subplot(len(lon_mid), 4, 4*i+1)\n",
    "    tmp_u.plot(cmap = 'Spectral_r', vmax = 0.15, extend='both', yincrease=False)\n",
    "    \n",
    "    fig.add_subplot(len(lon_mid), 4, 4*i+2)\n",
    "    np.power(tmp_N2,0.25).plot(cmap = 'nipy_spectral', vmin = 0., vmax = 0.12, yincrease=False)\n",
    "    \n",
    "    fig.add_subplot(len(lon_mid), 4, 4*i+3)\n",
    "    tmp_umo.plot(cmap = 'Spectral_r', vmax = 2.5e8, extend='both', yincrease=False)\n",
    "    \n",
    "    fig.add_subplot(len(lon_mid), 4, 4*i+4)\n",
    "    tmp_vmo.plot(cmap = 'Spectral_r', vmax = 0.5e8, extend='both', yincrease=False)\n",
    "    "
   ]
  },
  {
   "cell_type": "code",
   "execution_count": 77,
   "metadata": {},
   "outputs": [],
   "source": [
    "fig.savefig('/home/Hemant.Khatri/Work/Z_Southern_07_2018.png', format = 'png', dpi=150)"
   ]
  },
  {
   "cell_type": "code",
   "execution_count": 82,
   "metadata": {},
   "outputs": [],
   "source": [
    "ds.close()"
   ]
  },
  {
   "cell_type": "code",
   "execution_count": 81,
   "metadata": {},
   "outputs": [
    {
     "data": {
      "text/plain": [
       "<matplotlib.collections.QuadMesh at 0x2ba8ed618210>"
      ]
     },
     "execution_count": 81,
     "metadata": {},
     "output_type": "execute_result"
    }
   ],
   "source": [
    "tmp_vmo = ds.vmo.sel({'yq': slice(lat_lim[0],lat_lim[1])}).mean(dim=['yq'])\n",
    "tmp_vmo.plot(cmap = 'Spectral_r', extend='both', yincrease=False)"
   ]
  },
  {
   "cell_type": "code",
   "execution_count": null,
   "metadata": {},
   "outputs": [],
   "source": []
  }
 ],
 "metadata": {
  "kernelspec": {
   "display_name": "Python 3",
   "language": "python",
   "name": "python3"
  },
  "language_info": {
   "codemirror_mode": {
    "name": "ipython",
    "version": 3
   },
   "file_extension": ".py",
   "mimetype": "text/x-python",
   "name": "python",
   "nbconvert_exporter": "python",
   "pygments_lexer": "ipython3",
   "version": "3.7.4"
  }
 },
 "nbformat": 4,
 "nbformat_minor": 2
}
