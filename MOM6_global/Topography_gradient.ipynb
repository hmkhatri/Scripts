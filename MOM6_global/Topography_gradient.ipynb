{
 "cells": [
  {
   "cell_type": "markdown",
   "metadata": {},
   "source": [
    "Script to read ocean bathymetry data and plot horizontal gradients."
   ]
  },
  {
   "cell_type": "code",
   "execution_count": 7,
   "metadata": {},
   "outputs": [],
   "source": [
    "import numpy as np\n",
    "import scipy as sc\n",
    "import matplotlib.pyplot as plt\n",
    "import matplotlib.cm as cm\n",
    "from netCDF4 import Dataset\n",
    "import pandas as pd\n",
    "import xarray as xr\n",
    "import metpy.calc as mpcalc\n",
    "from metpy.units import units\n",
    "%matplotlib qt"
   ]
  },
  {
   "cell_type": "code",
   "execution_count": 9,
   "metadata": {},
   "outputs": [],
   "source": [
    "file_path = '/archive/Raphael.Dussin/xanadu_esm4_20190304_mom6_2019.08.08/OM4p125_JRA55do1.4_cycle1/gfdl.ncrc4-intel16-prod/pp/ocean_annual_z_d2/';\n",
    "file_name = 'ocean_annual_z_d2.static.nc';"
   ]
  },
  {
   "cell_type": "code",
   "execution_count": 11,
   "metadata": {},
   "outputs": [
    {
     "name": "stderr",
     "output_type": "stream",
     "text": [
      "Found lat/lon values, assuming latitude_longitude for projection grid_mapping variable\n",
      "Found lat/lon values, assuming latitude_longitude for projection grid_mapping variable\n",
      "Found lat/lon values, assuming latitude_longitude for projection grid_mapping variable\n",
      "Found lat/lon values, assuming latitude_longitude for projection grid_mapping variable\n",
      "Found lat/lon values, assuming latitude_longitude for projection grid_mapping variable\n",
      "Found lat/lon values, assuming latitude_longitude for projection grid_mapping variable\n",
      "Found lat/lon values, assuming latitude_longitude for projection grid_mapping variable\n",
      "Found lat/lon values, assuming latitude_longitude for projection grid_mapping variable\n",
      "Found lat/lon values, assuming latitude_longitude for projection grid_mapping variable\n",
      "Found lat/lon values, assuming latitude_longitude for projection grid_mapping variable\n",
      "Found lat/lon values, assuming latitude_longitude for projection grid_mapping variable\n",
      "Found lat/lon values, assuming latitude_longitude for projection grid_mapping variable\n",
      "Found lat/lon values, assuming latitude_longitude for projection grid_mapping variable\n",
      "Found lat/lon values, assuming latitude_longitude for projection grid_mapping variable\n",
      "Found lat/lon values, assuming latitude_longitude for projection grid_mapping variable\n",
      "Found lat/lon values, assuming latitude_longitude for projection grid_mapping variable\n",
      "Found lat/lon values, assuming latitude_longitude for projection grid_mapping variable\n",
      "Found lat/lon values, assuming latitude_longitude for projection grid_mapping variable\n"
     ]
    }
   ],
   "source": [
    "#fil = Dataset(file_path+file_name, 'r')\n",
    "fil = xr.open_dataset(file_path+file_name)\n",
    "data =  fil.metpy.parse_cf()"
   ]
  },
  {
   "cell_type": "code",
   "execution_count": 67,
   "metadata": {},
   "outputs": [
    {
     "name": "stdout",
     "output_type": "stream",
     "text": [
      "<xarray.DataArray 'deptho' (yh: 2240, xh: 2880)>\n",
      "array([[nan, nan, nan, ..., nan, nan, nan],\n",
      "       [nan, nan, nan, ..., nan, nan, nan],\n",
      "       [nan, nan, nan, ..., nan, nan, nan],\n",
      "       ...,\n",
      "       [nan, nan, nan, ..., nan, nan, nan],\n",
      "       [nan, nan, nan, ..., nan, nan, nan],\n",
      "       [nan, nan, nan, ..., nan, nan, nan]], dtype=float32)\n",
      "Coordinates:\n",
      "    crs      object Projection: latitude_longitude\n",
      "  * xh       (xh) float64 -298.6 -298.5 -298.4 -298.3 ... 61.05 61.16 61.28\n",
      "  * yh       (yh) float64 -83.62 -83.58 -83.54 -83.5 ... 89.81 89.86 89.92 89.97\n",
      "Attributes:\n",
      "    long_name:      Sea Floor Depth\n",
      "    units:          m\n",
      "    cell_methods:   area:mean yh:mean xh:mean time: point\n",
      "    cell_measures:  area: areacello\n",
      "    standard_name:  sea_floor_depth_below_geoid\n"
     ]
    }
   ],
   "source": [
    "print(data['deptho'])"
   ]
  },
  {
   "cell_type": "code",
   "execution_count": 70,
   "metadata": {},
   "outputs": [],
   "source": [
    "# Using netcdf directly\n",
    "#f.variables\n",
    "#lat = f.variables['yh'];\n",
    "#lon = f.variables['xh'];\n",
    "#depth = f.variables['deptho'];\n",
    "\n",
    "# using xarray\n",
    "#lat = f.yh;\n",
    "#lon = f.xh;\n",
    "#depth = f.deptho;\n",
    "\n",
    "# using metpy\n",
    "x, y = data['deptho'].metpy.coordinates('x', 'y');\n",
    "depth = data['deptho'];\n",
    "lat, lon = xr.broadcast(y, x);\n",
    "f = mpcalc.coriolis_parameter(lat)"
   ]
  },
  {
   "cell_type": "code",
   "execution_count": 23,
   "metadata": {},
   "outputs": [],
   "source": [
    "depth_crs = data['deptho'].metpy.cartopy_crs;\n",
    "dx, dy = mpcalc.lat_lon_grid_deltas(lon, lat, initstring=depth_crs.proj4_init)\n",
    "#[depth_y, depth_x] = np.gradient(depth[:,:], lat[:], lon[:])"
   ]
  },
  {
   "cell_type": "code",
   "execution_count": 60,
   "metadata": {},
   "outputs": [],
   "source": [
    "depth_y, depth_x = mpcalc.gradient(depth, deltas=(dy, dx))"
   ]
  },
  {
   "cell_type": "code",
   "execution_count": 93,
   "metadata": {},
   "outputs": [
    {
     "name": "stdout",
     "output_type": "stream",
     "text": [
      "<xarray.DataArray 'yh' (xh: 2880)>\n",
      "array([89.97297808, 89.97297808, 89.97297808, ..., 89.97297808,\n",
      "       89.97297808, 89.97297808])\n",
      "Coordinates:\n",
      "    crs      object Projection: latitude_longitude\n",
      "    yh       float64 89.97\n",
      "  * xh       (xh) float64 -298.6 -298.5 -298.4 -298.3 ... 61.05 61.16 61.28\n",
      "Attributes:\n",
      "    long_name:       h point nominal latitude\n",
      "    units:           degrees_north\n",
      "    cartesian_axis:  Y\n",
      "    _metpy_axis:     Y\n",
      "[6.12971213 6.12997384 6.13023443 ... 6.12865448 6.1289205  6.12918546] meter\n"
     ]
    }
   ],
   "source": [
    "#print(depth)\n",
    "#print(lat.shape);\n",
    "#print(lon.shape);\n",
    "#print(depth_x.shape);\n",
    "print(lat[2239,:]);\n",
    "print(dx[2239,:])\n",
    "#print(dx1[2200:,2000])\n",
    "#plt.plot(x.diff(1))\n",
    "#plt.plot(y.diff(1))"
   ]
  },
  {
   "cell_type": "code",
   "execution_count": 131,
   "metadata": {},
   "outputs": [
    {
     "data": {
      "text/plain": [
       "(-80, -30)"
      ]
     },
     "execution_count": 131,
     "metadata": {},
     "output_type": "execute_result"
    }
   ],
   "source": [
    "fig, axs = plt.subplots(nrows = 4, ncols = 1, sharex = True)\n",
    "pcm = axs[0].contourf(x,y,depth[:,:], np.arange(0,6500,500), extend = 'both', cmap = cm.terrain)\n",
    "fig.colorbar(pcm, ax = axs[0])\n",
    "axs[0].set_ylabel('lat')\n",
    "axs[0].set_ylim(-80, -30)\n",
    "axs[0].set_title('Depth (m)')\n",
    "\n",
    "pcm = axs[1].contourf(x,y,-f*depth_x[:,:], np.arange(-10**-5, 1.1*10**-5, 10**-6), extend = 'both', cmap = cm.Spectral)\n",
    "fig.colorbar(pcm, ax=axs[1])\n",
    "axs[1].set_ylabel('lat')\n",
    "axs[1].set_title('f*d/dx(Topography)')\n",
    "axs[1].set_ylim(-80, -30)\n",
    "\n",
    "pcm = axs[2].contourf(x,y,-f*depth_y[:,:], np.arange(-10**-5, 1.1*10**-5, 10**-6), extend = 'both', cmap = cm.Spectral)\n",
    "fig.colorbar(pcm, ax = axs[2])\n",
    "axs[2].set_ylabel('lat')\n",
    "axs[2].set_title('f*d/dy(Topography)')\n",
    "axs[2].set_ylim(-80, -30)\n",
    "\n",
    "pcm = axs[3].contourf(x,y,np.sqrt(f**2*depth_x**2 + f**2*depth_y**2), np.arange(0, 2.1*10**-5, 2*10**-6), cmap = cm.BuGn)\n",
    "fig.colorbar(pcm,ax=axs[3])\n",
    "axs[3].set_ylabel('lat')\n",
    "axs[3].set_xlabel('lon')\n",
    "axs[3].set_title('Absolute gradient term')\n",
    "axs[3].set_ylim(-80, -30)"
   ]
  },
  {
   "cell_type": "code",
   "execution_count": 133,
   "metadata": {},
   "outputs": [],
   "source": [
    "fig.savefig('/home/Hemant.Khatri/Work/Topography_southern_ocean1.eps', format = 'eps', dpi=300)"
   ]
  },
  {
   "cell_type": "code",
   "execution_count": 134,
   "metadata": {},
   "outputs": [
    {
     "data": {
      "text/plain": [
       "4775.502087340665"
      ]
     },
     "execution_count": 134,
     "metadata": {},
     "output_type": "execute_result"
    }
   ],
   "source": [
    "2*np.pi*6400*1000*np.cos(70*np.pi/180)/2880"
   ]
  },
  {
   "cell_type": "code",
   "execution_count": 126,
   "metadata": {},
   "outputs": [
    {
     "data": {
      "text/plain": [
       "-7.903880608716085e-06"
      ]
     },
     "execution_count": 126,
     "metadata": {},
     "output_type": "execute_result"
    }
   ],
   "source": [
    "np.nanmean(depth_x)"
   ]
  },
  {
   "cell_type": "code",
   "execution_count": 139,
   "metadata": {},
   "outputs": [],
   "source": [
    "data.close()"
   ]
  },
  {
   "cell_type": "code",
   "execution_count": null,
   "metadata": {},
   "outputs": [],
   "source": []
  }
 ],
 "metadata": {
  "kernelspec": {
   "display_name": "Python 3",
   "language": "python",
   "name": "python3"
  },
  "language_info": {
   "codemirror_mode": {
    "name": "ipython",
    "version": 3
   },
   "file_extension": ".py",
   "mimetype": "text/x-python",
   "name": "python",
   "nbconvert_exporter": "python",
   "pygments_lexer": "ipython3",
   "version": "3.7.4"
  }
 },
 "nbformat": 4,
 "nbformat_minor": 4
}
